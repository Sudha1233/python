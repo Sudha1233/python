{
 "cells": [
  {
   "cell_type": "code",
   "execution_count": 1,
   "id": "94e12318",
   "metadata": {
    "ExecuteTime": {
     "end_time": "2022-06-20T07:55:06.450822Z",
     "start_time": "2022-06-20T07:55:06.257090Z"
    }
   },
   "outputs": [],
   "source": [
    "odds={1,3,5,7,9}\n",
    "even={2,4,6,8,10}\n",
    "prime={1,3,5,7}\n",
    "composits={1,2,4,5,6,8,9}"
   ]
  },
  {
   "cell_type": "code",
   "execution_count": 2,
   "id": "3ff3dab4",
   "metadata": {
    "ExecuteTime": {
     "end_time": "2022-06-20T07:55:06.513096Z",
     "start_time": "2022-06-20T07:55:06.453816Z"
    }
   },
   "outputs": [
    {
     "data": {
      "text/plain": [
       "{1, 2, 3, 4, 5, 6, 7, 8, 9, 10}"
      ]
     },
     "execution_count": 2,
     "metadata": {},
     "output_type": "execute_result"
    }
   ],
   "source": [
    "odds.union(even)"
   ]
  },
  {
   "cell_type": "code",
   "execution_count": 3,
   "id": "bd640576",
   "metadata": {
    "ExecuteTime": {
     "end_time": "2022-06-20T07:55:06.763625Z",
     "start_time": "2022-06-20T07:55:06.518077Z"
    }
   },
   "outputs": [
    {
     "data": {
      "text/plain": [
       "{1, 2, 3, 4, 5, 6, 7, 8, 9, 10}"
      ]
     },
     "execution_count": 3,
     "metadata": {},
     "output_type": "execute_result"
    }
   ],
   "source": [
    "even.union(odds)"
   ]
  },
  {
   "cell_type": "code",
   "execution_count": 4,
   "id": "57567ffb",
   "metadata": {
    "ExecuteTime": {
     "end_time": "2022-06-20T07:55:06.903102Z",
     "start_time": "2022-06-20T07:55:06.769614Z"
    }
   },
   "outputs": [
    {
     "data": {
      "text/plain": [
       "set()"
      ]
     },
     "execution_count": 4,
     "metadata": {},
     "output_type": "execute_result"
    }
   ],
   "source": [
    "even.intersection(odds)"
   ]
  },
  {
   "cell_type": "code",
   "execution_count": 5,
   "id": "085e7b38",
   "metadata": {
    "ExecuteTime": {
     "end_time": "2022-06-20T07:55:07.028140Z",
     "start_time": "2022-06-20T07:55:06.906357Z"
    }
   },
   "outputs": [
    {
     "data": {
      "text/plain": [
       "{1, 5, 9}"
      ]
     },
     "execution_count": 5,
     "metadata": {},
     "output_type": "execute_result"
    }
   ],
   "source": [
    "odds.intersection(composits)"
   ]
  },
  {
   "cell_type": "code",
   "execution_count": 6,
   "id": "7fa71921",
   "metadata": {
    "ExecuteTime": {
     "end_time": "2022-06-20T07:55:07.186649Z",
     "start_time": "2022-06-20T07:55:07.032131Z"
    }
   },
   "outputs": [
    {
     "data": {
      "text/plain": [
       "{3, 7}"
      ]
     },
     "execution_count": 6,
     "metadata": {},
     "output_type": "execute_result"
    }
   ],
   "source": [
    "odds.difference(composits)"
   ]
  },
  {
   "cell_type": "code",
   "execution_count": 7,
   "id": "92fe5288",
   "metadata": {
    "ExecuteTime": {
     "end_time": "2022-06-20T07:55:07.313184Z",
     "start_time": "2022-06-20T07:55:07.190642Z"
    }
   },
   "outputs": [
    {
     "data": {
      "text/plain": [
       "{2, 4, 6, 8}"
      ]
     },
     "execution_count": 7,
     "metadata": {},
     "output_type": "execute_result"
    }
   ],
   "source": [
    "composits.difference(odds)"
   ]
  },
  {
   "cell_type": "code",
   "execution_count": 8,
   "id": "9a1babff",
   "metadata": {
    "ExecuteTime": {
     "end_time": "2022-06-20T07:55:07.547698Z",
     "start_time": "2022-06-20T07:55:07.317172Z"
    }
   },
   "outputs": [],
   "source": [
    "a={1,3,5,7,9}\n",
    "b={1,2,4,5,6,8,9}"
   ]
  },
  {
   "cell_type": "code",
   "execution_count": 9,
   "id": "89492637",
   "metadata": {
    "ExecuteTime": {
     "end_time": "2022-06-20T07:55:07.737461Z",
     "start_time": "2022-06-20T07:55:07.550691Z"
    }
   },
   "outputs": [
    {
     "data": {
      "text/plain": [
       "{3, 7}"
      ]
     },
     "execution_count": 9,
     "metadata": {},
     "output_type": "execute_result"
    }
   ],
   "source": [
    "a-b "
   ]
  },
  {
   "cell_type": "code",
   "execution_count": 10,
   "id": "d2a42a88",
   "metadata": {
    "ExecuteTime": {
     "end_time": "2022-06-20T07:55:08.019451Z",
     "start_time": "2022-06-20T07:55:07.755414Z"
    }
   },
   "outputs": [
    {
     "data": {
      "text/plain": [
       "{2, 4, 6, 8}"
      ]
     },
     "execution_count": 10,
     "metadata": {},
     "output_type": "execute_result"
    }
   ],
   "source": [
    "b-a "
   ]
  },
  {
   "cell_type": "code",
   "execution_count": 11,
   "id": "184998f8",
   "metadata": {
    "ExecuteTime": {
     "end_time": "2022-06-20T07:55:08.254218Z",
     "start_time": "2022-06-20T07:55:08.021446Z"
    }
   },
   "outputs": [
    {
     "data": {
      "text/plain": [
       "{1, 5, 9}"
      ]
     },
     "execution_count": 11,
     "metadata": {},
     "output_type": "execute_result"
    }
   ],
   "source": [
    "a&b "
   ]
  },
  {
   "cell_type": "code",
   "execution_count": 12,
   "id": "2c4f6e6d",
   "metadata": {
    "ExecuteTime": {
     "end_time": "2022-06-20T07:55:08.552674Z",
     "start_time": "2022-06-20T07:55:08.257208Z"
    }
   },
   "outputs": [
    {
     "data": {
      "text/plain": [
       "{2, 3, 4, 6, 7, 8}"
      ]
     },
     "execution_count": 12,
     "metadata": {},
     "output_type": "execute_result"
    }
   ],
   "source": [
    "(a-b).union(b-a)"
   ]
  },
  {
   "cell_type": "code",
   "execution_count": 13,
   "id": "a41184a8",
   "metadata": {
    "ExecuteTime": {
     "end_time": "2022-06-20T07:55:08.769273Z",
     "start_time": "2022-06-20T07:55:08.557660Z"
    }
   },
   "outputs": [
    {
     "data": {
      "text/plain": [
       "{2, 3, 4, 6, 7, 8}"
      ]
     },
     "execution_count": 13,
     "metadata": {},
     "output_type": "execute_result"
    }
   ],
   "source": [
    "a.symmetric_difference(b)"
   ]
  },
  {
   "cell_type": "code",
   "execution_count": 14,
   "id": "0668df64",
   "metadata": {
    "ExecuteTime": {
     "end_time": "2022-06-20T07:55:08.942691Z",
     "start_time": "2022-06-20T07:55:08.773264Z"
    }
   },
   "outputs": [
    {
     "data": {
      "text/plain": [
       "{2, 3, 4, 6, 7, 8}"
      ]
     },
     "execution_count": 14,
     "metadata": {},
     "output_type": "execute_result"
    }
   ],
   "source": [
    "a^b"
   ]
  },
  {
   "cell_type": "code",
   "execution_count": 15,
   "id": "433398e1",
   "metadata": {
    "ExecuteTime": {
     "end_time": "2022-06-20T07:55:09.348422Z",
     "start_time": "2022-06-20T07:55:08.949671Z"
    }
   },
   "outputs": [],
   "source": [
    "mydata=[1,2,5,2,1,3,5,6,4,3,2,5,7,8,8,9,0,6,5,4,1]"
   ]
  },
  {
   "cell_type": "code",
   "execution_count": 16,
   "id": "969cd675",
   "metadata": {
    "ExecuteTime": {
     "end_time": "2022-06-20T07:55:09.490867Z",
     "start_time": "2022-06-20T07:55:09.351144Z"
    }
   },
   "outputs": [
    {
     "data": {
      "text/plain": [
       "{0, 1, 2, 3, 4, 5, 6, 7, 8, 9}"
      ]
     },
     "execution_count": 16,
     "metadata": {},
     "output_type": "execute_result"
    }
   ],
   "source": [
    "mydata1=set(mydata)\n",
    "mydata1"
   ]
  },
  {
   "cell_type": "code",
   "execution_count": 17,
   "id": "646df32f",
   "metadata": {
    "ExecuteTime": {
     "end_time": "2022-06-20T07:55:09.599341Z",
     "start_time": "2022-06-20T07:55:09.495850Z"
    }
   },
   "outputs": [
    {
     "data": {
      "text/plain": [
       "set"
      ]
     },
     "execution_count": 17,
     "metadata": {},
     "output_type": "execute_result"
    }
   ],
   "source": [
    "type(mydata1)"
   ]
  },
  {
   "cell_type": "code",
   "execution_count": 18,
   "id": "b8fe52f1",
   "metadata": {
    "ExecuteTime": {
     "end_time": "2022-06-20T07:55:09.724816Z",
     "start_time": "2022-06-20T07:55:09.603331Z"
    }
   },
   "outputs": [
    {
     "data": {
      "text/plain": [
       "[0, 1, 2, 3, 4, 5, 6, 7, 8, 9]"
      ]
     },
     "execution_count": 18,
     "metadata": {},
     "output_type": "execute_result"
    }
   ],
   "source": [
    "mydata1=list(set(mydata))\n",
    "mydata1"
   ]
  },
  {
   "cell_type": "code",
   "execution_count": 19,
   "id": "2c2a174b",
   "metadata": {
    "ExecuteTime": {
     "end_time": "2022-06-20T07:55:09.833677Z",
     "start_time": "2022-06-20T07:55:09.731798Z"
    }
   },
   "outputs": [
    {
     "data": {
      "text/plain": [
       "list"
      ]
     },
     "execution_count": 19,
     "metadata": {},
     "output_type": "execute_result"
    }
   ],
   "source": [
    "type(mydata1)"
   ]
  },
  {
   "cell_type": "markdown",
   "id": "0c480946",
   "metadata": {
    "ExecuteTime": {
     "end_time": "2022-06-20T07:55:09.958641Z",
     "start_time": "2022-06-20T07:55:09.837666Z"
    }
   },
   "source": [
    "## Immutable           ##Mutable\n",
    "numbers                  List               \n",
    "strings                  dictonary  \n",
    "tuples                   Set   \n"
   ]
  },
  {
   "cell_type": "markdown",
   "id": "521e9893",
   "metadata": {},
   "source": [
    "# List comprehension"
   ]
  },
  {
   "cell_type": "code",
   "execution_count": null,
   "id": "928f145d",
   "metadata": {},
   "outputs": [],
   "source": [
    "[expression for x in collection/sequence]\n",
    "[expression for x in collection/sequence if cond]\n",
    "[expression for x in collection/sequence if cond1 & cond2]\n",
    "[expression for x in collection/sequence for y in collection/sequence]"
   ]
  },
  {
   "cell_type": "code",
   "execution_count": 22,
   "id": "3270b3e6",
   "metadata": {
    "ExecuteTime": {
     "end_time": "2022-06-20T07:57:21.215735Z",
     "start_time": "2022-06-20T07:57:21.191824Z"
    }
   },
   "outputs": [
    {
     "data": {
      "text/plain": [
       "[1, 2, 3, 4, 5, 6, 7, 8, 9, 10]"
      ]
     },
     "execution_count": 22,
     "metadata": {},
     "output_type": "execute_result"
    }
   ],
   "source": [
    "list(range(1,11))"
   ]
  },
  {
   "cell_type": "code",
   "execution_count": 23,
   "id": "dec78250",
   "metadata": {
    "ExecuteTime": {
     "end_time": "2022-06-20T08:25:08.335070Z",
     "start_time": "2022-06-20T08:25:08.320112Z"
    }
   },
   "outputs": [
    {
     "data": {
      "text/plain": [
       "[1, 4, 9, 16, 25, 36, 49, 64, 81, 100]"
      ]
     },
     "execution_count": 23,
     "metadata": {},
     "output_type": "execute_result"
    }
   ],
   "source": [
    "[x**2 for x in range (1,11)]"
   ]
  },
  {
   "cell_type": "code",
   "execution_count": 25,
   "id": "e1d7a10e",
   "metadata": {
    "ExecuteTime": {
     "end_time": "2022-06-20T08:27:09.469619Z",
     "start_time": "2022-06-20T08:27:09.444688Z"
    }
   },
   "outputs": [
    {
     "data": {
      "text/plain": [
       "[1, 3, 5, 7, 9]"
      ]
     },
     "execution_count": 25,
     "metadata": {},
     "output_type": "execute_result"
    }
   ],
   "source": [
    "[x for x in range (1,11)if x%2==1]"
   ]
  },
  {
   "cell_type": "code",
   "execution_count": 26,
   "id": "eff21ab1",
   "metadata": {
    "ExecuteTime": {
     "end_time": "2022-06-20T08:27:33.416411Z",
     "start_time": "2022-06-20T08:27:33.403473Z"
    }
   },
   "outputs": [
    {
     "data": {
      "text/plain": [
       "[2, 4, 6, 8, 10]"
      ]
     },
     "execution_count": 26,
     "metadata": {},
     "output_type": "execute_result"
    }
   ],
   "source": [
    "[x for x in range (1,11)if x%2==0]"
   ]
  },
  {
   "cell_type": "code",
   "execution_count": 28,
   "id": "2bdcc62c",
   "metadata": {
    "ExecuteTime": {
     "end_time": "2022-06-20T08:29:02.184563Z",
     "start_time": "2022-06-20T08:29:02.173589Z"
    }
   },
   "outputs": [
    {
     "data": {
      "text/plain": [
       "[7, 9]"
      ]
     },
     "execution_count": 28,
     "metadata": {},
     "output_type": "execute_result"
    }
   ],
   "source": [
    "[x for x in range (1,11)if x%2==1 and x>5] "
   ]
  },
  {
   "cell_type": "code",
   "execution_count": 30,
   "id": "653edbe6",
   "metadata": {
    "ExecuteTime": {
     "end_time": "2022-06-20T08:31:38.698879Z",
     "start_time": "2022-06-20T08:31:38.683918Z"
    }
   },
   "outputs": [
    {
     "data": {
      "text/plain": [
       "[78.5, 113.04, 153.86, 615.44, 706.5, 452.16, 379.94, 803.84]"
      ]
     },
     "execution_count": 30,
     "metadata": {},
     "output_type": "execute_result"
    }
   ],
   "source": [
    "# calc the circal's area:3.14*r**2\n",
    "radius=[5,6,7,14,15,12,11,16]\n",
    "[3.14*r**2 for r in radius]"
   ]
  },
  {
   "cell_type": "code",
   "execution_count": 34,
   "id": "3c55fda5",
   "metadata": {
    "ExecuteTime": {
     "end_time": "2022-06-20T10:19:56.019304Z",
     "start_time": "2022-06-20T10:19:55.954668Z"
    }
   },
   "outputs": [
    {
     "data": {
      "text/plain": [
       "[(1, 6),\n",
       " (1, 7),\n",
       " (1, 8),\n",
       " (1, 9),\n",
       " (1, 10),\n",
       " (2, 6),\n",
       " (2, 7),\n",
       " (2, 8),\n",
       " (2, 9),\n",
       " (2, 10),\n",
       " (3, 6),\n",
       " (3, 7),\n",
       " (3, 8),\n",
       " (3, 9),\n",
       " (3, 10),\n",
       " (4, 6),\n",
       " (4, 7),\n",
       " (4, 8),\n",
       " (4, 9),\n",
       " (4, 10),\n",
       " (5, 6),\n",
       " (5, 7),\n",
       " (5, 8),\n",
       " (5, 9),\n",
       " (5, 10)]"
      ]
     },
     "execution_count": 34,
     "metadata": {},
     "output_type": "execute_result"
    }
   ],
   "source": [
    "x=[1,2,3,4,5]\n",
    "y=[6,7,8,9,10]\n",
    "\n",
    "[(a,b) for a in x for b in y]"
   ]
  },
  {
   "cell_type": "code",
   "execution_count": 35,
   "id": "ce121582",
   "metadata": {
    "ExecuteTime": {
     "end_time": "2022-06-20T10:22:29.798911Z",
     "start_time": "2022-06-20T10:22:29.774978Z"
    }
   },
   "outputs": [
    {
     "data": {
      "text/plain": [
       "[7, 9, 11, 13, 15]"
      ]
     },
     "execution_count": 35,
     "metadata": {},
     "output_type": "execute_result"
    }
   ],
   "source": [
    "x=[1,2,3,4,5]\n",
    "y=[6,7,8,9,10]        # for adding\n",
    "\n",
    "r=[7,9,11,13,15]\n",
    "\n",
    "[a+b  for a,b in zip(x,y)]"
   ]
  },
  {
   "cell_type": "code",
   "execution_count": 36,
   "id": "e0a31f38",
   "metadata": {
    "ExecuteTime": {
     "end_time": "2022-06-20T10:23:03.606586Z",
     "start_time": "2022-06-20T10:23:03.581649Z"
    }
   },
   "outputs": [
    {
     "data": {
      "text/plain": [
       "[7, 9, 11, 13, 15]"
      ]
     },
     "execution_count": 36,
     "metadata": {},
     "output_type": "execute_result"
    }
   ],
   "source": [
    "x=[1,2,3,4,5,5.5]\n",
    "y=[6,7,8,9,10]\n",
    "\n",
    "r=[7,9,11,13,15]\n",
    "\n",
    "[a+b  for a,b in zip(x,y)]"
   ]
  },
  {
   "cell_type": "code",
   "execution_count": 38,
   "id": "8394f0e5",
   "metadata": {
    "ExecuteTime": {
     "end_time": "2022-06-20T10:24:42.872173Z",
     "start_time": "2022-06-20T10:24:42.849232Z"
    }
   },
   "outputs": [
    {
     "data": {
      "text/plain": [
       "[(1, 6, 7), (2, 7, 9), (3, 8, 11), (4, 9, 13), (5, 10, 15)]"
      ]
     },
     "execution_count": 38,
     "metadata": {},
     "output_type": "execute_result"
    }
   ],
   "source": [
    "x=[1,2,3,4,5]\n",
    "y=[6,7,8,9,10]\n",
    "\n",
    "r=[7,9,11,13,15]\n",
    "\n",
    "[(a,b,c)  for a,b,c in zip(x,y,r)] "
   ]
  },
  {
   "cell_type": "code",
   "execution_count": 39,
   "id": "c25a62b5",
   "metadata": {
    "ExecuteTime": {
     "end_time": "2022-06-20T10:26:06.220657Z",
     "start_time": "2022-06-20T10:26:06.199683Z"
    }
   },
   "outputs": [
    {
     "data": {
      "text/plain": [
       "[14, 18, 22, 26, 30]"
      ]
     },
     "execution_count": 39,
     "metadata": {},
     "output_type": "execute_result"
    }
   ],
   "source": [
    "x=[1,2,3,4,5]\n",
    "y=[6,7,8,9,10]\n",
    "\n",
    "r=[7,9,11,13,15]\n",
    "\n",
    "[(a+b+c)  for a,b,c in zip(x,y,r)] "
   ]
  },
  {
   "cell_type": "code",
   "execution_count": 9,
   "id": "97dd1467",
   "metadata": {
    "ExecuteTime": {
     "end_time": "2022-06-21T05:16:17.734747Z",
     "start_time": "2022-06-21T05:16:17.726768Z"
    }
   },
   "outputs": [],
   "source": [
    "Employees={'Chandra','Aveek','Pankaj','Shyam','Jitendra','Rishabh','Mahima','Ramya'}\n",
    "Developers={'Chandra','Aveek','Pankaj','Shyam'}\n",
    "Managers={'Mahima','Rishabh'}\n",
    "Gym_users={'Chandra','Aveek','Rishabh','Ramya'}\n",
    "\n",
    "#Get me the list of the employees who are not a developer, manager but member of gym_user\n",
    "#Get me the list of employees who are not a manager or developer\n",
    "#Get me the list of employees who are using gym being as a manager\n",
    "\n"
   ]
  },
  {
   "cell_type": "code",
   "execution_count": 11,
   "id": "998b8a7c",
   "metadata": {
    "ExecuteTime": {
     "end_time": "2022-06-21T05:16:27.428787Z",
     "start_time": "2022-06-21T05:16:27.411830Z"
    }
   },
   "outputs": [
    {
     "data": {
      "text/plain": [
       "{'Ramya'}"
      ]
     },
     "execution_count": 11,
     "metadata": {},
     "output_type": "execute_result"
    }
   ],
   "source": [
    "Gym_users-(Developers.union(Managers))  "
   ]
  },
  {
   "cell_type": "code",
   "execution_count": 12,
   "id": "4c9bc8c7",
   "metadata": {
    "ExecuteTime": {
     "end_time": "2022-06-21T05:17:19.745856Z",
     "start_time": "2022-06-21T05:17:19.729902Z"
    }
   },
   "outputs": [
    {
     "data": {
      "text/plain": [
       "{'Jitendra', 'Ramya'}"
      ]
     },
     "execution_count": 12,
     "metadata": {},
     "output_type": "execute_result"
    }
   ],
   "source": [
    "Employees-(Developers.union(Managers))"
   ]
  },
  {
   "cell_type": "code",
   "execution_count": 13,
   "id": "5e05a810",
   "metadata": {
    "ExecuteTime": {
     "end_time": "2022-06-21T05:17:35.665228Z",
     "start_time": "2022-06-21T05:17:35.643313Z"
    }
   },
   "outputs": [
    {
     "data": {
      "text/plain": [
       "{'Rishabh'}"
      ]
     },
     "execution_count": 13,
     "metadata": {},
     "output_type": "execute_result"
    }
   ],
   "source": [
    "Gym_users&Managers"
   ]
  },
  {
   "cell_type": "code",
   "execution_count": null,
   "id": "551dafc6",
   "metadata": {},
   "outputs": [],
   "source": []
  }
 ],
 "metadata": {
  "kernelspec": {
   "display_name": "Python 3 (ipykernel)",
   "language": "python",
   "name": "python3"
  },
  "language_info": {
   "codemirror_mode": {
    "name": "ipython",
    "version": 3
   },
   "file_extension": ".py",
   "mimetype": "text/x-python",
   "name": "python",
   "nbconvert_exporter": "python",
   "pygments_lexer": "ipython3",
   "version": "3.9.7"
  }
 },
 "nbformat": 4,
 "nbformat_minor": 5
}
