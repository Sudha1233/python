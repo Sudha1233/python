{
 "cells": [
  {
   "cell_type": "markdown",
   "id": "cb5d4498",
   "metadata": {},
   "source": [
    "# Tuple"
   ]
  },
  {
   "cell_type": "code",
   "execution_count": 2,
   "id": "8e2643c7",
   "metadata": {
    "ExecuteTime": {
     "end_time": "2022-06-17T07:47:28.460309Z",
     "start_time": "2022-06-17T07:47:28.441357Z"
    }
   },
   "outputs": [],
   "source": [
    "# Tuple is immutable"
   ]
  },
  {
   "cell_type": "code",
   "execution_count": 3,
   "id": "960f3b4c",
   "metadata": {
    "ExecuteTime": {
     "end_time": "2022-06-17T07:47:28.603953Z",
     "start_time": "2022-06-17T07:47:28.465294Z"
    }
   },
   "outputs": [],
   "source": [
    "x=[]"
   ]
  },
  {
   "cell_type": "code",
   "execution_count": 4,
   "id": "6f5b6bb4",
   "metadata": {
    "ExecuteTime": {
     "end_time": "2022-06-17T07:47:28.747085Z",
     "start_time": "2022-06-17T07:47:28.606915Z"
    }
   },
   "outputs": [
    {
     "data": {
      "text/plain": [
       "list"
      ]
     },
     "execution_count": 4,
     "metadata": {},
     "output_type": "execute_result"
    }
   ],
   "source": [
    "type(x)"
   ]
  },
  {
   "cell_type": "code",
   "execution_count": 5,
   "id": "4c864dcc",
   "metadata": {
    "ExecuteTime": {
     "end_time": "2022-06-17T07:47:28.871231Z",
     "start_time": "2022-06-17T07:47:28.751069Z"
    }
   },
   "outputs": [],
   "source": [
    "x=()"
   ]
  },
  {
   "cell_type": "code",
   "execution_count": 6,
   "id": "bf19a694",
   "metadata": {
    "ExecuteTime": {
     "end_time": "2022-06-17T07:47:28.984553Z",
     "start_time": "2022-06-17T07:47:28.877138Z"
    }
   },
   "outputs": [
    {
     "data": {
      "text/plain": [
       "tuple"
      ]
     },
     "execution_count": 6,
     "metadata": {},
     "output_type": "execute_result"
    }
   ],
   "source": [
    "type(x)"
   ]
  },
  {
   "cell_type": "code",
   "execution_count": 7,
   "id": "fd7f3fb6",
   "metadata": {
    "ExecuteTime": {
     "end_time": "2022-06-17T07:47:29.093203Z",
     "start_time": "2022-06-17T07:47:28.987545Z"
    }
   },
   "outputs": [],
   "source": [
    "y=tuple()"
   ]
  },
  {
   "cell_type": "code",
   "execution_count": 8,
   "id": "6bb22351",
   "metadata": {
    "ExecuteTime": {
     "end_time": "2022-06-17T07:47:29.219876Z",
     "start_time": "2022-06-17T07:47:29.096740Z"
    }
   },
   "outputs": [
    {
     "data": {
      "text/plain": [
       "tuple"
      ]
     },
     "execution_count": 8,
     "metadata": {},
     "output_type": "execute_result"
    }
   ],
   "source": [
    "type(y)"
   ]
  },
  {
   "cell_type": "code",
   "execution_count": 9,
   "id": "3a07ca4b",
   "metadata": {
    "ExecuteTime": {
     "end_time": "2022-06-17T07:47:29.364902Z",
     "start_time": "2022-06-17T07:47:29.222837Z"
    }
   },
   "outputs": [],
   "source": [
    "data=('Wednesday','AITM',100,'ExcelR')"
   ]
  },
  {
   "cell_type": "code",
   "execution_count": 10,
   "id": "afce4f7a",
   "metadata": {
    "ExecuteTime": {
     "end_time": "2022-06-17T07:47:29.490134Z",
     "start_time": "2022-06-17T07:47:29.373841Z"
    }
   },
   "outputs": [
    {
     "data": {
      "text/plain": [
       "tuple"
      ]
     },
     "execution_count": 10,
     "metadata": {},
     "output_type": "execute_result"
    }
   ],
   "source": [
    "type(data)"
   ]
  },
  {
   "cell_type": "code",
   "execution_count": 11,
   "id": "710d4262",
   "metadata": {
    "ExecuteTime": {
     "end_time": "2022-06-17T07:47:29.619689Z",
     "start_time": "2022-06-17T07:47:29.499078Z"
    }
   },
   "outputs": [
    {
     "data": {
      "text/plain": [
       "4"
      ]
     },
     "execution_count": 11,
     "metadata": {},
     "output_type": "execute_result"
    }
   ],
   "source": [
    "len(data)"
   ]
  },
  {
   "cell_type": "code",
   "execution_count": 12,
   "id": "16da7966",
   "metadata": {
    "ExecuteTime": {
     "end_time": "2022-06-17T07:47:29.777478Z",
     "start_time": "2022-06-17T07:47:29.622653Z"
    }
   },
   "outputs": [],
   "source": [
    "nums=(23,45,67,89,23)"
   ]
  },
  {
   "cell_type": "code",
   "execution_count": 13,
   "id": "952ab8d2",
   "metadata": {
    "ExecuteTime": {
     "end_time": "2022-06-17T07:47:29.902128Z",
     "start_time": "2022-06-17T07:47:29.783068Z"
    }
   },
   "outputs": [
    {
     "data": {
      "text/plain": [
       "23"
      ]
     },
     "execution_count": 13,
     "metadata": {},
     "output_type": "execute_result"
    }
   ],
   "source": [
    "min(nums)"
   ]
  },
  {
   "cell_type": "code",
   "execution_count": 14,
   "id": "ad8582fb",
   "metadata": {
    "ExecuteTime": {
     "end_time": "2022-06-17T07:47:30.010076Z",
     "start_time": "2022-06-17T07:47:29.905119Z"
    }
   },
   "outputs": [
    {
     "data": {
      "text/plain": [
       "89"
      ]
     },
     "execution_count": 14,
     "metadata": {},
     "output_type": "execute_result"
    }
   ],
   "source": [
    "max(nums)"
   ]
  },
  {
   "cell_type": "code",
   "execution_count": 15,
   "id": "38b45da5",
   "metadata": {
    "ExecuteTime": {
     "end_time": "2022-06-17T07:47:30.151830Z",
     "start_time": "2022-06-17T07:47:30.014064Z"
    }
   },
   "outputs": [
    {
     "data": {
      "text/plain": [
       "247"
      ]
     },
     "execution_count": 15,
     "metadata": {},
     "output_type": "execute_result"
    }
   ],
   "source": [
    "sum(nums)"
   ]
  },
  {
   "cell_type": "code",
   "execution_count": 16,
   "id": "cf828b58",
   "metadata": {
    "ExecuteTime": {
     "end_time": "2022-06-17T07:47:30.262230Z",
     "start_time": "2022-06-17T07:47:30.154797Z"
    }
   },
   "outputs": [],
   "source": [
    "# append,extend,insert,pop,remove,sort,reverse,copy,clear,index,count:for sets"
   ]
  },
  {
   "cell_type": "code",
   "execution_count": 17,
   "id": "6d6b6755",
   "metadata": {
    "ExecuteTime": {
     "end_time": "2022-06-17T07:47:30.401736Z",
     "start_time": "2022-06-17T07:47:30.269206Z"
    }
   },
   "outputs": [],
   "source": [
    "# index,count: for Tuple"
   ]
  },
  {
   "cell_type": "code",
   "execution_count": 18,
   "id": "32cbc61c",
   "metadata": {
    "ExecuteTime": {
     "end_time": "2022-06-17T07:47:30.527437Z",
     "start_time": "2022-06-17T07:47:30.406724Z"
    }
   },
   "outputs": [
    {
     "name": "stdout",
     "output_type": "stream",
     "text": [
      "['__add__', '__class__', '__class_getitem__', '__contains__', '__delattr__', '__dir__', '__doc__', '__eq__', '__format__', '__ge__', '__getattribute__', '__getitem__', '__getnewargs__', '__gt__', '__hash__', '__init__', '__init_subclass__', '__iter__', '__le__', '__len__', '__lt__', '__mul__', '__ne__', '__new__', '__reduce__', '__reduce_ex__', '__repr__', '__rmul__', '__setattr__', '__sizeof__', '__str__', '__subclasshook__', 'count', 'index']\n"
     ]
    }
   ],
   "source": [
    "print(dir(nums))"
   ]
  },
  {
   "cell_type": "code",
   "execution_count": 19,
   "id": "3922b185",
   "metadata": {
    "ExecuteTime": {
     "end_time": "2022-06-17T07:47:30.652537Z",
     "start_time": "2022-06-17T07:47:30.532412Z"
    }
   },
   "outputs": [],
   "source": [
    "mytuple=('python','R','SAS','Spark','Jave','python','AITM')"
   ]
  },
  {
   "cell_type": "code",
   "execution_count": 20,
   "id": "84c165cd",
   "metadata": {
    "ExecuteTime": {
     "end_time": "2022-06-17T07:47:30.763633Z",
     "start_time": "2022-06-17T07:47:30.657494Z"
    }
   },
   "outputs": [
    {
     "data": {
      "text/plain": [
       "2"
      ]
     },
     "execution_count": 20,
     "metadata": {},
     "output_type": "execute_result"
    }
   ],
   "source": [
    "mytuple.count('python')"
   ]
  },
  {
   "cell_type": "code",
   "execution_count": 21,
   "id": "b16fbe67",
   "metadata": {
    "ExecuteTime": {
     "end_time": "2022-06-17T07:47:30.873041Z",
     "start_time": "2022-06-17T07:47:30.769617Z"
    }
   },
   "outputs": [
    {
     "data": {
      "text/plain": [
       "2"
      ]
     },
     "execution_count": 21,
     "metadata": {},
     "output_type": "execute_result"
    }
   ],
   "source": [
    "mytuple.index('SAS')"
   ]
  },
  {
   "cell_type": "code",
   "execution_count": 23,
   "id": "1866ee35",
   "metadata": {
    "ExecuteTime": {
     "end_time": "2022-06-17T07:47:41.820649Z",
     "start_time": "2022-06-17T07:47:41.802692Z"
    },
    "scrolled": true
   },
   "outputs": [
    {
     "ename": "SyntaxError",
     "evalue": "invalid syntax (Temp/ipykernel_6204/3545750500.py, line 1)",
     "output_type": "error",
     "traceback": [
      "\u001b[1;36m  File \u001b[1;32m\"C:\\Users\\admin\\AppData\\Local\\Temp/ipykernel_6204/3545750500.py\"\u001b[1;36m, line \u001b[1;32m1\u001b[0m\n\u001b[1;33m    List is Mutable (can be modified)           Tuple is immutable(cannt be modified)\u001b[0m\n\u001b[1;37m                         ^\u001b[0m\n\u001b[1;31mSyntaxError\u001b[0m\u001b[1;31m:\u001b[0m invalid syntax\n"
     ]
    }
   ],
   "source": [
    "List is Mutable (can be modified)           Tuple is immutable(cannt be modified)\n",
    "[]                                          ()\n",
    "List take more memory                       Tuple takes less memory\n",
    "List takes more time to process             Tuple takes less time to process"
   ]
  },
  {
   "cell_type": "code",
   "execution_count": null,
   "id": "77b5c96f",
   "metadata": {
    "ExecuteTime": {
     "end_time": "2022-06-17T07:47:41.824652Z",
     "start_time": "2022-06-17T07:47:41.824652Z"
    }
   },
   "outputs": [],
   "source": [
    "import sys \n",
    "print(\"LIST SIZE:\",sys.getsizeof([1,2,3,4,5,6,7,8,9,10]))\n",
    "print(\"TUPLE SIZE:\",sys.getsizeof((1,2,3,4,5,6,7,8,9,10)))"
   ]
  },
  {
   "cell_type": "code",
   "execution_count": null,
   "id": "bf01af54",
   "metadata": {
    "ExecuteTime": {
     "end_time": "2022-06-17T07:47:41.827625Z",
     "start_time": "2022-06-17T07:47:41.827625Z"
    }
   },
   "outputs": [],
   "source": [
    "import timeit\n",
    "\n",
    "print(\"List takes:\",timeit.timeit(stmt=\"[1,2,3,4,5,6,7,8,9,10]\",number=1000000)*1000)\n",
    "print(\"Tuple takes:\",timeit.timeit(stmt=\"(1,2,3,4,5,6,7,8,9,10)\",number=1000000)*1000)"
   ]
  },
  {
   "cell_type": "code",
   "execution_count": null,
   "id": "0f9320ad",
   "metadata": {
    "ExecuteTime": {
     "end_time": "2022-06-17T07:47:41.830617Z",
     "start_time": "2022-06-17T07:47:41.830617Z"
    }
   },
   "outputs": [],
   "source": [
    "x=(10,12)\n",
    "y=[10]"
   ]
  },
  {
   "cell_type": "code",
   "execution_count": null,
   "id": "1bb07af9",
   "metadata": {
    "ExecuteTime": {
     "end_time": "2022-06-17T07:47:41.833609Z",
     "start_time": "2022-06-17T07:47:41.833609Z"
    }
   },
   "outputs": [],
   "source": [
    "type(x)"
   ]
  },
  {
   "cell_type": "code",
   "execution_count": null,
   "id": "bfe3a628",
   "metadata": {
    "ExecuteTime": {
     "end_time": "2022-06-17T07:47:41.836601Z",
     "start_time": "2022-06-17T07:47:41.836601Z"
    }
   },
   "outputs": [],
   "source": [
    "type(y)"
   ]
  },
  {
   "cell_type": "code",
   "execution_count": 24,
   "id": "efb29986",
   "metadata": {
    "ExecuteTime": {
     "end_time": "2022-06-17T07:47:41.932345Z",
     "start_time": "2022-06-17T07:47:41.840592Z"
    }
   },
   "outputs": [],
   "source": [
    "x=(10,)   # To make integer into tuple we need to keep a ',' after entering the numeric value"
   ]
  },
  {
   "cell_type": "code",
   "execution_count": 25,
   "id": "b6435bcf",
   "metadata": {
    "ExecuteTime": {
     "end_time": "2022-06-17T07:47:42.043180Z",
     "start_time": "2022-06-17T07:47:41.937332Z"
    }
   },
   "outputs": [
    {
     "data": {
      "text/plain": [
       "tuple"
      ]
     },
     "execution_count": 25,
     "metadata": {},
     "output_type": "execute_result"
    }
   ],
   "source": [
    "type(x)"
   ]
  },
  {
   "cell_type": "markdown",
   "id": "8fc18e11",
   "metadata": {},
   "source": [
    "# DICTONARY"
   ]
  },
  {
   "cell_type": "code",
   "execution_count": 26,
   "id": "da490359",
   "metadata": {
    "ExecuteTime": {
     "end_time": "2022-06-17T07:47:42.168842Z",
     "start_time": "2022-06-17T07:47:42.046172Z"
    }
   },
   "outputs": [],
   "source": [
    "# Dicronary is a key value pairs of elements\n",
    "# It is unordered array\n",
    "# Dictonary|hash|hash map|associative array"
   ]
  },
  {
   "cell_type": "markdown",
   "id": "744ff987",
   "metadata": {
    "ExecuteTime": {
     "end_time": "2022-06-16T06:45:09.516567Z",
     "start_time": "2022-06-16T06:45:09.483656Z"
    }
   },
   "source": [
    "()=tuple\n",
    "[]=list\n",
    "{}=dict"
   ]
  },
  {
   "cell_type": "code",
   "execution_count": 27,
   "id": "c3e92a93",
   "metadata": {
    "ExecuteTime": {
     "end_time": "2022-06-17T07:47:42.278408Z",
     "start_time": "2022-06-17T07:47:42.173829Z"
    }
   },
   "outputs": [],
   "source": [
    "mtdata={}"
   ]
  },
  {
   "cell_type": "code",
   "execution_count": 28,
   "id": "4ec88f9c",
   "metadata": {
    "ExecuteTime": {
     "end_time": "2022-06-17T07:47:42.388241Z",
     "start_time": "2022-06-17T07:47:42.281174Z"
    }
   },
   "outputs": [
    {
     "data": {
      "text/plain": [
       "dict"
      ]
     },
     "execution_count": 28,
     "metadata": {},
     "output_type": "execute_result"
    }
   ],
   "source": [
    "type(mtdata)"
   ]
  },
  {
   "cell_type": "code",
   "execution_count": 29,
   "id": "b99f3538",
   "metadata": {
    "ExecuteTime": {
     "end_time": "2022-06-17T07:47:42.483349Z",
     "start_time": "2022-06-17T07:47:42.391229Z"
    }
   },
   "outputs": [],
   "source": [
    "mydata={'today':'Wednesday','age':23,'tech':'python','company':'excelR'}"
   ]
  },
  {
   "cell_type": "code",
   "execution_count": 30,
   "id": "fd1c819f",
   "metadata": {
    "ExecuteTime": {
     "end_time": "2022-06-17T07:47:42.592164Z",
     "start_time": "2022-06-17T07:47:42.493323Z"
    }
   },
   "outputs": [
    {
     "data": {
      "text/plain": [
       "'python'"
      ]
     },
     "execution_count": 30,
     "metadata": {},
     "output_type": "execute_result"
    }
   ],
   "source": [
    "mydata['tech']"
   ]
  },
  {
   "cell_type": "code",
   "execution_count": 31,
   "id": "0a2e6ebb",
   "metadata": {
    "ExecuteTime": {
     "end_time": "2022-06-17T07:47:42.686282Z",
     "start_time": "2022-06-17T07:47:42.595938Z"
    }
   },
   "outputs": [
    {
     "data": {
      "text/plain": [
       "23"
      ]
     },
     "execution_count": 31,
     "metadata": {},
     "output_type": "execute_result"
    }
   ],
   "source": [
    "mydata['age']"
   ]
  },
  {
   "cell_type": "code",
   "execution_count": 32,
   "id": "3c65c3ce",
   "metadata": {
    "ExecuteTime": {
     "end_time": "2022-06-17T07:47:42.796691Z",
     "start_time": "2022-06-17T07:47:42.689273Z"
    }
   },
   "outputs": [
    {
     "data": {
      "text/plain": [
       "23"
      ]
     },
     "execution_count": 32,
     "metadata": {},
     "output_type": "execute_result"
    }
   ],
   "source": [
    "# get and set default\n",
    "\n",
    "mydata.get('age')"
   ]
  },
  {
   "cell_type": "code",
   "execution_count": 33,
   "id": "4952afd1",
   "metadata": {
    "ExecuteTime": {
     "end_time": "2022-06-17T07:47:42.892844Z",
     "start_time": "2022-06-17T07:47:42.806664Z"
    }
   },
   "outputs": [
    {
     "data": {
      "text/plain": [
       "'excelR'"
      ]
     },
     "execution_count": 33,
     "metadata": {},
     "output_type": "execute_result"
    }
   ],
   "source": [
    "mydata.get('company')"
   ]
  },
  {
   "cell_type": "code",
   "execution_count": 34,
   "id": "1a84544d",
   "metadata": {
    "ExecuteTime": {
     "end_time": "2022-06-17T07:47:43.003419Z",
     "start_time": "2022-06-17T07:47:42.895865Z"
    }
   },
   "outputs": [
    {
     "data": {
      "text/plain": [
       "'Balamuragan'"
      ]
     },
     "execution_count": 34,
     "metadata": {},
     "output_type": "execute_result"
    }
   ],
   "source": [
    "mydata.get('name','Balamuragan')"
   ]
  },
  {
   "cell_type": "code",
   "execution_count": 35,
   "id": "d0700ea8",
   "metadata": {
    "ExecuteTime": {
     "end_time": "2022-06-17T07:47:43.112237Z",
     "start_time": "2022-06-17T07:47:43.010369Z"
    }
   },
   "outputs": [
    {
     "data": {
      "text/plain": [
       "'Wednesday'"
      ]
     },
     "execution_count": 35,
     "metadata": {},
     "output_type": "execute_result"
    }
   ],
   "source": [
    "mydata.get('today','Balamuragan')"
   ]
  },
  {
   "cell_type": "code",
   "execution_count": 36,
   "id": "8aa23ad0",
   "metadata": {
    "ExecuteTime": {
     "end_time": "2022-06-17T07:47:43.192815Z",
     "start_time": "2022-06-17T07:47:43.114236Z"
    }
   },
   "outputs": [
    {
     "data": {
      "text/plain": [
       "23"
      ]
     },
     "execution_count": 36,
     "metadata": {},
     "output_type": "execute_result"
    }
   ],
   "source": [
    "mydata.setdefault('age','Balamurgan')"
   ]
  },
  {
   "cell_type": "code",
   "execution_count": 37,
   "id": "1b166c09",
   "metadata": {
    "ExecuteTime": {
     "end_time": "2022-06-17T07:47:43.318550Z",
     "start_time": "2022-06-17T07:47:43.195809Z"
    }
   },
   "outputs": [
    {
     "data": {
      "text/plain": [
       "{'today': 'Wednesday', 'age': 23, 'tech': 'python', 'company': 'excelR'}"
      ]
     },
     "execution_count": 37,
     "metadata": {},
     "output_type": "execute_result"
    }
   ],
   "source": [
    "mydata"
   ]
  },
  {
   "cell_type": "code",
   "execution_count": 38,
   "id": "67c5c722",
   "metadata": {
    "ExecuteTime": {
     "end_time": "2022-06-17T07:47:43.460216Z",
     "start_time": "2022-06-17T07:47:43.321541Z"
    }
   },
   "outputs": [
    {
     "data": {
      "text/plain": [
       "'jhonny'"
      ]
     },
     "execution_count": 38,
     "metadata": {},
     "output_type": "execute_result"
    }
   ],
   "source": [
    "mydata.setdefault('name','jhonny')  # setdafault will add to dicctonary"
   ]
  },
  {
   "cell_type": "code",
   "execution_count": 39,
   "id": "d72963f9",
   "metadata": {
    "ExecuteTime": {
     "end_time": "2022-06-17T07:47:43.682925Z",
     "start_time": "2022-06-17T07:47:43.465981Z"
    }
   },
   "outputs": [
    {
     "name": "stdout",
     "output_type": "stream",
     "text": [
      "{'today': 'Wednesday', 'age': 23, 'tech': 'python', 'company': 'excelR', 'name': 'jhonny'}\n"
     ]
    }
   ],
   "source": [
    "print(mydata)"
   ]
  },
  {
   "cell_type": "code",
   "execution_count": 40,
   "id": "6f7fa466",
   "metadata": {
    "ExecuteTime": {
     "end_time": "2022-06-17T07:47:43.807229Z",
     "start_time": "2022-06-17T07:47:43.685942Z"
    }
   },
   "outputs": [],
   "source": [
    "mydata['location']='Chennai'"
   ]
  },
  {
   "cell_type": "code",
   "execution_count": 41,
   "id": "fcb7f6e7",
   "metadata": {
    "ExecuteTime": {
     "end_time": "2022-06-17T07:47:43.915422Z",
     "start_time": "2022-06-17T07:47:43.809648Z"
    }
   },
   "outputs": [
    {
     "name": "stdout",
     "output_type": "stream",
     "text": [
      "{'today': 'Wednesday', 'age': 23, 'tech': 'python', 'company': 'excelR', 'name': 'jhonny', 'location': 'Chennai'}\n"
     ]
    }
   ],
   "source": [
    "print(mydata)"
   ]
  },
  {
   "cell_type": "code",
   "execution_count": 42,
   "id": "66595a6d",
   "metadata": {
    "ExecuteTime": {
     "end_time": "2022-06-17T07:47:44.013019Z",
     "start_time": "2022-06-17T07:47:43.919420Z"
    }
   },
   "outputs": [],
   "source": [
    "mydata['country']='India'"
   ]
  },
  {
   "cell_type": "code",
   "execution_count": 43,
   "id": "f518264b",
   "metadata": {
    "ExecuteTime": {
     "end_time": "2022-06-17T07:47:44.139037Z",
     "start_time": "2022-06-17T07:47:44.016412Z"
    }
   },
   "outputs": [
    {
     "name": "stdout",
     "output_type": "stream",
     "text": [
      "{'today': 'Wednesday', 'age': 23, 'tech': 'python', 'company': 'excelR', 'name': 'jhonny', 'location': 'Chennai', 'country': 'India'}\n"
     ]
    }
   ],
   "source": [
    "print(mydata)"
   ]
  },
  {
   "cell_type": "code",
   "execution_count": 44,
   "id": "d6b5d4f1",
   "metadata": {
    "ExecuteTime": {
     "end_time": "2022-06-17T07:47:44.278660Z",
     "start_time": "2022-06-17T07:47:44.142001Z"
    }
   },
   "outputs": [],
   "source": [
    "mydata['today']='Thursday'"
   ]
  },
  {
   "cell_type": "code",
   "execution_count": 45,
   "id": "e8ca27f4",
   "metadata": {
    "ExecuteTime": {
     "end_time": "2022-06-17T07:47:44.403936Z",
     "start_time": "2022-06-17T07:47:44.281431Z"
    }
   },
   "outputs": [
    {
     "name": "stdout",
     "output_type": "stream",
     "text": [
      "{'today': 'Thursday', 'age': 23, 'tech': 'python', 'company': 'excelR', 'name': 'jhonny', 'location': 'Chennai', 'country': 'India'}\n"
     ]
    }
   ],
   "source": [
    "print(mydata)"
   ]
  },
  {
   "cell_type": "code",
   "execution_count": 46,
   "id": "9afefa75",
   "metadata": {
    "ExecuteTime": {
     "end_time": "2022-06-17T07:47:44.498105Z",
     "start_time": "2022-06-17T07:47:44.407898Z"
    }
   },
   "outputs": [],
   "source": [
    "mydata.update({'Salary':5000,'exp':10,'manager':'Rekha','location':'bengalore','tech':['Excel','python','R','AI','stats']})"
   ]
  },
  {
   "cell_type": "code",
   "execution_count": 47,
   "id": "525b98b2",
   "metadata": {
    "ExecuteTime": {
     "end_time": "2022-06-17T07:47:44.608358Z",
     "start_time": "2022-06-17T07:47:44.503868Z"
    }
   },
   "outputs": [
    {
     "name": "stdout",
     "output_type": "stream",
     "text": [
      "{'today': 'Thursday', 'age': 23, 'tech': ['Excel', 'python', 'R', 'AI', 'stats'], 'company': 'excelR', 'name': 'jhonny', 'location': 'bengalore', 'country': 'India', 'Salary': 5000, 'exp': 10, 'manager': 'Rekha'}\n"
     ]
    }
   ],
   "source": [
    "print(mydata)"
   ]
  },
  {
   "cell_type": "code",
   "execution_count": 48,
   "id": "79535d84",
   "metadata": {
    "ExecuteTime": {
     "end_time": "2022-06-17T07:47:44.702868Z",
     "start_time": "2022-06-17T07:47:44.614341Z"
    }
   },
   "outputs": [],
   "source": [
    " del mydata['today']"
   ]
  },
  {
   "cell_type": "code",
   "execution_count": 49,
   "id": "822c5ea0",
   "metadata": {
    "ExecuteTime": {
     "end_time": "2022-06-17T07:47:44.796182Z",
     "start_time": "2022-06-17T07:47:44.705854Z"
    }
   },
   "outputs": [
    {
     "name": "stdout",
     "output_type": "stream",
     "text": [
      "{'age': 23, 'tech': ['Excel', 'python', 'R', 'AI', 'stats'], 'company': 'excelR', 'name': 'jhonny', 'location': 'bengalore', 'country': 'India', 'Salary': 5000, 'exp': 10, 'manager': 'Rekha'}\n"
     ]
    }
   ],
   "source": [
    "print(mydata)"
   ]
  },
  {
   "cell_type": "code",
   "execution_count": 50,
   "id": "3680d9a1",
   "metadata": {
    "ExecuteTime": {
     "end_time": "2022-06-17T07:47:44.921700Z",
     "start_time": "2022-06-17T07:47:44.799098Z"
    }
   },
   "outputs": [
    {
     "data": {
      "text/plain": [
       "10"
      ]
     },
     "execution_count": 50,
     "metadata": {},
     "output_type": "execute_result"
    }
   ],
   "source": [
    "mydata.pop('exp')"
   ]
  },
  {
   "cell_type": "code",
   "execution_count": 51,
   "id": "5b41bac0",
   "metadata": {
    "ExecuteTime": {
     "end_time": "2022-06-17T07:47:45.032281Z",
     "start_time": "2022-06-17T07:47:44.934661Z"
    }
   },
   "outputs": [
    {
     "name": "stdout",
     "output_type": "stream",
     "text": [
      "{'age': 23, 'tech': ['Excel', 'python', 'R', 'AI', 'stats'], 'company': 'excelR', 'name': 'jhonny', 'location': 'bengalore', 'country': 'India', 'Salary': 5000, 'manager': 'Rekha'}\n"
     ]
    }
   ],
   "source": [
    "print(mydata)"
   ]
  },
  {
   "cell_type": "code",
   "execution_count": 52,
   "id": "eb0c9faf",
   "metadata": {
    "ExecuteTime": {
     "end_time": "2022-06-17T07:47:45.143000Z",
     "start_time": "2022-06-17T07:47:45.039258Z"
    }
   },
   "outputs": [
    {
     "data": {
      "text/plain": [
       "('manager', 'Rekha')"
      ]
     },
     "execution_count": 52,
     "metadata": {},
     "output_type": "execute_result"
    }
   ],
   "source": [
    "mydata.popitem()"
   ]
  },
  {
   "cell_type": "code",
   "execution_count": 53,
   "id": "ed6f1b72",
   "metadata": {
    "ExecuteTime": {
     "end_time": "2022-06-17T07:47:45.300682Z",
     "start_time": "2022-06-17T07:47:45.146774Z"
    }
   },
   "outputs": [
    {
     "name": "stdout",
     "output_type": "stream",
     "text": [
      "{'age': 23, 'tech': ['Excel', 'python', 'R', 'AI', 'stats'], 'company': 'excelR', 'name': 'jhonny', 'location': 'bengalore', 'country': 'India', 'Salary': 5000}\n"
     ]
    }
   ],
   "source": [
    "print(mydata)"
   ]
  },
  {
   "cell_type": "code",
   "execution_count": 54,
   "id": "fa9a06bb",
   "metadata": {
    "ExecuteTime": {
     "end_time": "2022-06-17T07:47:45.394404Z",
     "start_time": "2022-06-17T07:47:45.304678Z"
    }
   },
   "outputs": [
    {
     "data": {
      "text/plain": [
       "5000"
      ]
     },
     "execution_count": 54,
     "metadata": {},
     "output_type": "execute_result"
    }
   ],
   "source": [
    "mydata.pop('Salary')"
   ]
  },
  {
   "cell_type": "code",
   "execution_count": 55,
   "id": "a1ca0eb5",
   "metadata": {
    "ExecuteTime": {
     "end_time": "2022-06-17T07:47:45.537747Z",
     "start_time": "2022-06-17T07:47:45.397320Z"
    },
    "scrolled": true
   },
   "outputs": [
    {
     "name": "stdout",
     "output_type": "stream",
     "text": [
      "{'age': 23, 'tech': ['Excel', 'python', 'R', 'AI', 'stats'], 'company': 'excelR', 'name': 'jhonny', 'location': 'bengalore', 'country': 'India'}\n"
     ]
    }
   ],
   "source": [
    "print(mydata)"
   ]
  },
  {
   "cell_type": "code",
   "execution_count": 56,
   "id": "960a2ccb",
   "metadata": {
    "ExecuteTime": {
     "end_time": "2022-06-17T07:47:45.631814Z",
     "start_time": "2022-06-17T07:47:45.540741Z"
    }
   },
   "outputs": [],
   "source": [
    "mydata['tech'].remove('Excel')"
   ]
  },
  {
   "cell_type": "code",
   "execution_count": 57,
   "id": "7c9fcb34",
   "metadata": {
    "ExecuteTime": {
     "end_time": "2022-06-17T07:47:45.858985Z",
     "start_time": "2022-06-17T07:47:45.634217Z"
    },
    "scrolled": true
   },
   "outputs": [
    {
     "name": "stdout",
     "output_type": "stream",
     "text": [
      "{'age': 23, 'tech': ['python', 'R', 'AI', 'stats'], 'company': 'excelR', 'name': 'jhonny', 'location': 'bengalore', 'country': 'India'}\n"
     ]
    }
   ],
   "source": [
    "print(mydata)"
   ]
  },
  {
   "cell_type": "code",
   "execution_count": 58,
   "id": "5e29d984",
   "metadata": {
    "ExecuteTime": {
     "end_time": "2022-06-17T07:47:46.018476Z",
     "start_time": "2022-06-17T07:47:45.865951Z"
    }
   },
   "outputs": [
    {
     "data": {
      "text/plain": [
       "'python'"
      ]
     },
     "execution_count": 58,
     "metadata": {},
     "output_type": "execute_result"
    }
   ],
   "source": [
    "mydata['tech'].pop(0)"
   ]
  },
  {
   "cell_type": "code",
   "execution_count": 59,
   "id": "9019aea6",
   "metadata": {
    "ExecuteTime": {
     "end_time": "2022-06-17T07:47:46.128473Z",
     "start_time": "2022-06-17T07:47:46.022227Z"
    }
   },
   "outputs": [
    {
     "name": "stdout",
     "output_type": "stream",
     "text": [
      "{'age': 23, 'tech': ['R', 'AI', 'stats'], 'company': 'excelR', 'name': 'jhonny', 'location': 'bengalore', 'country': 'India'}\n"
     ]
    }
   ],
   "source": [
    "print(mydata)"
   ]
  },
  {
   "cell_type": "code",
   "execution_count": 60,
   "id": "36870d13",
   "metadata": {
    "ExecuteTime": {
     "end_time": "2022-06-17T07:47:46.239929Z",
     "start_time": "2022-06-17T07:47:46.131463Z"
    }
   },
   "outputs": [],
   "source": [
    "# Keys,values,items"
   ]
  },
  {
   "cell_type": "code",
   "execution_count": 61,
   "id": "36ec7d99",
   "metadata": {
    "ExecuteTime": {
     "end_time": "2022-06-17T07:47:46.350058Z",
     "start_time": "2022-06-17T07:47:46.243010Z"
    }
   },
   "outputs": [
    {
     "data": {
      "text/plain": [
       "dict_keys(['age', 'tech', 'company', 'name', 'location', 'country'])"
      ]
     },
     "execution_count": 61,
     "metadata": {},
     "output_type": "execute_result"
    }
   ],
   "source": [
    "mydata.keys()"
   ]
  },
  {
   "cell_type": "code",
   "execution_count": 62,
   "id": "07891c37",
   "metadata": {
    "ExecuteTime": {
     "end_time": "2022-06-17T07:47:46.491776Z",
     "start_time": "2022-06-17T07:47:46.353052Z"
    }
   },
   "outputs": [
    {
     "data": {
      "text/plain": [
       "dict_values([23, ['R', 'AI', 'stats'], 'excelR', 'jhonny', 'bengalore', 'India'])"
      ]
     },
     "execution_count": 62,
     "metadata": {},
     "output_type": "execute_result"
    }
   ],
   "source": [
    "mydata.values()"
   ]
  },
  {
   "cell_type": "code",
   "execution_count": 63,
   "id": "1495f023",
   "metadata": {
    "ExecuteTime": {
     "end_time": "2022-06-17T07:47:46.603517Z",
     "start_time": "2022-06-17T07:47:46.495771Z"
    }
   },
   "outputs": [
    {
     "data": {
      "text/plain": [
       "dict_items([('age', 23), ('tech', ['R', 'AI', 'stats']), ('company', 'excelR'), ('name', 'jhonny'), ('location', 'bengalore'), ('country', 'India')])"
      ]
     },
     "execution_count": 63,
     "metadata": {},
     "output_type": "execute_result"
    }
   ],
   "source": [
    "mydata.items()"
   ]
  },
  {
   "cell_type": "code",
   "execution_count": 64,
   "id": "83fd64e9",
   "metadata": {
    "ExecuteTime": {
     "end_time": "2022-06-17T07:47:46.714593Z",
     "start_time": "2022-06-17T07:47:46.607506Z"
    }
   },
   "outputs": [
    {
     "name": "stdout",
     "output_type": "stream",
     "text": [
      "age 23\n",
      "tech ['R', 'AI', 'stats']\n",
      "company excelR\n",
      "name jhonny\n",
      "location bengalore\n",
      "country India\n"
     ]
    }
   ],
   "source": [
    " for k in mydata.keys(): \n",
    "        print(k,mydata[k]) "
   ]
  },
  {
   "cell_type": "code",
   "execution_count": 65,
   "id": "0712c146",
   "metadata": {
    "ExecuteTime": {
     "end_time": "2022-06-17T07:47:46.920248Z",
     "start_time": "2022-06-17T07:47:46.717586Z"
    }
   },
   "outputs": [
    {
     "name": "stdout",
     "output_type": "stream",
     "text": [
      "age===>mydata[k]\n",
      "tech===>mydata[k]\n",
      "company===>mydata[k]\n",
      "name===>mydata[k]\n",
      "location===>mydata[k]\n",
      "country===>mydata[k]\n"
     ]
    }
   ],
   "source": [
    "for k in mydata.keys():\n",
    "    \n",
    "    print(k + '===>mydata[k]') "
   ]
  },
  {
   "cell_type": "code",
   "execution_count": 66,
   "id": "4ac21380",
   "metadata": {
    "ExecuteTime": {
     "end_time": "2022-06-17T07:50:46.829860Z",
     "start_time": "2022-06-17T07:50:46.821881Z"
    }
   },
   "outputs": [
    {
     "name": "stdout",
     "output_type": "stream",
     "text": [
      "['__class__', '__class_getitem__', '__contains__', '__delattr__', '__delitem__', '__dir__', '__doc__', '__eq__', '__format__', '__ge__', '__getattribute__', '__getitem__', '__gt__', '__hash__', '__init__', '__init_subclass__', '__ior__', '__iter__', '__le__', '__len__', '__lt__', '__ne__', '__new__', '__or__', '__reduce__', '__reduce_ex__', '__repr__', '__reversed__', '__ror__', '__setattr__', '__setitem__', '__sizeof__', '__str__', '__subclasshook__', 'clear', 'copy', 'fromkeys', 'get', 'items', 'keys', 'pop', 'popitem', 'setdefault', 'update', 'values']\n"
     ]
    }
   ],
   "source": [
    "print(dir(mydata))"
   ]
  },
  {
   "cell_type": "code",
   "execution_count": 67,
   "id": "4f82cf38",
   "metadata": {
    "ExecuteTime": {
     "end_time": "2022-06-17T07:57:09.592551Z",
     "start_time": "2022-06-17T07:57:09.581582Z"
    }
   },
   "outputs": [],
   "source": [
    "empdata=['fname','lname','age','degree','exp','gender','address']"
   ]
  },
  {
   "cell_type": "code",
   "execution_count": 70,
   "id": "74f5bb27",
   "metadata": {
    "ExecuteTime": {
     "end_time": "2022-06-17T07:59:36.569971Z",
     "start_time": "2022-06-17T07:59:36.558003Z"
    }
   },
   "outputs": [
    {
     "data": {
      "text/plain": [
       "{'fname': 'ExcelR',\n",
       " 'lname': 'ExcelR',\n",
       " 'age': 'ExcelR',\n",
       " 'degree': 'ExcelR',\n",
       " 'exp': 'ExcelR',\n",
       " 'gender': 'ExcelR',\n",
       " 'address': 'ExcelR'}"
      ]
     },
     "execution_count": 70,
     "metadata": {},
     "output_type": "execute_result"
    }
   ],
   "source": [
    "emp_info=dict.fromkeys(empdata,'ExcelR')\n",
    "emp_info"
   ]
  },
  {
   "cell_type": "code",
   "execution_count": 71,
   "id": "45542686",
   "metadata": {
    "ExecuteTime": {
     "end_time": "2022-06-17T08:06:26.023011Z",
     "start_time": "2022-06-17T08:06:26.006054Z"
    }
   },
   "outputs": [],
   "source": [
    "sample_dict={\n",
    "    'name':'Raghul ramesh',\n",
    "    'age' :32,\n",
    "    'exp':{\n",
    "        'infosys':['Python','Perl','java'],\n",
    "        'paypal':['python','AIML','AWS'],\n",
    "        'walmart':['AIML',['AWS','GCP']],\n",
    "        'Shell'  :['Bigdata','snowfalks'],\n",
    "    }\n",
    "}"
   ]
  },
  {
   "cell_type": "code",
   "execution_count": 72,
   "id": "eb866031",
   "metadata": {
    "ExecuteTime": {
     "end_time": "2022-06-17T08:07:34.177511Z",
     "start_time": "2022-06-17T08:07:34.134623Z"
    }
   },
   "outputs": [
    {
     "data": {
      "text/plain": [
       "'GCP'"
      ]
     },
     "execution_count": 72,
     "metadata": {},
     "output_type": "execute_result"
    }
   ],
   "source": [
    "sample_dict['exp']['walmart'][1][-1]"
   ]
  },
  {
   "cell_type": "code",
   "execution_count": 73,
   "id": "02604639",
   "metadata": {
    "ExecuteTime": {
     "end_time": "2022-06-17T08:08:20.639806Z",
     "start_time": "2022-06-17T08:08:20.617833Z"
    }
   },
   "outputs": [
    {
     "data": {
      "text/plain": [
       "'GCP'"
      ]
     },
     "execution_count": 73,
     "metadata": {},
     "output_type": "execute_result"
    }
   ],
   "source": [
    "sample_dict['exp']['walmart'][1][1]"
   ]
  },
  {
   "cell_type": "code",
   "execution_count": 74,
   "id": "8990c0a2",
   "metadata": {
    "ExecuteTime": {
     "end_time": "2022-06-17T08:10:02.497565Z",
     "start_time": "2022-06-17T08:10:02.477616Z"
    }
   },
   "outputs": [
    {
     "data": {
      "text/plain": [
       "'GCP'"
      ]
     },
     "execution_count": 74,
     "metadata": {},
     "output_type": "execute_result"
    }
   ],
   "source": [
    "sample_dict.get('exp').get('walmart')[1][-1]"
   ]
  },
  {
   "cell_type": "markdown",
   "id": "6c5aa9e0",
   "metadata": {},
   "source": [
    "[]=list\n",
    "()=tuple\n",
    "{}=dictonary\n",
    "{}=set "
   ]
  },
  {
   "cell_type": "markdown",
   "id": "01c258c7",
   "metadata": {
    "ExecuteTime": {
     "end_time": "2022-06-17T08:21:16.985352Z",
     "start_time": "2022-06-17T08:21:16.971392Z"
    }
   },
   "source": [
    "# Set"
   ]
  },
  {
   "cell_type": "code",
   "execution_count": 76,
   "id": "9d1e1c21",
   "metadata": {
    "ExecuteTime": {
     "end_time": "2022-06-17T08:21:49.856624Z",
     "start_time": "2022-06-17T08:21:49.844656Z"
    }
   },
   "outputs": [],
   "source": [
    "myset=set()"
   ]
  },
  {
   "cell_type": "code",
   "execution_count": 77,
   "id": "f4755317",
   "metadata": {
    "ExecuteTime": {
     "end_time": "2022-06-17T08:21:59.816308Z",
     "start_time": "2022-06-17T08:21:59.794369Z"
    }
   },
   "outputs": [
    {
     "data": {
      "text/plain": [
       "set"
      ]
     },
     "execution_count": 77,
     "metadata": {},
     "output_type": "execute_result"
    }
   ],
   "source": [
    "type(myset)"
   ]
  },
  {
   "cell_type": "code",
   "execution_count": 78,
   "id": "cb2c9b50",
   "metadata": {
    "ExecuteTime": {
     "end_time": "2022-06-17T08:22:48.105048Z",
     "start_time": "2022-06-17T08:22:48.087098Z"
    }
   },
   "outputs": [],
   "source": [
    "myset={1,58,9,4,6,3,67,99}"
   ]
  },
  {
   "cell_type": "code",
   "execution_count": 79,
   "id": "41e02b7b",
   "metadata": {
    "ExecuteTime": {
     "end_time": "2022-06-17T08:23:00.967618Z",
     "start_time": "2022-06-17T08:23:00.955624Z"
    }
   },
   "outputs": [
    {
     "data": {
      "text/plain": [
       "{1, 3, 4, 6, 9, 58, 67, 99}"
      ]
     },
     "execution_count": 79,
     "metadata": {},
     "output_type": "execute_result"
    }
   ],
   "source": [
    "myset"
   ]
  },
  {
   "cell_type": "code",
   "execution_count": 80,
   "id": "59937be3",
   "metadata": {
    "ExecuteTime": {
     "end_time": "2022-06-17T08:23:19.745924Z",
     "start_time": "2022-06-17T08:23:19.737946Z"
    }
   },
   "outputs": [],
   "source": [
    "myset.add(78)"
   ]
  },
  {
   "cell_type": "code",
   "execution_count": 81,
   "id": "cf1d365e",
   "metadata": {
    "ExecuteTime": {
     "end_time": "2022-06-17T08:23:25.587015Z",
     "start_time": "2022-06-17T08:23:25.574052Z"
    }
   },
   "outputs": [
    {
     "data": {
      "text/plain": [
       "{1, 3, 4, 6, 9, 58, 67, 78, 99}"
      ]
     },
     "execution_count": 81,
     "metadata": {},
     "output_type": "execute_result"
    }
   ],
   "source": [
    "myset"
   ]
  },
  {
   "cell_type": "code",
   "execution_count": null,
   "id": "a78fec8a",
   "metadata": {},
   "outputs": [],
   "source": []
  }
 ],
 "metadata": {
  "kernelspec": {
   "display_name": "Python 3 (ipykernel)",
   "language": "python",
   "name": "python3"
  },
  "language_info": {
   "codemirror_mode": {
    "name": "ipython",
    "version": 3
   },
   "file_extension": ".py",
   "mimetype": "text/x-python",
   "name": "python",
   "nbconvert_exporter": "python",
   "pygments_lexer": "ipython3",
   "version": "3.9.7"
  }
 },
 "nbformat": 4,
 "nbformat_minor": 5
}
