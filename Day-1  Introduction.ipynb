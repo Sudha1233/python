{
 "cells": [
  {
   "cell_type": "code",
   "execution_count": 6,
   "id": "654e9bec",
   "metadata": {
    "ExecuteTime": {
     "end_time": "2022-06-10T04:28:38.421847Z",
     "start_time": "2022-06-10T04:28:38.390680Z"
    }
   },
   "outputs": [
    {
     "data": {
      "text/plain": [
       "11"
      ]
     },
     "execution_count": 6,
     "metadata": {},
     "output_type": "execute_result"
    }
   ],
   "source": [
    "5+6  #Run"
   ]
  },
  {
   "cell_type": "code",
   "execution_count": 7,
   "id": "8880a75c",
   "metadata": {
    "ExecuteTime": {
     "end_time": "2022-06-10T04:29:00.236578Z",
     "start_time": "2022-06-10T04:29:00.227604Z"
    }
   },
   "outputs": [
    {
     "data": {
      "text/plain": [
       "30"
      ]
     },
     "execution_count": 7,
     "metadata": {},
     "output_type": "execute_result"
    }
   ],
   "source": [
    "5*6  #shift+enter"
   ]
  },
  {
   "cell_type": "code",
   "execution_count": 8,
   "id": "e0b08fe8",
   "metadata": {
    "ExecuteTime": {
     "end_time": "2022-06-10T04:29:10.360052Z",
     "start_time": "2022-06-10T04:29:10.342130Z"
    }
   },
   "outputs": [
    {
     "data": {
      "text/plain": [
       "-1"
      ]
     },
     "execution_count": 8,
     "metadata": {},
     "output_type": "execute_result"
    }
   ],
   "source": [
    "5-6   # ctrl + enter"
   ]
  },
  {
   "cell_type": "markdown",
   "id": "726fcbb1",
   "metadata": {},
   "source": [
    "# Comments"
   ]
  },
  {
   "cell_type": "code",
   "execution_count": 9,
   "id": "71668274",
   "metadata": {
    "ExecuteTime": {
     "end_time": "2022-06-10T04:29:35.638217Z",
     "start_time": "2022-06-10T04:29:35.618268Z"
    }
   },
   "outputs": [
    {
     "data": {
      "text/plain": [
       "30"
      ]
     },
     "execution_count": 9,
     "metadata": {},
     "output_type": "execute_result"
    }
   ],
   "source": [
    "# Single line comment\n",
    "\n",
    "# is used for commenting a line \n",
    "\n",
    "#add two numbers\n",
    "10+20"
   ]
  },
  {
   "cell_type": "code",
   "execution_count": 10,
   "id": "b2355b0b",
   "metadata": {
    "ExecuteTime": {
     "end_time": "2022-06-10T04:29:50.958547Z",
     "start_time": "2022-06-10T04:29:50.920215Z"
    }
   },
   "outputs": [
    {
     "data": {
      "text/plain": [
       "30"
      ]
     },
     "execution_count": 10,
     "metadata": {},
     "output_type": "execute_result"
    }
   ],
   "source": [
    "\"\"\"\n",
    "Line1\n",
    "Line2\n",
    ".\n",
    ".\n",
    ".\n",
    "LineN\n",
    "\"\"\"\n",
    "\n",
    "5*6"
   ]
  },
  {
   "cell_type": "markdown",
   "id": "e05c1517",
   "metadata": {},
   "source": [
    "## Quotes"
   ]
  },
  {
   "cell_type": "code",
   "execution_count": 12,
   "id": "87ea6d8b",
   "metadata": {
    "ExecuteTime": {
     "end_time": "2022-06-10T04:30:22.137668Z",
     "start_time": "2022-06-10T04:30:22.116695Z"
    }
   },
   "outputs": [
    {
     "name": "stdout",
     "output_type": "stream",
     "text": [
      "Sudha reddy\n"
     ]
    }
   ],
   "source": [
    "name='Sudha reddy'\n",
    "print(name)"
   ]
  },
  {
   "cell_type": "code",
   "execution_count": 4,
   "id": "af3d001f",
   "metadata": {
    "ExecuteTime": {
     "end_time": "2022-06-09T02:32:55.487817Z",
     "start_time": "2022-06-09T02:32:55.474853Z"
    }
   },
   "outputs": [
    {
     "name": "stdout",
     "output_type": "stream",
     "text": [
      "st's joseph engg college\n"
     ]
    }
   ],
   "source": [
    "college=\"st's joseph engg college\"\n",
    "print(college)"
   ]
  },
  {
   "cell_type": "code",
   "execution_count": 5,
   "id": "2fc67993",
   "metadata": {
    "ExecuteTime": {
     "end_time": "2022-06-09T02:34:11.708179Z",
     "start_time": "2022-06-09T02:34:11.695213Z"
    }
   },
   "outputs": [
    {
     "name": "stdout",
     "output_type": "stream",
     "text": [
      "st's joseph engg college\n"
     ]
    }
   ],
   "source": [
    "college='st\\'s joseph engg college'\n",
    "print(college)"
   ]
  },
  {
   "cell_type": "code",
   "execution_count": 8,
   "id": "6932c44f",
   "metadata": {
    "ExecuteTime": {
     "end_time": "2022-06-09T02:36:11.649336Z",
     "start_time": "2022-06-09T02:36:11.633379Z"
    }
   },
   "outputs": [
    {
     "name": "stdout",
     "output_type": "stream",
     "text": [
      "Python support both \"procedural\" as well  as \"oops\"\n"
     ]
    }
   ],
   "source": [
    "about='Python support both \"procedural\" as well  as \"oops\"'\n",
    "print(about)"
   ]
  },
  {
   "cell_type": "code",
   "execution_count": 3,
   "id": "0bd043bc",
   "metadata": {
    "ExecuteTime": {
     "end_time": "2022-06-10T04:27:08.898999Z",
     "start_time": "2022-06-10T04:27:08.846990Z"
    }
   },
   "outputs": [
    {
     "name": "stdout",
     "output_type": "stream",
     "text": [
      "Python support both 'procedural' as well  as \"oops\"\n"
     ]
    }
   ],
   "source": [
    "about='Python support both \\'procedural\\' as well  as \"oops\"'\n",
    "print(about)"
   ]
  },
  {
   "cell_type": "code",
   "execution_count": 13,
   "id": "df437611",
   "metadata": {
    "ExecuteTime": {
     "end_time": "2022-06-09T02:39:01.800147Z",
     "start_time": "2022-06-09T02:39:01.786184Z"
    },
    "scrolled": true
   },
   "outputs": [
    {
     "name": "stdout",
     "output_type": "stream",
     "text": [
      "Python support both 'procedural' as well  as \"oops\"\n"
     ]
    }
   ],
   "source": [
    "about='Python support both \\'procedural\\' as well  as \"oops\"'\n",
    "print(about)"
   ]
  },
  {
   "cell_type": "code",
   "execution_count": 13,
   "id": "9a13d98e",
   "metadata": {
    "ExecuteTime": {
     "end_time": "2022-06-10T04:37:06.856622Z",
     "start_time": "2022-06-10T04:37:06.845649Z"
    }
   },
   "outputs": [],
   "source": [
    "about_python=\"\"\"Python is a high level, dynamic, procedural and object orietnted programming language\n",
    "It was developed by \"GUIDO VAN ROUSSUM\"\n",
    "He is from NETHERLAND\n",
    "It was releaed in to market on early 1990 \"\"\""
   ]
  },
  {
   "cell_type": "code",
   "execution_count": 14,
   "id": "e41a951d",
   "metadata": {
    "ExecuteTime": {
     "end_time": "2022-06-10T04:37:20.961276Z",
     "start_time": "2022-06-10T04:37:20.944317Z"
    }
   },
   "outputs": [
    {
     "name": "stdout",
     "output_type": "stream",
     "text": [
      "Python is a high level, dynamic, procedural and object orietnted programming language\n",
      "It was developed by \"GUIDO VAN ROUSSUM\"\n",
      "He is from NETHERLAND\n",
      "It was releaed in to market on early 1990 \n"
     ]
    }
   ],
   "source": [
    "print(about_python)"
   ]
  },
  {
   "cell_type": "markdown",
   "id": "0586b05b",
   "metadata": {},
   "source": [
    "## Control statements"
   ]
  },
  {
   "cell_type": "code",
   "execution_count": 15,
   "id": "951b020a",
   "metadata": {
    "ExecuteTime": {
     "end_time": "2022-06-10T04:40:04.378838Z",
     "start_time": "2022-06-10T04:40:04.328812Z"
    },
    "scrolled": true
   },
   "outputs": [
    {
     "data": {
      "text/plain": [
       "'if cond \\nstatement\\nelse \\nstatment'"
      ]
     },
     "execution_count": 15,
     "metadata": {},
     "output_type": "execute_result"
    }
   ],
   "source": [
    "'''if cond \n",
    "statement\n",
    "else \n",
    "statment'''"
   ]
  },
  {
   "cell_type": "code",
   "execution_count": 16,
   "id": "d38c85e0",
   "metadata": {
    "ExecuteTime": {
     "end_time": "2022-06-10T04:40:22.828986Z",
     "start_time": "2022-06-10T04:40:18.925449Z"
    }
   },
   "outputs": [
    {
     "ename": "NameError",
     "evalue": "name 'age' is not defined",
     "output_type": "error",
     "traceback": [
      "\u001b[1;31m---------------------------------------------------------------------------\u001b[0m",
      "\u001b[1;31mNameError\u001b[0m                                 Traceback (most recent call last)",
      "\u001b[1;32m~\\AppData\\Local\\Temp/ipykernel_2992/3959834512.py\u001b[0m in \u001b[0;36m<module>\u001b[1;34m\u001b[0m\n\u001b[1;32m----> 1\u001b[1;33m \u001b[1;32mif\u001b[0m \u001b[0mage\u001b[0m\u001b[1;33m>\u001b[0m\u001b[1;36m18\u001b[0m \u001b[1;32mand\u001b[0m \u001b[0mage\u001b[0m\u001b[1;33m<=\u001b[0m\u001b[1;36m100\u001b[0m\u001b[1;33m:\u001b[0m\u001b[1;33m\u001b[0m\u001b[1;33m\u001b[0m\u001b[0m\n\u001b[0m\u001b[0;32m      2\u001b[0m     \u001b[0mprint\u001b[0m\u001b[1;33m(\u001b[0m\u001b[1;34m\"You can vote\"\u001b[0m\u001b[1;33m)\u001b[0m\u001b[1;33m\u001b[0m\u001b[1;33m\u001b[0m\u001b[0m\n\u001b[0;32m      3\u001b[0m     \u001b[0mprint\u001b[0m\u001b[1;33m(\u001b[0m\u001b[1;34m\"It is valid only for indian citizen\"\u001b[0m\u001b[1;33m)\u001b[0m\u001b[1;33m\u001b[0m\u001b[1;33m\u001b[0m\u001b[0m\n\u001b[0;32m      4\u001b[0m     \u001b[0mprint\u001b[0m\u001b[1;33m(\u001b[0m\u001b[1;34m\"Please check your own contry standards if you are from other country\"\u001b[0m\u001b[1;33m)\u001b[0m\u001b[1;33m\u001b[0m\u001b[1;33m\u001b[0m\u001b[0m\n\u001b[0;32m      5\u001b[0m \u001b[1;32melif\u001b[0m \u001b[0mage\u001b[0m\u001b[1;33m<\u001b[0m\u001b[1;36m0\u001b[0m \u001b[1;32mor\u001b[0m \u001b[0mage\u001b[0m\u001b[1;33m>\u001b[0m\u001b[1;36m100\u001b[0m\u001b[1;33m:\u001b[0m\u001b[1;33m\u001b[0m\u001b[1;33m\u001b[0m\u001b[0m\n",
      "\u001b[1;31mNameError\u001b[0m: name 'age' is not defined"
     ]
    }
   ],
   "source": [
    "if age>18 and age<=100:\n",
    "    print(\"You can vote\")\n",
    "    print(\"It is valid only for indian citizen\")\n",
    "    print(\"Please check your own contry standards if you are from other country\")\n",
    "elif age<0 or age>100:\n",
    "    print(\"Invalid age. Please check\")\n",
    "elif age==0:\n",
    "    print(\"You are a just born baby!\")\n",
    "else:\n",
    "    print(\"You cannot vote\")\n",
    "    print(\"Because you are less than 18 years old\")\n",
    "print(\"Out of conditional statement\")"
   ]
  },
  {
   "cell_type": "code",
   "execution_count": 18,
   "id": "475e0652",
   "metadata": {
    "ExecuteTime": {
     "end_time": "2022-06-09T03:41:31.794571Z",
     "start_time": "2022-06-09T03:41:31.780608Z"
    }
   },
   "outputs": [
    {
     "name": "stdout",
     "output_type": "stream",
     "text": [
      "You can vote\n",
      "It is valid only for indian citizen\n"
     ]
    }
   ],
   "source": [
    "age=20\n",
    "if age >18:\n",
    "    print(\"You can vote\")\n",
    "    print(\"It is valid only for indian citizen\")\n",
    "else:\n",
    "    print(\"you can't vote\")\n",
    "    print(\"Because your less than 18 years old\")"
   ]
  },
  {
   "cell_type": "code",
   "execution_count": 21,
   "id": "76cee164",
   "metadata": {
    "ExecuteTime": {
     "end_time": "2022-06-09T03:41:53.072558Z",
     "start_time": "2022-06-09T03:41:53.062583Z"
    }
   },
   "outputs": [
    {
     "name": "stdout",
     "output_type": "stream",
     "text": [
      "you can't vote\n",
      "Because your less than 18 years old\n"
     ]
    }
   ],
   "source": [
    "age=2\n",
    "if age >18:\n",
    "    print(\"You can vote\")\n",
    "    print(\"It is valid only for indian citizen\")\n",
    "else:\n",
    "    print(\"you can't vote\")\n",
    "    print(\"Because your less than 18 years old\")"
   ]
  },
  {
   "cell_type": "code",
   "execution_count": 22,
   "id": "91cec154",
   "metadata": {
    "ExecuteTime": {
     "end_time": "2022-06-09T03:42:19.465737Z",
     "start_time": "2022-06-09T03:42:19.446763Z"
    }
   },
   "outputs": [
    {
     "name": "stdout",
     "output_type": "stream",
     "text": [
      "you can't vote\n",
      "Because your less than 18 years old\n",
      "hlo\n"
     ]
    }
   ],
   "source": [
    "age=2\n",
    "if age >18:\n",
    "    print(\"You can vote\")\n",
    "    print(\"It is valid only for indian citizen\")\n",
    "else:\n",
    "    print(\"you can't vote\")\n",
    "    print(\"Because your less than 18 years old\")\n",
    "print('hlo')"
   ]
  },
  {
   "cell_type": "code",
   "execution_count": 28,
   "id": "22d1f76b",
   "metadata": {
    "ExecuteTime": {
     "end_time": "2022-06-09T03:47:30.012199Z",
     "start_time": "2022-06-09T03:47:29.987267Z"
    }
   },
   "outputs": [
    {
     "name": "stdout",
     "output_type": "stream",
     "text": [
      "your are a just born baby!\n"
     ]
    }
   ],
   "source": [
    "age=0\n",
    "if age >18:\n",
    "    print(\"You can vote\")\n",
    "    print(\"It is valid only for indian citizen\")\n",
    "elif age <0 or age>100:\n",
    "    print(\"invalid age.please check\")\n",
    "elif age==0:\n",
    "    print(\"your are a just born baby!\")\n",
    "else:\n",
    "    print(\"you can't vote\")\n",
    "    print(\"Because your less than 18 years old\")\n"
   ]
  },
  {
   "cell_type": "code",
   "execution_count": 31,
   "id": "7878c771",
   "metadata": {
    "ExecuteTime": {
     "end_time": "2022-06-09T03:51:08.085152Z",
     "start_time": "2022-06-09T03:51:08.051241Z"
    }
   },
   "outputs": [
    {
     "name": "stdout",
     "output_type": "stream",
     "text": [
      "You can vote\n",
      "It is valid only for indian citizen\n",
      "Please check your own contry standards if you are from other country\n"
     ]
    }
   ],
   "source": [
    "age=37\n",
    "if age>18 and age<=100:\n",
    "    print(\"You can vote\")\n",
    "    print(\"It is valid only for indian citizen\")\n",
    "    print(\"Please check your own contry standards if you are from other country\")\n",
    "elif age<0 or age>100:\n",
    "    print(\"Invalid age. Please check\")\n",
    "elif age==0:\n",
    "    print(\"You are a just born baby!\")\n",
    "else:\n",
    "    print(\"You cannot vote\")\n",
    "    print(\"Because you are less than 18 years old\")\n",
    "    print(\"Out of conditional statement\")\n"
   ]
  },
  {
   "cell_type": "markdown",
   "id": "ca470efc",
   "metadata": {},
   "source": [
    "## Nested if"
   ]
  },
  {
   "cell_type": "code",
   "execution_count": 32,
   "id": "44dc571d",
   "metadata": {
    "ExecuteTime": {
     "end_time": "2022-06-09T03:58:16.471568Z",
     "start_time": "2022-06-09T03:58:16.456610Z"
    }
   },
   "outputs": [
    {
     "name": "stdout",
     "output_type": "stream",
     "text": [
      "your are eligible to vote\n"
     ]
    }
   ],
   "source": [
    "age=37\n",
    "country='india'\n",
    "\n",
    "if country=='india':\n",
    "    if age>18:\n",
    "        print(\"your are eligible to vote\")\n",
    "else:\n",
    "    print(\"please follow your own country:{}\")"
   ]
  },
  {
   "cell_type": "code",
   "execution_count": 36,
   "id": "a4f98752",
   "metadata": {
    "ExecuteTime": {
     "end_time": "2022-06-09T04:01:36.042370Z",
     "start_time": "2022-06-09T04:01:36.021425Z"
    }
   },
   "outputs": [
    {
     "name": "stdout",
     "output_type": "stream",
     "text": [
      "your age : 2\n"
     ]
    }
   ],
   "source": [
    "age=2\n",
    "if age>0:\n",
    "    print(\"your age :\",age)\n",
    "    \n",
    "elif age==100:\n",
    "    print(\"Ivaild age\")\n",
    "    \n",
    "else:\n",
    "    print(age)"
   ]
  },
  {
   "cell_type": "code",
   "execution_count": null,
   "id": "68091e3b",
   "metadata": {},
   "outputs": [],
   "source": []
  }
 ],
 "metadata": {
  "kernelspec": {
   "display_name": "Python 3 (ipykernel)",
   "language": "python",
   "name": "python3"
  },
  "language_info": {
   "codemirror_mode": {
    "name": "ipython",
    "version": 3
   },
   "file_extension": ".py",
   "mimetype": "text/x-python",
   "name": "python",
   "nbconvert_exporter": "python",
   "pygments_lexer": "ipython3",
   "version": "3.9.7"
  }
 },
 "nbformat": 4,
 "nbformat_minor": 5
}
