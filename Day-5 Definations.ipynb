{
 "cells": [
  {
   "cell_type": "code",
   "execution_count": null,
   "id": "7e2bf334",
   "metadata": {},
   "outputs": [],
   "source": [
    "Modularity\n",
    "Readability\n",
    "redundancy\n",
    "\n"
   ]
  },
  {
   "cell_type": "code",
   "execution_count": null,
   "id": "e1291033",
   "metadata": {},
   "outputs": [],
   "source": [
    "def  abc():\n",
    "    line1\n",
    "    line2\n",
    "    return res"
   ]
  },
  {
   "cell_type": "code",
   "execution_count": 1,
   "id": "17ca2357",
   "metadata": {
    "ExecuteTime": {
     "end_time": "2022-06-21T05:55:23.392128Z",
     "start_time": "2022-06-21T05:55:23.351237Z"
    }
   },
   "outputs": [],
   "source": [
    "def add_nums(x,y):  # Default variable\n",
    "    res=x+y\n",
    "    return res"
   ]
  },
  {
   "cell_type": "code",
   "execution_count": 3,
   "id": "313333d4",
   "metadata": {
    "ExecuteTime": {
     "end_time": "2022-06-21T05:55:53.141293Z",
     "start_time": "2022-06-21T05:55:53.113574Z"
    }
   },
   "outputs": [
    {
     "data": {
      "text/plain": [
       "151"
      ]
     },
     "execution_count": 3,
     "metadata": {},
     "output_type": "execute_result"
    }
   ],
   "source": [
    "add_nums(82,69)"
   ]
  },
  {
   "cell_type": "code",
   "execution_count": 4,
   "id": "55617609",
   "metadata": {
    "ExecuteTime": {
     "end_time": "2022-06-21T05:57:43.814140Z",
     "start_time": "2022-06-21T05:57:43.793166Z"
    }
   },
   "outputs": [
    {
     "data": {
      "text/plain": [
       "163"
      ]
     },
     "execution_count": 4,
     "metadata": {},
     "output_type": "execute_result"
    }
   ],
   "source": [
    "add_nums(82+3,69+9)"
   ]
  },
  {
   "cell_type": "code",
   "execution_count": 5,
   "id": "5d9a7ef2",
   "metadata": {
    "ExecuteTime": {
     "end_time": "2022-06-21T06:04:04.900037Z",
     "start_time": "2022-06-21T06:04:04.881055Z"
    }
   },
   "outputs": [],
   "source": [
    "def add_nums(x,y=0):  # Default variable\n",
    "    res=x+y\n",
    "    return res"
   ]
  },
  {
   "cell_type": "code",
   "execution_count": 8,
   "id": "7351c0fd",
   "metadata": {
    "ExecuteTime": {
     "end_time": "2022-06-21T06:09:42.771665Z",
     "start_time": "2022-06-21T06:09:42.759696Z"
    }
   },
   "outputs": [
    {
     "data": {
      "text/plain": [
       "98"
      ]
     },
     "execution_count": 8,
     "metadata": {},
     "output_type": "execute_result"
    }
   ],
   "source": [
    "add_nums(82,16) "
   ]
  },
  {
   "cell_type": "code",
   "execution_count": 13,
   "id": "5e61deeb",
   "metadata": {
    "ExecuteTime": {
     "end_time": "2022-06-21T07:50:19.114890Z",
     "start_time": "2022-06-21T07:50:19.100956Z"
    }
   },
   "outputs": [],
   "source": [
    " def add_nums(x,*y):\n",
    "        print('x:',type(x))\n",
    "        print('y:',type(y)) "
   ]
  },
  {
   "cell_type": "code",
   "execution_count": 14,
   "id": "a039930e",
   "metadata": {
    "ExecuteTime": {
     "end_time": "2022-06-21T07:50:33.575975Z",
     "start_time": "2022-06-21T07:50:33.481963Z"
    }
   },
   "outputs": [
    {
     "name": "stdout",
     "output_type": "stream",
     "text": [
      "x: <class 'int'>\n",
      "y: <class 'tuple'>\n"
     ]
    }
   ],
   "source": [
    "add_nums(10,14,57)"
   ]
  },
  {
   "cell_type": "code",
   "execution_count": 18,
   "id": "5dab1994",
   "metadata": {
    "ExecuteTime": {
     "end_time": "2022-06-21T07:55:29.152949Z",
     "start_time": "2022-06-21T07:55:29.143975Z"
    }
   },
   "outputs": [],
   "source": [
    " def add_nums(x,y,*z):\n",
    "    print('type of x:{} and value is: {}'.format(type(x),x))\n",
    "    print('type of y:{} and value is: {}'.format(type(y),y))\n",
    "    print('type of z:{} and value is: {}'.format(type(z),z)) "
   ]
  },
  {
   "cell_type": "code",
   "execution_count": 20,
   "id": "7c2d09e6",
   "metadata": {
    "ExecuteTime": {
     "end_time": "2022-06-21T07:55:58.924753Z",
     "start_time": "2022-06-21T07:55:58.904808Z"
    }
   },
   "outputs": [
    {
     "name": "stdout",
     "output_type": "stream",
     "text": [
      "type of x:<class 'int'> and value is: 10\n",
      "type of y:<class 'int'> and value is: 20\n",
      "type of z:<class 'tuple'> and value is: (30, 40, 50)\n"
     ]
    }
   ],
   "source": [
    "add_nums(10,20,30,40,50)"
   ]
  },
  {
   "cell_type": "code",
   "execution_count": 21,
   "id": "3743a965",
   "metadata": {
    "ExecuteTime": {
     "end_time": "2022-06-21T07:58:32.322811Z",
     "start_time": "2022-06-21T07:58:32.308819Z"
    }
   },
   "outputs": [],
   "source": [
    " def add_nums(x,y,*z):\n",
    "        res=x+y+sum(z)\n",
    "        return res \n",
    "  "
   ]
  },
  {
   "cell_type": "code",
   "execution_count": 22,
   "id": "0a3b72d0",
   "metadata": {
    "ExecuteTime": {
     "end_time": "2022-06-21T07:58:43.007283Z",
     "start_time": "2022-06-21T07:58:42.996281Z"
    }
   },
   "outputs": [
    {
     "data": {
      "text/plain": [
       "60"
      ]
     },
     "execution_count": 22,
     "metadata": {},
     "output_type": "execute_result"
    }
   ],
   "source": [
    "add_nums(10,20,30)"
   ]
  },
  {
   "cell_type": "code",
   "execution_count": 23,
   "id": "af9fbdaa",
   "metadata": {
    "ExecuteTime": {
     "end_time": "2022-06-21T07:59:02.999224Z",
     "start_time": "2022-06-21T07:59:02.976255Z"
    }
   },
   "outputs": [
    {
     "data": {
      "text/plain": [
       "86"
      ]
     },
     "execution_count": 23,
     "metadata": {},
     "output_type": "execute_result"
    }
   ],
   "source": [
    "add_nums(19,67)"
   ]
  },
  {
   "cell_type": "code",
   "execution_count": 26,
   "id": "6e9700c3",
   "metadata": {
    "ExecuteTime": {
     "end_time": "2022-06-21T07:59:46.411865Z",
     "start_time": "2022-06-21T07:59:46.400892Z"
    }
   },
   "outputs": [
    {
     "data": {
      "text/plain": [
       "235"
      ]
     },
     "execution_count": 26,
     "metadata": {},
     "output_type": "execute_result"
    }
   ],
   "source": [
    "add_nums(10,36,87,22,80)"
   ]
  },
  {
   "cell_type": "code",
   "execution_count": 27,
   "id": "577236ac",
   "metadata": {
    "ExecuteTime": {
     "end_time": "2022-06-21T08:03:10.360135Z",
     "start_time": "2022-06-21T08:03:10.351159Z"
    }
   },
   "outputs": [],
   "source": [
    "def add_nums(x,y):\n",
    "    '''add_nums function takes 2 numbers as input as an input and perform sum of them'''\n",
    "    res=x+y\n",
    "    return res"
   ]
  },
  {
   "cell_type": "code",
   "execution_count": 28,
   "id": "70319cf9",
   "metadata": {
    "ExecuteTime": {
     "end_time": "2022-06-21T08:03:27.487927Z",
     "start_time": "2022-06-21T08:03:27.474955Z"
    }
   },
   "outputs": [
    {
     "data": {
      "text/plain": [
       "'add_nums function takes 2 numbers as input as an input and perform sum of them'"
      ]
     },
     "execution_count": 28,
     "metadata": {},
     "output_type": "execute_result"
    }
   ],
   "source": [
    "add_nums.__doc__"
   ]
  },
  {
   "cell_type": "code",
   "execution_count": 29,
   "id": "f1a50947",
   "metadata": {
    "ExecuteTime": {
     "end_time": "2022-06-21T08:03:39.672628Z",
     "start_time": "2022-06-21T08:03:39.653706Z"
    }
   },
   "outputs": [
    {
     "data": {
      "text/plain": [
       "300"
      ]
     },
     "execution_count": 29,
     "metadata": {},
     "output_type": "execute_result"
    }
   ],
   "source": [
    "add_nums(100,200)"
   ]
  },
  {
   "cell_type": "code",
   "execution_count": 31,
   "id": "bdca86b4",
   "metadata": {
    "ExecuteTime": {
     "end_time": "2022-06-21T08:05:25.154755Z",
     "start_time": "2022-06-21T08:05:25.144779Z"
    }
   },
   "outputs": [],
   "source": [
    "def myfun(x,y,*z,**k):   # DOUBLE ** ARGUMENT\n",
    "    pass"
   ]
  },
  {
   "cell_type": "code",
   "execution_count": 37,
   "id": "6746cc2d",
   "metadata": {
    "ExecuteTime": {
     "end_time": "2022-06-21T08:10:41.730278Z",
     "start_time": "2022-06-21T08:10:41.716342Z"
    }
   },
   "outputs": [],
   "source": [
    "def myfun(x,y,*z,**k):   # * args,**kwargs\n",
    "    print('x:{},y:{},z:{},k:{}'.format(x,y,z,k)) "
   ]
  },
  {
   "cell_type": "code",
   "execution_count": 36,
   "id": "cd9dd079",
   "metadata": {
    "ExecuteTime": {
     "end_time": "2022-06-21T08:10:11.074285Z",
     "start_time": "2022-06-21T08:10:11.057300Z"
    }
   },
   "outputs": [
    {
     "name": "stdout",
     "output_type": "stream",
     "text": [
      "x:10,y:20,z:(30, 40, 50),k:{'name': 'sudha', 'city': 'bangalore', 'tech': 'python'}\n"
     ]
    }
   ],
   "source": [
    "myfun(10,20,30,40,50,name='sudha',city='bangalore',tech='python')"
   ]
  },
  {
   "cell_type": "code",
   "execution_count": 38,
   "id": "d00d6902",
   "metadata": {
    "ExecuteTime": {
     "end_time": "2022-06-21T08:13:26.486627Z",
     "start_time": "2022-06-21T08:13:26.441744Z"
    }
   },
   "outputs": [],
   "source": [
    "def course_info(**x):\n",
    "    for k in x.keys():\n",
    "        print(k+'===>'+str(x[k]))"
   ]
  },
  {
   "cell_type": "code",
   "execution_count": 40,
   "id": "70b98b17",
   "metadata": {
    "ExecuteTime": {
     "end_time": "2022-06-21T08:15:43.889082Z",
     "start_time": "2022-06-21T08:15:43.875119Z"
    }
   },
   "outputs": [
    {
     "name": "stdout",
     "output_type": "stream",
     "text": [
      "mode===>online\n",
      "tech===>ai\n",
      "duration===>90 days\n",
      "current_topic===>python\n"
     ]
    }
   ],
   "source": [
    "course_info(mode='online',tech='ai',duration='90 days',current_topic='python')"
   ]
  },
  {
   "cell_type": "code",
   "execution_count": 45,
   "id": "ea97fa3e",
   "metadata": {
    "ExecuteTime": {
     "end_time": "2022-06-21T08:17:44.522895Z",
     "start_time": "2022-06-21T08:17:44.502919Z"
    }
   },
   "outputs": [],
   "source": [
    "def course_info(**x):\n",
    "    print(x) \n",
    "    for k in x.keys():\n",
    "        print(k+'===>'+str(x[k]))"
   ]
  },
  {
   "cell_type": "code",
   "execution_count": 46,
   "id": "99d1b87f",
   "metadata": {
    "ExecuteTime": {
     "end_time": "2022-06-21T08:18:23.356009Z",
     "start_time": "2022-06-21T08:18:23.345040Z"
    }
   },
   "outputs": [
    {
     "name": "stdout",
     "output_type": "stream",
     "text": [
      "{'mode': 'online', 'tech': 'ai', 'duration': '90 days', 'current_topic': 'python'}\n",
      "mode===>online\n",
      "tech===>ai\n",
      "duration===>90 days\n",
      "current_topic===>python\n"
     ]
    }
   ],
   "source": [
    "course_info(mode='online',tech='ai',duration='90 days',current_topic='python')"
   ]
  },
  {
   "cell_type": "code",
   "execution_count": null,
   "id": "0177ebca",
   "metadata": {},
   "outputs": [],
   "source": [
    "# Why do we need to go for a function\n",
    "# How to create a function\n",
    "# different parameters used in funcitons: mandatory, optional, *args, **kwargs\n",
    "# function may or may not have a return statement\n",
    "# documentory string "
   ]
  },
  {
   "cell_type": "code",
   "execution_count": null,
   "id": "7df4d1f0",
   "metadata": {},
   "outputs": [],
   "source": [
    "# SCOPE OF THE VARIABLE IN FUNCTION ( local, global)"
   ]
  }
 ],
 "metadata": {
  "kernelspec": {
   "display_name": "Python 3 (ipykernel)",
   "language": "python",
   "name": "python3"
  },
  "language_info": {
   "codemirror_mode": {
    "name": "ipython",
    "version": 3
   },
   "file_extension": ".py",
   "mimetype": "text/x-python",
   "name": "python",
   "nbconvert_exporter": "python",
   "pygments_lexer": "ipython3",
   "version": "3.9.7"
  }
 },
 "nbformat": 4,
 "nbformat_minor": 5
}
