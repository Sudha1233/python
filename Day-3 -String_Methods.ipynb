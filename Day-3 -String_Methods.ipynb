{
 "cells": [
  {
   "cell_type": "code",
   "execution_count": 11,
   "id": "6df92f6d",
   "metadata": {
    "ExecuteTime": {
     "end_time": "2022-06-13T02:37:23.947822Z",
     "start_time": "2022-06-13T02:37:23.931864Z"
    }
   },
   "outputs": [],
   "source": [
    "name='Raghul Ramesh'"
   ]
  },
  {
   "cell_type": "code",
   "execution_count": 12,
   "id": "470116b6",
   "metadata": {
    "ExecuteTime": {
     "end_time": "2022-06-13T02:37:26.046846Z",
     "start_time": "2022-06-13T02:37:26.024910Z"
    }
   },
   "outputs": [
    {
     "data": {
      "text/plain": [
       "'R'"
      ]
     },
     "execution_count": 12,
     "metadata": {},
     "output_type": "execute_result"
    }
   ],
   "source": [
    "name[0]"
   ]
  },
  {
   "cell_type": "code",
   "execution_count": 13,
   "id": "2da049a2",
   "metadata": {
    "ExecuteTime": {
     "end_time": "2022-06-13T02:37:28.572861Z",
     "start_time": "2022-06-13T02:37:28.548898Z"
    }
   },
   "outputs": [
    {
     "data": {
      "text/plain": [
       "'Raghul Ramesh'"
      ]
     },
     "execution_count": 13,
     "metadata": {},
     "output_type": "execute_result"
    }
   ],
   "source": [
    "name"
   ]
  },
  {
   "cell_type": "code",
   "execution_count": 14,
   "id": "41005d1f",
   "metadata": {
    "ExecuteTime": {
     "end_time": "2022-06-13T02:37:30.994442Z",
     "start_time": "2022-06-13T02:37:30.976491Z"
    }
   },
   "outputs": [
    {
     "data": {
      "text/plain": [
       "'s'"
      ]
     },
     "execution_count": 14,
     "metadata": {},
     "output_type": "execute_result"
    }
   ],
   "source": [
    "name[11]"
   ]
  },
  {
   "cell_type": "code",
   "execution_count": 15,
   "id": "7af7a34f",
   "metadata": {
    "ExecuteTime": {
     "end_time": "2022-06-13T02:37:33.324060Z",
     "start_time": "2022-06-13T02:37:33.304111Z"
    }
   },
   "outputs": [
    {
     "data": {
      "text/plain": [
       "'h'"
      ]
     },
     "execution_count": 15,
     "metadata": {},
     "output_type": "execute_result"
    }
   ],
   "source": [
    "name[-1]"
   ]
  },
  {
   "cell_type": "code",
   "execution_count": 16,
   "id": "cbcf4c39",
   "metadata": {
    "ExecuteTime": {
     "end_time": "2022-06-13T02:37:36.003283Z",
     "start_time": "2022-06-13T02:37:35.989321Z"
    }
   },
   "outputs": [
    {
     "data": {
      "text/plain": [
       "'Raghul Ramesh'"
      ]
     },
     "execution_count": 16,
     "metadata": {},
     "output_type": "execute_result"
    }
   ],
   "source": [
    "name[0:13]"
   ]
  },
  {
   "cell_type": "code",
   "execution_count": 18,
   "id": "0b60ff24",
   "metadata": {
    "ExecuteTime": {
     "end_time": "2022-06-13T02:37:42.982051Z",
     "start_time": "2022-06-13T02:37:42.964097Z"
    }
   },
   "outputs": [
    {
     "data": {
      "text/plain": [
       "'Ramesh'"
      ]
     },
     "execution_count": 18,
     "metadata": {},
     "output_type": "execute_result"
    }
   ],
   "source": [
    "name[7:13]"
   ]
  },
  {
   "cell_type": "code",
   "execution_count": 19,
   "id": "02764869",
   "metadata": {
    "ExecuteTime": {
     "end_time": "2022-06-13T02:37:57.184506Z",
     "start_time": "2022-06-13T02:37:57.165528Z"
    }
   },
   "outputs": [
    {
     "data": {
      "text/plain": [
       "13"
      ]
     },
     "execution_count": 19,
     "metadata": {},
     "output_type": "execute_result"
    }
   ],
   "source": [
    "len(name)"
   ]
  },
  {
   "cell_type": "code",
   "execution_count": 20,
   "id": "8791797f",
   "metadata": {
    "ExecuteTime": {
     "end_time": "2022-06-13T02:38:26.744289Z",
     "start_time": "2022-06-13T02:38:26.718359Z"
    }
   },
   "outputs": [
    {
     "data": {
      "text/plain": [
       "str"
      ]
     },
     "execution_count": 20,
     "metadata": {},
     "output_type": "execute_result"
    }
   ],
   "source": [
    "type(name)"
   ]
  },
  {
   "cell_type": "code",
   "execution_count": 22,
   "id": "c539f4d8",
   "metadata": {
    "ExecuteTime": {
     "end_time": "2022-06-13T02:39:36.634537Z",
     "start_time": "2022-06-13T02:39:36.611601Z"
    }
   },
   "outputs": [
    {
     "name": "stdout",
     "output_type": "stream",
     "text": [
      "['__add__', '__class__', '__contains__', '__delattr__', '__dir__', '__doc__', '__eq__', '__format__', '__ge__', '__getattribute__', '__getitem__', '__getnewargs__', '__gt__', '__hash__', '__init__', '__init_subclass__', '__iter__', '__le__', '__len__', '__lt__', '__mod__', '__mul__', '__ne__', '__new__', '__reduce__', '__reduce_ex__', '__repr__', '__rmod__', '__rmul__', '__setattr__', '__sizeof__', '__str__', '__subclasshook__', 'capitalize', 'casefold', 'center', 'count', 'encode', 'endswith', 'expandtabs', 'find', 'format', 'format_map', 'index', 'isalnum', 'isalpha', 'isascii', 'isdecimal', 'isdigit', 'isidentifier', 'islower', 'isnumeric', 'isprintable', 'isspace', 'istitle', 'isupper', 'join', 'ljust', 'lower', 'lstrip', 'maketrans', 'partition', 'removeprefix', 'removesuffix', 'replace', 'rfind', 'rindex', 'rjust', 'rpartition', 'rsplit', 'rstrip', 'split', 'splitlines', 'startswith', 'strip', 'swapcase', 'title', 'translate', 'upper', 'zfill']\n"
     ]
    }
   ],
   "source": [
    "print(dir(name))"
   ]
  },
  {
   "cell_type": "code",
   "execution_count": 23,
   "id": "069d3332",
   "metadata": {
    "ExecuteTime": {
     "end_time": "2022-06-13T02:40:45.275533Z",
     "start_time": "2022-06-13T02:40:45.253592Z"
    }
   },
   "outputs": [
    {
     "data": {
      "text/plain": [
       "'RAGHUL RAMESH'"
      ]
     },
     "execution_count": 23,
     "metadata": {},
     "output_type": "execute_result"
    }
   ],
   "source": [
    "name.upper()"
   ]
  },
  {
   "cell_type": "code",
   "execution_count": 24,
   "id": "6ab30b55",
   "metadata": {
    "ExecuteTime": {
     "end_time": "2022-06-13T02:45:35.329226Z",
     "start_time": "2022-06-13T02:45:35.316261Z"
    }
   },
   "outputs": [
    {
     "data": {
      "text/plain": [
       "'raghul ramesh'"
      ]
     },
     "execution_count": 24,
     "metadata": {},
     "output_type": "execute_result"
    }
   ],
   "source": [
    "name.lower()"
   ]
  },
  {
   "cell_type": "code",
   "execution_count": 25,
   "id": "b205fc6f",
   "metadata": {
    "ExecuteTime": {
     "end_time": "2022-06-13T02:45:43.646735Z",
     "start_time": "2022-06-13T02:45:43.631776Z"
    }
   },
   "outputs": [
    {
     "data": {
      "text/plain": [
       "'Raghul Ramesh'"
      ]
     },
     "execution_count": 25,
     "metadata": {},
     "output_type": "execute_result"
    }
   ],
   "source": [
    "name"
   ]
  },
  {
   "cell_type": "code",
   "execution_count": 26,
   "id": "6631478f",
   "metadata": {
    "ExecuteTime": {
     "end_time": "2022-06-13T02:46:05.815704Z",
     "start_time": "2022-06-13T02:46:05.792764Z"
    }
   },
   "outputs": [
    {
     "data": {
      "text/plain": [
       "'Raghul Ramesh'"
      ]
     },
     "execution_count": 26,
     "metadata": {},
     "output_type": "execute_result"
    }
   ],
   "source": [
    "name.title()"
   ]
  },
  {
   "cell_type": "code",
   "execution_count": 27,
   "id": "c8d72813",
   "metadata": {
    "ExecuteTime": {
     "end_time": "2022-06-13T02:46:33.664380Z",
     "start_time": "2022-06-13T02:46:33.643436Z"
    }
   },
   "outputs": [
    {
     "data": {
      "text/plain": [
       "'Raghul ramesh'"
      ]
     },
     "execution_count": 27,
     "metadata": {},
     "output_type": "execute_result"
    }
   ],
   "source": [
    "name.capitalize()"
   ]
  },
  {
   "cell_type": "code",
   "execution_count": 28,
   "id": "c6dd965e",
   "metadata": {
    "ExecuteTime": {
     "end_time": "2022-06-13T02:54:26.438694Z",
     "start_time": "2022-06-13T02:54:26.411766Z"
    }
   },
   "outputs": [
    {
     "data": {
      "text/plain": [
       "'rAGHUL rAMESH'"
      ]
     },
     "execution_count": 28,
     "metadata": {},
     "output_type": "execute_result"
    }
   ],
   "source": [
    "name.swapcase()"
   ]
  },
  {
   "cell_type": "code",
   "execution_count": 29,
   "id": "7328d4e7",
   "metadata": {
    "ExecuteTime": {
     "end_time": "2022-06-13T02:54:41.607902Z",
     "start_time": "2022-06-13T02:54:41.586959Z"
    }
   },
   "outputs": [
    {
     "data": {
      "text/plain": [
       "'raghul ramesh'"
      ]
     },
     "execution_count": 29,
     "metadata": {},
     "output_type": "execute_result"
    }
   ],
   "source": [
    "name.casefold()"
   ]
  },
  {
   "cell_type": "code",
   "execution_count": 30,
   "id": "e9596265",
   "metadata": {
    "ExecuteTime": {
     "end_time": "2022-06-13T02:56:24.587250Z",
     "start_time": "2022-06-13T02:56:24.568301Z"
    }
   },
   "outputs": [],
   "source": [
    "# 'index', 'isalnum', 'isalpha', 'isascii', 'isdecimal', 'isdigit', 'isidentifier', 'islower', 'isnumeric', 'isprintable', 'isspace', 'istitle', 'isupper'"
   ]
  },
  {
   "cell_type": "code",
   "execution_count": 31,
   "id": "dbefb345",
   "metadata": {
    "ExecuteTime": {
     "end_time": "2022-06-13T02:56:36.722849Z",
     "start_time": "2022-06-13T02:56:36.695921Z"
    }
   },
   "outputs": [],
   "source": [
    "city='chennai'"
   ]
  },
  {
   "cell_type": "code",
   "execution_count": 32,
   "id": "9167fb44",
   "metadata": {
    "ExecuteTime": {
     "end_time": "2022-06-13T02:56:55.651448Z",
     "start_time": "2022-06-13T02:56:55.639479Z"
    }
   },
   "outputs": [
    {
     "data": {
      "text/plain": [
       "True"
      ]
     },
     "execution_count": 32,
     "metadata": {},
     "output_type": "execute_result"
    }
   ],
   "source": [
    "city.islower()"
   ]
  },
  {
   "cell_type": "code",
   "execution_count": 33,
   "id": "9e322006",
   "metadata": {
    "ExecuteTime": {
     "end_time": "2022-06-13T02:57:10.701542Z",
     "start_time": "2022-06-13T02:57:10.672491Z"
    }
   },
   "outputs": [
    {
     "data": {
      "text/plain": [
       "False"
      ]
     },
     "execution_count": 33,
     "metadata": {},
     "output_type": "execute_result"
    }
   ],
   "source": [
    "city.istitle()"
   ]
  },
  {
   "cell_type": "code",
   "execution_count": 34,
   "id": "ac606204",
   "metadata": {
    "ExecuteTime": {
     "end_time": "2022-06-13T02:57:33.664930Z",
     "start_time": "2022-06-13T02:57:33.650968Z"
    }
   },
   "outputs": [
    {
     "data": {
      "text/plain": [
       "True"
      ]
     },
     "execution_count": 34,
     "metadata": {},
     "output_type": "execute_result"
    }
   ],
   "source": [
    "name.istitle()"
   ]
  },
  {
   "cell_type": "code",
   "execution_count": 35,
   "id": "d838293d",
   "metadata": {
    "ExecuteTime": {
     "end_time": "2022-06-13T02:57:48.228263Z",
     "start_time": "2022-06-13T02:57:48.191349Z"
    }
   },
   "outputs": [
    {
     "data": {
      "text/plain": [
       "False"
      ]
     },
     "execution_count": 35,
     "metadata": {},
     "output_type": "execute_result"
    }
   ],
   "source": [
    "name.isspace()"
   ]
  },
  {
   "cell_type": "code",
   "execution_count": 36,
   "id": "64c4c54d",
   "metadata": {
    "ExecuteTime": {
     "end_time": "2022-06-13T02:57:58.982707Z",
     "start_time": "2022-06-13T02:57:58.955784Z"
    }
   },
   "outputs": [],
   "source": [
    "age=\" \""
   ]
  },
  {
   "cell_type": "code",
   "execution_count": 37,
   "id": "cf0bc576",
   "metadata": {
    "ExecuteTime": {
     "end_time": "2022-06-13T02:58:08.910983Z",
     "start_time": "2022-06-13T02:58:08.890038Z"
    }
   },
   "outputs": [
    {
     "data": {
      "text/plain": [
       "True"
      ]
     },
     "execution_count": 37,
     "metadata": {},
     "output_type": "execute_result"
    }
   ],
   "source": [
    "age.isspace()"
   ]
  },
  {
   "cell_type": "code",
   "execution_count": 38,
   "id": "e02d190c",
   "metadata": {
    "ExecuteTime": {
     "end_time": "2022-06-13T02:58:27.427776Z",
     "start_time": "2022-06-13T02:58:27.420798Z"
    }
   },
   "outputs": [],
   "source": [
    "age='37'"
   ]
  },
  {
   "cell_type": "code",
   "execution_count": 39,
   "id": "7ae80a61",
   "metadata": {
    "ExecuteTime": {
     "end_time": "2022-06-13T02:58:40.796944Z",
     "start_time": "2022-06-13T02:58:40.781006Z"
    }
   },
   "outputs": [
    {
     "data": {
      "text/plain": [
       "True"
      ]
     },
     "execution_count": 39,
     "metadata": {},
     "output_type": "execute_result"
    }
   ],
   "source": [
    "age.isnumeric()"
   ]
  },
  {
   "cell_type": "code",
   "execution_count": 40,
   "id": "e470050e",
   "metadata": {
    "ExecuteTime": {
     "end_time": "2022-06-13T02:59:07.689530Z",
     "start_time": "2022-06-13T02:59:07.677563Z"
    }
   },
   "outputs": [
    {
     "data": {
      "text/plain": [
       "False"
      ]
     },
     "execution_count": 40,
     "metadata": {},
     "output_type": "execute_result"
    }
   ],
   "source": [
    "name.isnumeric()"
   ]
  },
  {
   "cell_type": "code",
   "execution_count": 41,
   "id": "00fa7d9e",
   "metadata": {
    "ExecuteTime": {
     "end_time": "2022-06-13T02:59:19.032262Z",
     "start_time": "2022-06-13T02:59:19.007330Z"
    }
   },
   "outputs": [
    {
     "data": {
      "text/plain": [
       "False"
      ]
     },
     "execution_count": 41,
     "metadata": {},
     "output_type": "execute_result"
    }
   ],
   "source": [
    "name.isalpha()"
   ]
  },
  {
   "cell_type": "code",
   "execution_count": 42,
   "id": "4dc5cb4a",
   "metadata": {
    "ExecuteTime": {
     "end_time": "2022-06-13T03:00:19.803815Z",
     "start_time": "2022-06-13T03:00:19.796846Z"
    }
   },
   "outputs": [],
   "source": [
    "emp='SC163783'"
   ]
  },
  {
   "cell_type": "code",
   "execution_count": 43,
   "id": "5b327d26",
   "metadata": {
    "ExecuteTime": {
     "end_time": "2022-06-13T03:00:32.238605Z",
     "start_time": "2022-06-13T03:00:32.217267Z"
    }
   },
   "outputs": [
    {
     "data": {
      "text/plain": [
       "True"
      ]
     },
     "execution_count": 43,
     "metadata": {},
     "output_type": "execute_result"
    }
   ],
   "source": [
    "emp.isalnum()"
   ]
  },
  {
   "cell_type": "code",
   "execution_count": 44,
   "id": "c3c99ae7",
   "metadata": {
    "ExecuteTime": {
     "end_time": "2022-06-13T03:13:54.245970Z",
     "start_time": "2022-06-13T03:13:54.233004Z"
    }
   },
   "outputs": [],
   "source": [
    "# center,ljust,rjust"
   ]
  },
  {
   "cell_type": "code",
   "execution_count": 45,
   "id": "a77cd081",
   "metadata": {
    "ExecuteTime": {
     "end_time": "2022-06-13T03:13:57.863720Z",
     "start_time": "2022-06-13T03:13:57.850755Z"
    }
   },
   "outputs": [
    {
     "data": {
      "text/plain": [
       "'Raghul Ramesh'"
      ]
     },
     "execution_count": 45,
     "metadata": {},
     "output_type": "execute_result"
    }
   ],
   "source": [
    "name"
   ]
  },
  {
   "cell_type": "code",
   "execution_count": 48,
   "id": "c3d66549",
   "metadata": {
    "ExecuteTime": {
     "end_time": "2022-06-13T03:15:11.140835Z",
     "start_time": "2022-06-13T03:15:11.123876Z"
    }
   },
   "outputs": [],
   "source": [
    "name1=name.center(50)"
   ]
  },
  {
   "cell_type": "code",
   "execution_count": 49,
   "id": "527f39b3",
   "metadata": {
    "ExecuteTime": {
     "end_time": "2022-06-13T03:15:15.226886Z",
     "start_time": "2022-06-13T03:15:15.208934Z"
    }
   },
   "outputs": [
    {
     "data": {
      "text/plain": [
       "50"
      ]
     },
     "execution_count": 49,
     "metadata": {},
     "output_type": "execute_result"
    }
   ],
   "source": [
    "len(name1)"
   ]
  },
  {
   "cell_type": "code",
   "execution_count": 50,
   "id": "24705e2a",
   "metadata": {
    "ExecuteTime": {
     "end_time": "2022-06-13T03:15:53.884367Z",
     "start_time": "2022-06-13T03:15:53.862425Z"
    }
   },
   "outputs": [
    {
     "data": {
      "text/plain": [
       "'******************Raghul Ramesh*******************'"
      ]
     },
     "execution_count": 50,
     "metadata": {},
     "output_type": "execute_result"
    }
   ],
   "source": [
    "name.center(50,'*')"
   ]
  },
  {
   "cell_type": "code",
   "execution_count": 51,
   "id": "26ae799f",
   "metadata": {
    "ExecuteTime": {
     "end_time": "2022-06-13T03:17:11.117353Z",
     "start_time": "2022-06-13T03:17:11.106382Z"
    }
   },
   "outputs": [
    {
     "data": {
      "text/plain": [
       "'Raghul Ramesh                                     '"
      ]
     },
     "execution_count": 51,
     "metadata": {},
     "output_type": "execute_result"
    }
   ],
   "source": [
    "name.ljust(50)"
   ]
  },
  {
   "cell_type": "code",
   "execution_count": 54,
   "id": "12b4debc",
   "metadata": {
    "ExecuteTime": {
     "end_time": "2022-06-13T03:17:53.113793Z",
     "start_time": "2022-06-13T03:17:53.099830Z"
    }
   },
   "outputs": [
    {
     "data": {
      "text/plain": [
       "'*************************************Raghul Ramesh'"
      ]
     },
     "execution_count": 54,
     "metadata": {},
     "output_type": "execute_result"
    }
   ],
   "source": [
    "name.rjust(50,'*')"
   ]
  },
  {
   "cell_type": "code",
   "execution_count": 55,
   "id": "2525ccbf",
   "metadata": {
    "ExecuteTime": {
     "end_time": "2022-06-13T03:25:18.808466Z",
     "start_time": "2022-06-13T03:25:18.793507Z"
    }
   },
   "outputs": [],
   "source": [
    "# index ,fine"
   ]
  },
  {
   "cell_type": "code",
   "execution_count": 56,
   "id": "c7c28203",
   "metadata": {
    "ExecuteTime": {
     "end_time": "2022-06-13T03:25:25.912311Z",
     "start_time": "2022-06-13T03:25:25.894420Z"
    }
   },
   "outputs": [
    {
     "data": {
      "text/plain": [
       "'Raghul Ramesh'"
      ]
     },
     "execution_count": 56,
     "metadata": {},
     "output_type": "execute_result"
    }
   ],
   "source": [
    "name"
   ]
  },
  {
   "cell_type": "code",
   "execution_count": 57,
   "id": "c3684106",
   "metadata": {
    "ExecuteTime": {
     "end_time": "2022-06-13T03:25:56.675533Z",
     "start_time": "2022-06-13T03:25:56.661057Z"
    }
   },
   "outputs": [
    {
     "data": {
      "text/plain": [
       "1"
      ]
     },
     "execution_count": 57,
     "metadata": {},
     "output_type": "execute_result"
    }
   ],
   "source": [
    "name.index('a')"
   ]
  },
  {
   "cell_type": "code",
   "execution_count": 58,
   "id": "4df3f429",
   "metadata": {
    "ExecuteTime": {
     "end_time": "2022-06-13T03:26:33.195158Z",
     "start_time": "2022-06-13T03:26:33.169227Z"
    }
   },
   "outputs": [
    {
     "data": {
      "text/plain": [
       "8"
      ]
     },
     "execution_count": 58,
     "metadata": {},
     "output_type": "execute_result"
    }
   ],
   "source": [
    "name.rindex('a')"
   ]
  },
  {
   "cell_type": "code",
   "execution_count": 78,
   "id": "49701449",
   "metadata": {
    "ExecuteTime": {
     "end_time": "2022-06-13T03:56:30.651938Z",
     "start_time": "2022-06-13T03:56:30.645954Z"
    }
   },
   "outputs": [],
   "source": [
    "name2='Ram Raj Rakesh'"
   ]
  },
  {
   "cell_type": "code",
   "execution_count": 79,
   "id": "00cd85f8",
   "metadata": {
    "ExecuteTime": {
     "end_time": "2022-06-13T03:56:34.407915Z",
     "start_time": "2022-06-13T03:56:34.393950Z"
    }
   },
   "outputs": [
    {
     "data": {
      "text/plain": [
       "9"
      ]
     },
     "execution_count": 79,
     "metadata": {},
     "output_type": "execute_result"
    }
   ],
   "source": [
    "name2.rindex('a') "
   ]
  },
  {
   "cell_type": "code",
   "execution_count": 80,
   "id": "e5afe80e",
   "metadata": {
    "ExecuteTime": {
     "end_time": "2022-06-13T03:56:40.775236Z",
     "start_time": "2022-06-13T03:56:40.751300Z"
    }
   },
   "outputs": [
    {
     "data": {
      "text/plain": [
       "5"
      ]
     },
     "execution_count": 80,
     "metadata": {},
     "output_type": "execute_result"
    }
   ],
   "source": [
    "name2.index('a',2)"
   ]
  },
  {
   "cell_type": "code",
   "execution_count": 81,
   "id": "ee5726e4",
   "metadata": {
    "ExecuteTime": {
     "end_time": "2022-06-13T03:56:47.085823Z",
     "start_time": "2022-06-13T03:56:47.061859Z"
    }
   },
   "outputs": [
    {
     "data": {
      "text/plain": [
       "0"
      ]
     },
     "execution_count": 81,
     "metadata": {},
     "output_type": "execute_result"
    }
   ],
   "source": [
    "name2.index('Ram')"
   ]
  },
  {
   "cell_type": "code",
   "execution_count": 67,
   "id": "8198de4d",
   "metadata": {
    "ExecuteTime": {
     "end_time": "2022-06-13T03:44:05.105700Z",
     "start_time": "2022-06-13T03:44:05.090822Z"
    }
   },
   "outputs": [],
   "source": [
    "city='chennai-cochin-Bangalore-Hyderabad-Mumbai-Kalkatta-Delhi'"
   ]
  },
  {
   "cell_type": "code",
   "execution_count": 68,
   "id": "22ba2d51",
   "metadata": {
    "ExecuteTime": {
     "end_time": "2022-06-13T03:44:26.711068Z",
     "start_time": "2022-06-13T03:44:26.696108Z"
    }
   },
   "outputs": [
    {
     "name": "stdout",
     "output_type": "stream",
     "text": [
      "['chennai', 'cochin', 'Bangalore', 'Hyderabad', 'Mumbai', 'Kalkatta', 'Delhi']\n"
     ]
    }
   ],
   "source": [
    "print(city.split('-'))"
   ]
  },
  {
   "cell_type": "code",
   "execution_count": 70,
   "id": "627eee88",
   "metadata": {
    "ExecuteTime": {
     "end_time": "2022-06-13T03:46:22.541525Z",
     "start_time": "2022-06-13T03:46:22.531553Z"
    }
   },
   "outputs": [
    {
     "data": {
      "text/plain": [
       "('chennai', '-', 'cochin-Bangalore-Hyderabad-Mumbai-Kalkatta-Delhi')"
      ]
     },
     "execution_count": 70,
     "metadata": {},
     "output_type": "execute_result"
    }
   ],
   "source": [
    "#partiation\n",
    "city.partition('-')"
   ]
  },
  {
   "cell_type": "code",
   "execution_count": 71,
   "id": "c991cd52",
   "metadata": {
    "ExecuteTime": {
     "end_time": "2022-06-13T03:47:28.144019Z",
     "start_time": "2022-06-13T03:47:28.117062Z"
    }
   },
   "outputs": [
    {
     "data": {
      "text/plain": [
       "('chennai-cochin-Bangalore-Hyderabad-Mumbai-Kalkatta', '-', 'Delhi')"
      ]
     },
     "execution_count": 71,
     "metadata": {},
     "output_type": "execute_result"
    }
   ],
   "source": [
    "city.rpartition('-') "
   ]
  },
  {
   "cell_type": "code",
   "execution_count": 73,
   "id": "47f2aed5",
   "metadata": {
    "ExecuteTime": {
     "end_time": "2022-06-13T03:48:10.887921Z",
     "start_time": "2022-06-13T03:48:10.872955Z"
    }
   },
   "outputs": [
    {
     "data": {
      "text/plain": [
       "['chennai-cochin-Bangalore-', '-Mumbai-Kalkatta-Delhi']"
      ]
     },
     "execution_count": 73,
     "metadata": {},
     "output_type": "execute_result"
    }
   ],
   "source": [
    "city.split('Hyderabad')"
   ]
  },
  {
   "cell_type": "code",
   "execution_count": 74,
   "id": "db5566fb",
   "metadata": {
    "ExecuteTime": {
     "end_time": "2022-06-13T03:48:41.421268Z",
     "start_time": "2022-06-13T03:48:41.363422Z"
    }
   },
   "outputs": [
    {
     "name": "stdout",
     "output_type": "stream",
     "text": [
      "Help on list object:\n",
      "\n",
      "class list(object)\n",
      " |  list(iterable=(), /)\n",
      " |  \n",
      " |  Built-in mutable sequence.\n",
      " |  \n",
      " |  If no argument is given, the constructor creates a new empty list.\n",
      " |  The argument must be an iterable if specified.\n",
      " |  \n",
      " |  Methods defined here:\n",
      " |  \n",
      " |  __add__(self, value, /)\n",
      " |      Return self+value.\n",
      " |  \n",
      " |  __contains__(self, key, /)\n",
      " |      Return key in self.\n",
      " |  \n",
      " |  __delitem__(self, key, /)\n",
      " |      Delete self[key].\n",
      " |  \n",
      " |  __eq__(self, value, /)\n",
      " |      Return self==value.\n",
      " |  \n",
      " |  __ge__(self, value, /)\n",
      " |      Return self>=value.\n",
      " |  \n",
      " |  __getattribute__(self, name, /)\n",
      " |      Return getattr(self, name).\n",
      " |  \n",
      " |  __getitem__(...)\n",
      " |      x.__getitem__(y) <==> x[y]\n",
      " |  \n",
      " |  __gt__(self, value, /)\n",
      " |      Return self>value.\n",
      " |  \n",
      " |  __iadd__(self, value, /)\n",
      " |      Implement self+=value.\n",
      " |  \n",
      " |  __imul__(self, value, /)\n",
      " |      Implement self*=value.\n",
      " |  \n",
      " |  __init__(self, /, *args, **kwargs)\n",
      " |      Initialize self.  See help(type(self)) for accurate signature.\n",
      " |  \n",
      " |  __iter__(self, /)\n",
      " |      Implement iter(self).\n",
      " |  \n",
      " |  __le__(self, value, /)\n",
      " |      Return self<=value.\n",
      " |  \n",
      " |  __len__(self, /)\n",
      " |      Return len(self).\n",
      " |  \n",
      " |  __lt__(self, value, /)\n",
      " |      Return self<value.\n",
      " |  \n",
      " |  __mul__(self, value, /)\n",
      " |      Return self*value.\n",
      " |  \n",
      " |  __ne__(self, value, /)\n",
      " |      Return self!=value.\n",
      " |  \n",
      " |  __repr__(self, /)\n",
      " |      Return repr(self).\n",
      " |  \n",
      " |  __reversed__(self, /)\n",
      " |      Return a reverse iterator over the list.\n",
      " |  \n",
      " |  __rmul__(self, value, /)\n",
      " |      Return value*self.\n",
      " |  \n",
      " |  __setitem__(self, key, value, /)\n",
      " |      Set self[key] to value.\n",
      " |  \n",
      " |  __sizeof__(self, /)\n",
      " |      Return the size of the list in memory, in bytes.\n",
      " |  \n",
      " |  append(self, object, /)\n",
      " |      Append object to the end of the list.\n",
      " |  \n",
      " |  clear(self, /)\n",
      " |      Remove all items from list.\n",
      " |  \n",
      " |  copy(self, /)\n",
      " |      Return a shallow copy of the list.\n",
      " |  \n",
      " |  count(self, value, /)\n",
      " |      Return number of occurrences of value.\n",
      " |  \n",
      " |  extend(self, iterable, /)\n",
      " |      Extend list by appending elements from the iterable.\n",
      " |  \n",
      " |  index(self, value, start=0, stop=9223372036854775807, /)\n",
      " |      Return first index of value.\n",
      " |      \n",
      " |      Raises ValueError if the value is not present.\n",
      " |  \n",
      " |  insert(self, index, object, /)\n",
      " |      Insert object before index.\n",
      " |  \n",
      " |  pop(self, index=-1, /)\n",
      " |      Remove and return item at index (default last).\n",
      " |      \n",
      " |      Raises IndexError if list is empty or index is out of range.\n",
      " |  \n",
      " |  remove(self, value, /)\n",
      " |      Remove first occurrence of value.\n",
      " |      \n",
      " |      Raises ValueError if the value is not present.\n",
      " |  \n",
      " |  reverse(self, /)\n",
      " |      Reverse *IN PLACE*.\n",
      " |  \n",
      " |  sort(self, /, *, key=None, reverse=False)\n",
      " |      Sort the list in ascending order and return None.\n",
      " |      \n",
      " |      The sort is in-place (i.e. the list itself is modified) and stable (i.e. the\n",
      " |      order of two equal elements is maintained).\n",
      " |      \n",
      " |      If a key function is given, apply it once to each list item and sort them,\n",
      " |      ascending or descending, according to their function values.\n",
      " |      \n",
      " |      The reverse flag can be set to sort in descending order.\n",
      " |  \n",
      " |  ----------------------------------------------------------------------\n",
      " |  Class methods defined here:\n",
      " |  \n",
      " |  __class_getitem__(...) from builtins.type\n",
      " |      See PEP 585\n",
      " |  \n",
      " |  ----------------------------------------------------------------------\n",
      " |  Static methods defined here:\n",
      " |  \n",
      " |  __new__(*args, **kwargs) from builtins.type\n",
      " |      Create and return a new object.  See help(type) for accurate signature.\n",
      " |  \n",
      " |  ----------------------------------------------------------------------\n",
      " |  Data and other attributes defined here:\n",
      " |  \n",
      " |  __hash__ = None\n",
      "\n"
     ]
    }
   ],
   "source": [
    "help(city.split())"
   ]
  },
  {
   "cell_type": "code",
   "execution_count": 75,
   "id": "8dc7a106",
   "metadata": {
    "ExecuteTime": {
     "end_time": "2022-06-13T03:53:51.561102Z",
     "start_time": "2022-06-13T03:53:51.552126Z"
    }
   },
   "outputs": [],
   "source": [
    "# strip,lstrip,rstrip"
   ]
  },
  {
   "cell_type": "code",
   "execution_count": 84,
   "id": "c3b0b133",
   "metadata": {
    "ExecuteTime": {
     "end_time": "2022-06-13T03:57:24.128301Z",
     "start_time": "2022-06-13T03:57:24.110342Z"
    }
   },
   "outputs": [
    {
     "data": {
      "text/plain": [
       "'Ram Raj Rakesh'"
      ]
     },
     "execution_count": 84,
     "metadata": {},
     "output_type": "execute_result"
    }
   ],
   "source": [
    "name.strip()"
   ]
  },
  {
   "cell_type": "code",
   "execution_count": 85,
   "id": "31ea8a26",
   "metadata": {
    "ExecuteTime": {
     "end_time": "2022-06-13T03:57:26.721227Z",
     "start_time": "2022-06-13T03:57:26.699285Z"
    }
   },
   "outputs": [
    {
     "data": {
      "text/plain": [
       "'Ram Raj Rakesh'"
      ]
     },
     "execution_count": 85,
     "metadata": {},
     "output_type": "execute_result"
    }
   ],
   "source": [
    "name.lstrip()"
   ]
  },
  {
   "cell_type": "code",
   "execution_count": 86,
   "id": "3ddd36b4",
   "metadata": {
    "ExecuteTime": {
     "end_time": "2022-06-13T03:59:49.759121Z",
     "start_time": "2022-06-13T03:59:49.752138Z"
    }
   },
   "outputs": [],
   "source": [
    "# ljust,rjust"
   ]
  },
  {
   "cell_type": "code",
   "execution_count": 87,
   "id": "861af8e2",
   "metadata": {
    "ExecuteTime": {
     "end_time": "2022-06-13T04:00:03.198466Z",
     "start_time": "2022-06-13T04:00:03.183505Z"
    }
   },
   "outputs": [],
   "source": [
    "salary='5000000'"
   ]
  },
  {
   "cell_type": "code",
   "execution_count": 89,
   "id": "8a8308f5",
   "metadata": {
    "ExecuteTime": {
     "end_time": "2022-06-13T04:00:28.331606Z",
     "start_time": "2022-06-13T04:00:28.303677Z"
    }
   },
   "outputs": [
    {
     "data": {
      "text/plain": [
       "'5000000000'"
      ]
     },
     "execution_count": 89,
     "metadata": {},
     "output_type": "execute_result"
    }
   ],
   "source": [
    "salary.ljust(10,'0')"
   ]
  },
  {
   "cell_type": "code",
   "execution_count": 90,
   "id": "29574e96",
   "metadata": {
    "ExecuteTime": {
     "end_time": "2022-06-13T04:00:57.048049Z",
     "start_time": "2022-06-13T04:00:57.036084Z"
    }
   },
   "outputs": [
    {
     "data": {
      "text/plain": [
       "'0005000000'"
      ]
     },
     "execution_count": 90,
     "metadata": {},
     "output_type": "execute_result"
    }
   ],
   "source": [
    "salary.zfill(10)"
   ]
  },
  {
   "cell_type": "markdown",
   "id": "e5485b5b",
   "metadata": {},
   "source": [
    "# Day-4 (14-6-2022)"
   ]
  },
  {
   "cell_type": "code",
   "execution_count": 3,
   "id": "e9d99f51",
   "metadata": {
    "ExecuteTime": {
     "end_time": "2022-06-14T17:36:25.979448Z",
     "start_time": "2022-06-14T17:36:25.959501Z"
    }
   },
   "outputs": [],
   "source": [
    "data='The covid cases are high in india but reported as very less '"
   ]
  },
  {
   "cell_type": "code",
   "execution_count": 5,
   "id": "438c8ef6",
   "metadata": {
    "ExecuteTime": {
     "end_time": "2022-06-14T17:36:45.060722Z",
     "start_time": "2022-06-14T17:36:45.051745Z"
    },
    "scrolled": true
   },
   "outputs": [
    {
     "data": {
      "text/plain": [
       "'The covid cases are high in india but reported as very high '"
      ]
     },
     "execution_count": 5,
     "metadata": {},
     "output_type": "execute_result"
    }
   ],
   "source": [
    "data.replace('less','high').replace('none','more') "
   ]
  },
  {
   "cell_type": "code",
   "execution_count": 6,
   "id": "69186905",
   "metadata": {
    "ExecuteTime": {
     "end_time": "2022-06-14T17:37:45.795088Z",
     "start_time": "2022-06-14T17:37:45.774142Z"
    }
   },
   "outputs": [
    {
     "data": {
      "text/plain": [
       "'The covid cases are high in china but reported as very less '"
      ]
     },
     "execution_count": 6,
     "metadata": {},
     "output_type": "execute_result"
    }
   ],
   "source": [
    "data.replace('india','china')"
   ]
  },
  {
   "cell_type": "code",
   "execution_count": 7,
   "id": "819f32ad",
   "metadata": {
    "ExecuteTime": {
     "end_time": "2022-06-14T17:37:57.753756Z",
     "start_time": "2022-06-14T17:37:57.733808Z"
    }
   },
   "outputs": [
    {
     "data": {
      "text/plain": [
       "'The covid cases are high in china but reported as very less '"
      ]
     },
     "execution_count": 7,
     "metadata": {},
     "output_type": "execute_result"
    }
   ],
   "source": [
    "data.replace('india','china',1)"
   ]
  },
  {
   "cell_type": "code",
   "execution_count": 8,
   "id": "cd7a559b",
   "metadata": {
    "ExecuteTime": {
     "end_time": "2022-06-14T17:38:03.330708Z",
     "start_time": "2022-06-14T17:38:03.316746Z"
    }
   },
   "outputs": [
    {
     "data": {
      "text/plain": [
       "'The covid cases are high in china but reported as very less '"
      ]
     },
     "execution_count": 8,
     "metadata": {},
     "output_type": "execute_result"
    }
   ],
   "source": [
    "data.replace('india','china',2)"
   ]
  },
  {
   "cell_type": "code",
   "execution_count": 9,
   "id": "eaa79291",
   "metadata": {
    "ExecuteTime": {
     "end_time": "2022-06-14T17:38:16.020797Z",
     "start_time": "2022-06-14T17:38:15.999852Z"
    }
   },
   "outputs": [
    {
     "data": {
      "text/plain": [
       "'The covid cases are high in india but reported as very less '"
      ]
     },
     "execution_count": 9,
     "metadata": {},
     "output_type": "execute_result"
    }
   ],
   "source": [
    "data "
   ]
  },
  {
   "cell_type": "code",
   "execution_count": 10,
   "id": "f964a638",
   "metadata": {
    "ExecuteTime": {
     "end_time": "2022-06-14T17:38:41.419482Z",
     "start_time": "2022-06-14T17:38:41.409509Z"
    }
   },
   "outputs": [
    {
     "data": {
      "text/plain": [
       "'w!#a$l%m^&a(+r_+t'"
      ]
     },
     "execution_count": 10,
     "metadata": {},
     "output_type": "execute_result"
    }
   ],
   "source": [
    "company=\"w!#a$l%m^&a(+r_+t\"\n",
    "company"
   ]
  },
  {
   "cell_type": "code",
   "execution_count": 11,
   "id": "6e2dd62d",
   "metadata": {
    "ExecuteTime": {
     "end_time": "2022-06-14T17:38:54.037726Z",
     "start_time": "2022-06-14T17:38:54.018777Z"
    },
    "scrolled": true
   },
   "outputs": [
    {
     "data": {
      "text/plain": [
       "'walmart'"
      ]
     },
     "execution_count": 11,
     "metadata": {},
     "output_type": "execute_result"
    }
   ],
   "source": [
    "company.replace('!','').replace('#','').replace('$','').replace('%','').replace('^','').replace('&','').replace('(','').replace('+','').replace('_','').replace('_','')"
   ]
  },
  {
   "cell_type": "code",
   "execution_count": 12,
   "id": "a36d4386",
   "metadata": {
    "ExecuteTime": {
     "end_time": "2022-06-14T17:40:21.134314Z",
     "start_time": "2022-06-14T17:40:21.111375Z"
    }
   },
   "outputs": [
    {
     "data": {
      "text/plain": [
       "'walmart'"
      ]
     },
     "execution_count": 12,
     "metadata": {},
     "output_type": "execute_result"
    }
   ],
   "source": [
    "company.translate({126: None,\n",
    " 33: None,\n",
    " 64: None,\n",
    " 35: None,\n",
    " 36: None,\n",
    " 37: None,\n",
    " 94: None,\n",
    " 38: None,\n",
    " 42: None,\n",
    " 40: None,\n",
    " 41: None,\n",
    " 95: None,\n",
    " 43: None,\n",
    " 123: None,\n",
    " 125: None,\n",
    " 124: None})"
   ]
  },
  {
   "cell_type": "code",
   "execution_count": 13,
   "id": "6813f051",
   "metadata": {
    "ExecuteTime": {
     "end_time": "2022-06-14T17:40:33.968518Z",
     "start_time": "2022-06-14T17:40:33.954555Z"
    }
   },
   "outputs": [
    {
     "data": {
      "text/plain": [
       "36"
      ]
     },
     "execution_count": 13,
     "metadata": {},
     "output_type": "execute_result"
    }
   ],
   "source": [
    "ord('$')"
   ]
  },
  {
   "cell_type": "code",
   "execution_count": 14,
   "id": "9523f8d9",
   "metadata": {
    "ExecuteTime": {
     "end_time": "2022-06-14T17:40:45.737216Z",
     "start_time": "2022-06-14T17:40:45.722223Z"
    },
    "scrolled": true
   },
   "outputs": [
    {
     "data": {
      "text/plain": [
       "{126: 32,\n",
       " 33: 32,\n",
       " 64: 32,\n",
       " 35: 32,\n",
       " 36: 32,\n",
       " 37: 32,\n",
       " 94: 32,\n",
       " 38: 32,\n",
       " 42: 32,\n",
       " 40: 32,\n",
       " 41: 32,\n",
       " 95: 32,\n",
       " 43: 32,\n",
       " 123: 32,\n",
       " 125: 32,\n",
       " 124: 32}"
      ]
     },
     "execution_count": 14,
     "metadata": {},
     "output_type": "execute_result"
    }
   ],
   "source": [
    "company.maketrans('~!@#$%^&*()_+{}|','                ')"
   ]
  },
  {
   "cell_type": "code",
   "execution_count": 15,
   "id": "69c6efd0",
   "metadata": {
    "ExecuteTime": {
     "end_time": "2022-06-14T17:40:57.016457Z",
     "start_time": "2022-06-14T17:40:57.003493Z"
    }
   },
   "outputs": [],
   "source": [
    "chg=data.maketrans('abcde','ABCDE')"
   ]
  },
  {
   "cell_type": "code",
   "execution_count": 16,
   "id": "7f9b6053",
   "metadata": {
    "ExecuteTime": {
     "end_time": "2022-06-14T17:41:08.559388Z",
     "start_time": "2022-06-14T17:41:08.546420Z"
    }
   },
   "outputs": [
    {
     "data": {
      "text/plain": [
       "'ThE CoviD CAsEs ArE high in inDiA But rEportED As vEry lEss '"
      ]
     },
     "execution_count": 16,
     "metadata": {},
     "output_type": "execute_result"
    }
   ],
   "source": [
    "data.translate(chg)"
   ]
  },
  {
   "cell_type": "code",
   "execution_count": 17,
   "id": "8262199a",
   "metadata": {
    "ExecuteTime": {
     "end_time": "2022-06-14T17:41:19.995940Z",
     "start_time": "2022-06-14T17:41:19.980978Z"
    },
    "scrolled": true
   },
   "outputs": [
    {
     "data": {
      "text/plain": [
       "97"
      ]
     },
     "execution_count": 17,
     "metadata": {},
     "output_type": "execute_result"
    }
   ],
   "source": [
    "ord('a')"
   ]
  },
  {
   "cell_type": "code",
   "execution_count": 18,
   "id": "c2f51210",
   "metadata": {
    "ExecuteTime": {
     "end_time": "2022-06-14T17:41:28.732270Z",
     "start_time": "2022-06-14T17:41:28.713342Z"
    },
    "scrolled": true
   },
   "outputs": [
    {
     "data": {
      "text/plain": [
       "64"
      ]
     },
     "execution_count": 18,
     "metadata": {},
     "output_type": "execute_result"
    }
   ],
   "source": [
    "ord('@')"
   ]
  },
  {
   "cell_type": "code",
   "execution_count": 19,
   "id": "d7a3040e",
   "metadata": {
    "ExecuteTime": {
     "end_time": "2022-06-14T17:41:40.101193Z",
     "start_time": "2022-06-14T17:41:40.084239Z"
    }
   },
   "outputs": [],
   "source": [
    "x=data.maketrans(\"india\",\"china\")"
   ]
  },
  {
   "cell_type": "code",
   "execution_count": 20,
   "id": "c9f4668d",
   "metadata": {
    "ExecuteTime": {
     "end_time": "2022-06-14T17:41:57.166096Z",
     "start_time": "2022-06-14T17:41:57.144125Z"
    }
   },
   "outputs": [
    {
     "data": {
      "text/plain": [
       "'The covni cases are hngh nh nhina but reportei as very less '"
      ]
     },
     "execution_count": 20,
     "metadata": {},
     "output_type": "execute_result"
    }
   ],
   "source": [
    "data.translate(x)"
   ]
  },
  {
   "cell_type": "code",
   "execution_count": null,
   "id": "67f9d37d",
   "metadata": {},
   "outputs": [],
   "source": [
    "company.translate({})"
   ]
  },
  {
   "cell_type": "code",
   "execution_count": 8,
   "id": "c3358df5",
   "metadata": {
    "ExecuteTime": {
     "end_time": "2022-06-14T02:22:22.285715Z",
     "start_time": "2022-06-14T02:22:22.277737Z"
    }
   },
   "outputs": [],
   "source": [
    "cha=data.maketrans('abcd','ABCD')"
   ]
  },
  {
   "cell_type": "code",
   "execution_count": 9,
   "id": "4c31c210",
   "metadata": {
    "ExecuteTime": {
     "end_time": "2022-06-14T02:22:33.706664Z",
     "start_time": "2022-06-14T02:22:33.691704Z"
    }
   },
   "outputs": [
    {
     "data": {
      "text/plain": [
       "'The CoviD CAses Are high in inDiA But reporteD As very high or more'"
      ]
     },
     "execution_count": 9,
     "metadata": {},
     "output_type": "execute_result"
    }
   ],
   "source": [
    "data.translate(cha)"
   ]
  },
  {
   "cell_type": "markdown",
   "id": "cc29ba6f",
   "metadata": {},
   "source": [
    "# List(Mutable Object)"
   ]
  },
  {
   "cell_type": "code",
   "execution_count": 21,
   "id": "22e1b44d",
   "metadata": {
    "ExecuteTime": {
     "end_time": "2022-06-14T17:42:49.999813Z",
     "start_time": "2022-06-14T17:42:49.982860Z"
    }
   },
   "outputs": [],
   "source": [
    "# Create a list\n",
    "\n",
    "mylist=[]"
   ]
  },
  {
   "cell_type": "code",
   "execution_count": 22,
   "id": "cd561aa8",
   "metadata": {
    "ExecuteTime": {
     "end_time": "2022-06-14T17:42:54.985542Z",
     "start_time": "2022-06-14T17:42:54.962602Z"
    }
   },
   "outputs": [
    {
     "data": {
      "text/plain": [
       "list"
      ]
     },
     "execution_count": 22,
     "metadata": {},
     "output_type": "execute_result"
    }
   ],
   "source": [
    "type(mylist)"
   ]
  },
  {
   "cell_type": "code",
   "execution_count": 23,
   "id": "f83b8516",
   "metadata": {
    "ExecuteTime": {
     "end_time": "2022-06-14T17:42:57.619894Z",
     "start_time": "2022-06-14T17:42:57.611910Z"
    }
   },
   "outputs": [],
   "source": [
    "list2=list()"
   ]
  },
  {
   "cell_type": "code",
   "execution_count": 24,
   "id": "ac16be09",
   "metadata": {
    "ExecuteTime": {
     "end_time": "2022-06-14T17:43:00.056702Z",
     "start_time": "2022-06-14T17:43:00.049719Z"
    }
   },
   "outputs": [
    {
     "data": {
      "text/plain": [
       "list"
      ]
     },
     "execution_count": 24,
     "metadata": {},
     "output_type": "execute_result"
    }
   ],
   "source": [
    "type(list2)"
   ]
  },
  {
   "cell_type": "code",
   "execution_count": 25,
   "id": "374d81d5",
   "metadata": {
    "ExecuteTime": {
     "end_time": "2022-06-14T17:43:13.226503Z",
     "start_time": "2022-06-14T17:43:13.210545Z"
    }
   },
   "outputs": [],
   "source": [
    "info=['Tuesday',2022,'python',False,10.55]"
   ]
  },
  {
   "cell_type": "code",
   "execution_count": 26,
   "id": "f9c2dcdd",
   "metadata": {
    "ExecuteTime": {
     "end_time": "2022-06-14T17:43:15.631692Z",
     "start_time": "2022-06-14T17:43:15.609756Z"
    },
    "scrolled": true
   },
   "outputs": [
    {
     "data": {
      "text/plain": [
       "list"
      ]
     },
     "execution_count": 26,
     "metadata": {},
     "output_type": "execute_result"
    }
   ],
   "source": [
    "type(info)"
   ]
  },
  {
   "cell_type": "code",
   "execution_count": 27,
   "id": "9fc1e25d",
   "metadata": {
    "ExecuteTime": {
     "end_time": "2022-06-14T17:43:23.629106Z",
     "start_time": "2022-06-14T17:43:23.614145Z"
    }
   },
   "outputs": [
    {
     "data": {
      "text/plain": [
       "5"
      ]
     },
     "execution_count": 27,
     "metadata": {},
     "output_type": "execute_result"
    }
   ],
   "source": [
    "len(info)"
   ]
  },
  {
   "cell_type": "code",
   "execution_count": 28,
   "id": "fd6225a6",
   "metadata": {
    "ExecuteTime": {
     "end_time": "2022-06-14T17:43:34.361563Z",
     "start_time": "2022-06-14T17:43:34.322666Z"
    }
   },
   "outputs": [
    {
     "data": {
      "text/plain": [
       "True"
      ]
     },
     "execution_count": 28,
     "metadata": {},
     "output_type": "execute_result"
    }
   ],
   "source": [
    "'python' in info"
   ]
  },
  {
   "cell_type": "code",
   "execution_count": 29,
   "id": "24042a6c",
   "metadata": {
    "ExecuteTime": {
     "end_time": "2022-06-14T17:43:41.718756Z",
     "start_time": "2022-06-14T17:43:41.705791Z"
    }
   },
   "outputs": [],
   "source": [
    "nums=[1,2,3,4,5,8,9]"
   ]
  },
  {
   "cell_type": "code",
   "execution_count": 30,
   "id": "3d2087e9",
   "metadata": {
    "ExecuteTime": {
     "end_time": "2022-06-14T17:43:44.631226Z",
     "start_time": "2022-06-14T17:43:44.608285Z"
    }
   },
   "outputs": [
    {
     "data": {
      "text/plain": [
       "7"
      ]
     },
     "execution_count": 30,
     "metadata": {},
     "output_type": "execute_result"
    }
   ],
   "source": [
    "len(nums)"
   ]
  },
  {
   "cell_type": "code",
   "execution_count": 31,
   "id": "d8996089",
   "metadata": {
    "ExecuteTime": {
     "end_time": "2022-06-14T17:43:51.549326Z",
     "start_time": "2022-06-14T17:43:51.535362Z"
    }
   },
   "outputs": [
    {
     "data": {
      "text/plain": [
       "1"
      ]
     },
     "execution_count": 31,
     "metadata": {},
     "output_type": "execute_result"
    }
   ],
   "source": [
    "min(nums)"
   ]
  },
  {
   "cell_type": "code",
   "execution_count": 32,
   "id": "b1ccfca3",
   "metadata": {
    "ExecuteTime": {
     "end_time": "2022-06-14T17:43:54.399913Z",
     "start_time": "2022-06-14T17:43:54.387966Z"
    }
   },
   "outputs": [
    {
     "data": {
      "text/plain": [
       "9"
      ]
     },
     "execution_count": 32,
     "metadata": {},
     "output_type": "execute_result"
    }
   ],
   "source": [
    "max(nums)"
   ]
  },
  {
   "cell_type": "code",
   "execution_count": 33,
   "id": "17c7d14b",
   "metadata": {
    "ExecuteTime": {
     "end_time": "2022-06-14T17:43:57.783446Z",
     "start_time": "2022-06-14T17:43:57.765496Z"
    }
   },
   "outputs": [
    {
     "data": {
      "text/plain": [
       "32"
      ]
     },
     "execution_count": 33,
     "metadata": {},
     "output_type": "execute_result"
    }
   ],
   "source": [
    "sum(nums)"
   ]
  },
  {
   "cell_type": "code",
   "execution_count": 34,
   "id": "8e043eac",
   "metadata": {
    "ExecuteTime": {
     "end_time": "2022-06-14T17:45:01.721606Z",
     "start_time": "2022-06-14T17:45:01.711633Z"
    }
   },
   "outputs": [
    {
     "data": {
      "text/plain": [
       "4.571428571428571"
      ]
     },
     "execution_count": 34,
     "metadata": {},
     "output_type": "execute_result"
    }
   ],
   "source": [
    "sum(nums)/len(nums)"
   ]
  },
  {
   "cell_type": "code",
   "execution_count": 35,
   "id": "7bb01936",
   "metadata": {
    "ExecuteTime": {
     "end_time": "2022-06-14T17:45:04.466717Z",
     "start_time": "2022-06-14T17:45:04.455746Z"
    }
   },
   "outputs": [],
   "source": [
    "nums=[1,2,3,4,5]"
   ]
  },
  {
   "cell_type": "code",
   "execution_count": 36,
   "id": "9493e82e",
   "metadata": {
    "ExecuteTime": {
     "end_time": "2022-06-14T17:45:10.659502Z",
     "start_time": "2022-06-14T17:45:10.641552Z"
    }
   },
   "outputs": [
    {
     "name": "stdout",
     "output_type": "stream",
     "text": [
      "['__add__', '__class__', '__class_getitem__', '__contains__', '__delattr__', '__delitem__', '__dir__', '__doc__', '__eq__', '__format__', '__ge__', '__getattribute__', '__getitem__', '__gt__', '__hash__', '__iadd__', '__imul__', '__init__', '__init_subclass__', '__iter__', '__le__', '__len__', '__lt__', '__mul__', '__ne__', '__new__', '__reduce__', '__reduce_ex__', '__repr__', '__reversed__', '__rmul__', '__setattr__', '__setitem__', '__sizeof__', '__str__', '__subclasshook__', 'append', 'clear', 'copy', 'count', 'extend', 'index', 'insert', 'pop', 'remove', 'reverse', 'sort']\n"
     ]
    }
   ],
   "source": [
    "print(dir(nums))"
   ]
  },
  {
   "cell_type": "code",
   "execution_count": 37,
   "id": "dd5d21d1",
   "metadata": {
    "ExecuteTime": {
     "end_time": "2022-06-14T17:45:15.731391Z",
     "start_time": "2022-06-14T17:45:15.709420Z"
    }
   },
   "outputs": [
    {
     "data": {
      "text/plain": [
       "[1, 2, 3, 4, 5]"
      ]
     },
     "execution_count": 37,
     "metadata": {},
     "output_type": "execute_result"
    }
   ],
   "source": [
    "nums"
   ]
  },
  {
   "cell_type": "code",
   "execution_count": 38,
   "id": "f56eb16d",
   "metadata": {
    "ExecuteTime": {
     "end_time": "2022-06-14T17:45:19.727095Z",
     "start_time": "2022-06-14T17:45:19.708149Z"
    }
   },
   "outputs": [],
   "source": [
    "nums.append(6)"
   ]
  },
  {
   "cell_type": "code",
   "execution_count": 39,
   "id": "efaac3a6",
   "metadata": {
    "ExecuteTime": {
     "end_time": "2022-06-14T17:45:24.049209Z",
     "start_time": "2022-06-14T17:45:24.034247Z"
    }
   },
   "outputs": [
    {
     "data": {
      "text/plain": [
       "[1, 2, 3, 4, 5, 6]"
      ]
     },
     "execution_count": 39,
     "metadata": {},
     "output_type": "execute_result"
    }
   ],
   "source": [
    "nums"
   ]
  },
  {
   "cell_type": "code",
   "execution_count": 40,
   "id": "a37e7080",
   "metadata": {
    "ExecuteTime": {
     "end_time": "2022-06-14T17:45:26.806593Z",
     "start_time": "2022-06-14T17:45:26.795622Z"
    }
   },
   "outputs": [],
   "source": [
    "nums.append('python')"
   ]
  },
  {
   "cell_type": "code",
   "execution_count": 41,
   "id": "0e8d0b67",
   "metadata": {
    "ExecuteTime": {
     "end_time": "2022-06-14T17:45:31.106925Z",
     "start_time": "2022-06-14T17:45:31.089938Z"
    }
   },
   "outputs": [
    {
     "data": {
      "text/plain": [
       "[1, 2, 3, 4, 5, 6, 'python']"
      ]
     },
     "execution_count": 41,
     "metadata": {},
     "output_type": "execute_result"
    }
   ],
   "source": [
    "nums"
   ]
  },
  {
   "cell_type": "code",
   "execution_count": 42,
   "id": "d39bc31c",
   "metadata": {
    "ExecuteTime": {
     "end_time": "2022-06-14T17:45:36.328736Z",
     "start_time": "2022-06-14T17:45:36.315797Z"
    }
   },
   "outputs": [],
   "source": [
    "nums.append([14,'June',2022])"
   ]
  },
  {
   "cell_type": "code",
   "execution_count": 43,
   "id": "2052070a",
   "metadata": {
    "ExecuteTime": {
     "end_time": "2022-06-14T17:45:39.482977Z",
     "start_time": "2022-06-14T17:45:39.472975Z"
    }
   },
   "outputs": [
    {
     "data": {
      "text/plain": [
       "[1, 2, 3, 4, 5, 6, 'python', [14, 'June', 2022]]"
      ]
     },
     "execution_count": 43,
     "metadata": {},
     "output_type": "execute_result"
    }
   ],
   "source": [
    "nums"
   ]
  },
  {
   "cell_type": "code",
   "execution_count": 44,
   "id": "ba3390fd",
   "metadata": {
    "ExecuteTime": {
     "end_time": "2022-06-14T17:45:43.534847Z",
     "start_time": "2022-06-14T17:45:43.517348Z"
    }
   },
   "outputs": [
    {
     "data": {
      "text/plain": [
       "[14, 'June', 2022]"
      ]
     },
     "execution_count": 44,
     "metadata": {},
     "output_type": "execute_result"
    }
   ],
   "source": [
    "nums[-1]"
   ]
  },
  {
   "cell_type": "code",
   "execution_count": 45,
   "id": "4ba5fb77",
   "metadata": {
    "ExecuteTime": {
     "end_time": "2022-06-14T17:45:48.961208Z",
     "start_time": "2022-06-14T17:45:48.946248Z"
    }
   },
   "outputs": [],
   "source": [
    "# extend"
   ]
  },
  {
   "cell_type": "code",
   "execution_count": 46,
   "id": "d829d949",
   "metadata": {
    "ExecuteTime": {
     "end_time": "2022-06-14T17:46:00.776013Z",
     "start_time": "2022-06-14T17:46:00.767041Z"
    }
   },
   "outputs": [
    {
     "data": {
      "text/plain": [
       "[1, 2, 3, 4, 5, 6, 'python', [14, 'June', 2022]]"
      ]
     },
     "execution_count": 46,
     "metadata": {},
     "output_type": "execute_result"
    }
   ],
   "source": [
    "nums"
   ]
  },
  {
   "cell_type": "code",
   "execution_count": 47,
   "id": "107eb70d",
   "metadata": {
    "ExecuteTime": {
     "end_time": "2022-06-14T17:46:09.797574Z",
     "start_time": "2022-06-14T17:46:09.785608Z"
    }
   },
   "outputs": [],
   "source": [
    "nums.extend('chenni')"
   ]
  },
  {
   "cell_type": "code",
   "execution_count": 48,
   "id": "12db4d72",
   "metadata": {
    "ExecuteTime": {
     "end_time": "2022-06-14T17:46:14.681992Z",
     "start_time": "2022-06-14T17:46:14.662044Z"
    },
    "scrolled": true
   },
   "outputs": [
    {
     "data": {
      "text/plain": [
       "[1, 2, 3, 4, 5, 6, 'python', [14, 'June', 2022], 'c', 'h', 'e', 'n', 'n', 'i']"
      ]
     },
     "execution_count": 48,
     "metadata": {},
     "output_type": "execute_result"
    }
   ],
   "source": [
    "nums"
   ]
  },
  {
   "cell_type": "code",
   "execution_count": 49,
   "id": "d10c8a92",
   "metadata": {
    "ExecuteTime": {
     "end_time": "2022-06-14T17:46:33.787672Z",
     "start_time": "2022-06-14T17:46:33.780689Z"
    }
   },
   "outputs": [],
   "source": [
    "nums=nums[0:8]"
   ]
  },
  {
   "cell_type": "code",
   "execution_count": 57,
   "id": "ba6b771d",
   "metadata": {
    "ExecuteTime": {
     "end_time": "2022-06-14T17:48:47.495082Z",
     "start_time": "2022-06-14T17:48:47.472145Z"
    }
   },
   "outputs": [
    {
     "data": {
      "text/plain": [
       "[1, 2, 3, 4, 5, 6, 'python', [14, 'June', 2022], 100, 100, 100]"
      ]
     },
     "execution_count": 57,
     "metadata": {},
     "output_type": "execute_result"
    }
   ],
   "source": [
    "nums"
   ]
  },
  {
   "cell_type": "code",
   "execution_count": 58,
   "id": "8196cde1",
   "metadata": {
    "ExecuteTime": {
     "end_time": "2022-06-14T17:48:56.930683Z",
     "start_time": "2022-06-14T17:48:56.919713Z"
    }
   },
   "outputs": [],
   "source": [
    "nums.extend([100])"
   ]
  },
  {
   "cell_type": "code",
   "execution_count": 59,
   "id": "c8983d19",
   "metadata": {
    "ExecuteTime": {
     "end_time": "2022-06-14T17:48:58.912640Z",
     "start_time": "2022-06-14T17:48:58.893690Z"
    },
    "scrolled": true
   },
   "outputs": [
    {
     "data": {
      "text/plain": [
       "[1, 2, 3, 4, 5, 6, 'python', [14, 'June', 2022], 100, 100, 100, 100]"
      ]
     },
     "execution_count": 59,
     "metadata": {},
     "output_type": "execute_result"
    }
   ],
   "source": [
    "nums"
   ]
  },
  {
   "cell_type": "code",
   "execution_count": 60,
   "id": "71e17a41",
   "metadata": {
    "ExecuteTime": {
     "end_time": "2022-06-14T17:49:12.302565Z",
     "start_time": "2022-06-14T17:49:12.284645Z"
    },
    "scrolled": true
   },
   "outputs": [],
   "source": [
    "nums.extend(['Chennai','Bengaluru','Hyderabad'])"
   ]
  },
  {
   "cell_type": "code",
   "execution_count": 62,
   "id": "f44e703d",
   "metadata": {
    "ExecuteTime": {
     "end_time": "2022-06-14T17:49:24.793354Z",
     "start_time": "2022-06-14T17:49:24.786407Z"
    }
   },
   "outputs": [
    {
     "name": "stdout",
     "output_type": "stream",
     "text": [
      "[1, 2, 3, 4, 5, 6, 'python', [14, 'June', 2022], 100, 100, 100, 100, 'Chennai', 'Bengaluru', 'Hyderabad']\n"
     ]
    }
   ],
   "source": [
    "print(nums)"
   ]
  },
  {
   "cell_type": "code",
   "execution_count": 63,
   "id": "c8ac4e49",
   "metadata": {
    "ExecuteTime": {
     "end_time": "2022-06-14T17:49:53.617813Z",
     "start_time": "2022-06-14T17:49:53.599863Z"
    }
   },
   "outputs": [
    {
     "data": {
      "text/plain": [
       "'Hyderabad'"
      ]
     },
     "execution_count": 63,
     "metadata": {},
     "output_type": "execute_result"
    }
   ],
   "source": [
    "nums[-1]"
   ]
  },
  {
   "cell_type": "code",
   "execution_count": 64,
   "id": "266a6dbc",
   "metadata": {
    "ExecuteTime": {
     "end_time": "2022-06-14T17:50:09.056984Z",
     "start_time": "2022-06-14T17:50:09.044016Z"
    }
   },
   "outputs": [
    {
     "data": {
      "text/plain": [
       "'Bengaluru'"
      ]
     },
     "execution_count": 64,
     "metadata": {},
     "output_type": "execute_result"
    }
   ],
   "source": [
    "nums[-2]"
   ]
  },
  {
   "cell_type": "code",
   "execution_count": 65,
   "id": "bec5f6c0",
   "metadata": {
    "ExecuteTime": {
     "end_time": "2022-06-14T17:50:19.093295Z",
     "start_time": "2022-06-14T17:50:19.080330Z"
    }
   },
   "outputs": [
    {
     "data": {
      "text/plain": [
       "'Chennai'"
      ]
     },
     "execution_count": 65,
     "metadata": {},
     "output_type": "execute_result"
    }
   ],
   "source": [
    "nums[-3]"
   ]
  },
  {
   "cell_type": "code",
   "execution_count": 66,
   "id": "b255a83f",
   "metadata": {
    "ExecuteTime": {
     "end_time": "2022-06-14T17:50:42.534312Z",
     "start_time": "2022-06-14T17:50:42.518326Z"
    }
   },
   "outputs": [
    {
     "name": "stdout",
     "output_type": "stream",
     "text": [
      "[1, 2, 3, 4, 5, 6, 'python', [14, 'June', 2022], 100, 100, 100, 100, 'Chennai', 'Bengaluru', 'Hyderabad']\n"
     ]
    }
   ],
   "source": [
    "print(nums)"
   ]
  },
  {
   "cell_type": "code",
   "execution_count": 67,
   "id": "bfdd82f4",
   "metadata": {
    "ExecuteTime": {
     "end_time": "2022-06-14T17:50:48.681916Z",
     "start_time": "2022-06-14T17:50:48.668923Z"
    }
   },
   "outputs": [],
   "source": [
    "# nums.insert(where,what)\n",
    "nums.insert(0,'ExcelR')"
   ]
  },
  {
   "cell_type": "code",
   "execution_count": 68,
   "id": "875675a7",
   "metadata": {
    "ExecuteTime": {
     "end_time": "2022-06-14T17:50:53.457808Z",
     "start_time": "2022-06-14T17:50:53.438828Z"
    }
   },
   "outputs": [
    {
     "name": "stdout",
     "output_type": "stream",
     "text": [
      "['ExcelR', 1, 2, 3, 4, 5, 6, 'python', [14, 'June', 2022], 100, 100, 100, 100, 'Chennai', 'Bengaluru', 'Hyderabad']\n"
     ]
    }
   ],
   "source": [
    "print(nums)"
   ]
  },
  {
   "cell_type": "code",
   "execution_count": 71,
   "id": "a6071e7a",
   "metadata": {
    "ExecuteTime": {
     "end_time": "2022-06-14T17:51:23.635888Z",
     "start_time": "2022-06-14T17:51:23.617935Z"
    }
   },
   "outputs": [],
   "source": [
    "nums.insert(14,'Delhi')"
   ]
  },
  {
   "cell_type": "code",
   "execution_count": 72,
   "id": "5f9a27cf",
   "metadata": {
    "ExecuteTime": {
     "end_time": "2022-06-14T17:51:26.209142Z",
     "start_time": "2022-06-14T17:51:26.202161Z"
    }
   },
   "outputs": [
    {
     "name": "stdout",
     "output_type": "stream",
     "text": [
      "['ExcelR', 1, 2, 3, 4, 5, 6, 'python', [14, 'June', 2022], 100, 100, 'Delhi', 100, 100, 'Delhi', 'Chennai', 'Bengaluru', 'Hyderabad']\n"
     ]
    }
   ],
   "source": [
    "print(nums)"
   ]
  },
  {
   "cell_type": "code",
   "execution_count": 73,
   "id": "fab7b46d",
   "metadata": {
    "ExecuteTime": {
     "end_time": "2022-06-14T17:51:44.459265Z",
     "start_time": "2022-06-14T17:51:44.440314Z"
    }
   },
   "outputs": [],
   "source": [
    "nums.insert(16,'Kochi')"
   ]
  },
  {
   "cell_type": "code",
   "execution_count": 74,
   "id": "2bf76e4e",
   "metadata": {
    "ExecuteTime": {
     "end_time": "2022-06-14T17:51:47.419051Z",
     "start_time": "2022-06-14T17:51:47.404090Z"
    }
   },
   "outputs": [
    {
     "name": "stdout",
     "output_type": "stream",
     "text": [
      "['ExcelR', 1, 2, 3, 4, 5, 6, 'python', [14, 'June', 2022], 100, 100, 'Delhi', 100, 100, 'Delhi', 'Chennai', 'Kochi', 'Bengaluru', 'Hyderabad']\n"
     ]
    }
   ],
   "source": [
    "print(nums)"
   ]
  },
  {
   "cell_type": "code",
   "execution_count": 75,
   "id": "8519b444",
   "metadata": {
    "ExecuteTime": {
     "end_time": "2022-06-14T17:51:52.802887Z",
     "start_time": "2022-06-14T17:51:52.785931Z"
    }
   },
   "outputs": [],
   "source": [
    "nums[8].insert(1,'Tuesday')"
   ]
  },
  {
   "cell_type": "code",
   "execution_count": 76,
   "id": "09a9fda4",
   "metadata": {
    "ExecuteTime": {
     "end_time": "2022-06-14T17:51:56.692728Z",
     "start_time": "2022-06-14T17:51:56.679763Z"
    }
   },
   "outputs": [
    {
     "name": "stdout",
     "output_type": "stream",
     "text": [
      "['ExcelR', 1, 2, 3, 4, 5, 6, 'python', [14, 'Tuesday', 'June', 2022], 100, 100, 'Delhi', 100, 100, 'Delhi', 'Chennai', 'Kochi', 'Bengaluru', 'Hyderabad']\n"
     ]
    }
   ],
   "source": [
    "print(nums)"
   ]
  },
  {
   "cell_type": "code",
   "execution_count": 77,
   "id": "8ce894f4",
   "metadata": {
    "ExecuteTime": {
     "end_time": "2022-06-14T17:52:04.810509Z",
     "start_time": "2022-06-14T17:52:04.797543Z"
    }
   },
   "outputs": [],
   "source": [
    "nums.remove(4)"
   ]
  },
  {
   "cell_type": "code",
   "execution_count": 78,
   "id": "82dedd02",
   "metadata": {
    "ExecuteTime": {
     "end_time": "2022-06-14T17:52:06.799078Z",
     "start_time": "2022-06-14T17:52:06.782096Z"
    },
    "scrolled": true
   },
   "outputs": [
    {
     "name": "stdout",
     "output_type": "stream",
     "text": [
      "['ExcelR', 1, 2, 3, 5, 6, 'python', [14, 'Tuesday', 'June', 2022], 100, 100, 'Delhi', 100, 100, 'Delhi', 'Chennai', 'Kochi', 'Bengaluru', 'Hyderabad']\n"
     ]
    }
   ],
   "source": [
    "print(nums)"
   ]
  },
  {
   "cell_type": "code",
   "execution_count": 79,
   "id": "70fbde6e",
   "metadata": {
    "ExecuteTime": {
     "end_time": "2022-06-14T17:53:35.223719Z",
     "start_time": "2022-06-14T17:53:35.213746Z"
    }
   },
   "outputs": [],
   "source": [
    "# Remove  : remove,pop"
   ]
  },
  {
   "cell_type": "code",
   "execution_count": 82,
   "id": "9d92ec68",
   "metadata": {
    "ExecuteTime": {
     "end_time": "2022-06-14T17:54:21.401578Z",
     "start_time": "2022-06-14T17:54:21.384654Z"
    }
   },
   "outputs": [],
   "source": [
    "nums.remove('Bengaluru')"
   ]
  },
  {
   "cell_type": "code",
   "execution_count": 83,
   "id": "43743163",
   "metadata": {
    "ExecuteTime": {
     "end_time": "2022-06-14T17:54:24.004834Z",
     "start_time": "2022-06-14T17:54:23.998850Z"
    }
   },
   "outputs": [
    {
     "name": "stdout",
     "output_type": "stream",
     "text": [
      "['ExcelR', 1, 2, 3, 5, 6, 'python', [14, 'Tuesday', 'June', 2022], 100, 100, 'Delhi', 100, 100, 'Delhi', 'Chennai', 'Kochi', 'Hyderabad']\n"
     ]
    }
   ],
   "source": [
    "print(nums)"
   ]
  },
  {
   "cell_type": "code",
   "execution_count": 84,
   "id": "baafc5c4",
   "metadata": {
    "ExecuteTime": {
     "end_time": "2022-06-14T17:54:41.754220Z",
     "start_time": "2022-06-14T17:54:41.745241Z"
    }
   },
   "outputs": [],
   "source": [
    "nums.remove('Kochi')"
   ]
  },
  {
   "cell_type": "code",
   "execution_count": 85,
   "id": "d5c8eea4",
   "metadata": {
    "ExecuteTime": {
     "end_time": "2022-06-14T17:54:45.000961Z",
     "start_time": "2022-06-14T17:54:44.980018Z"
    }
   },
   "outputs": [
    {
     "name": "stdout",
     "output_type": "stream",
     "text": [
      "['ExcelR', 1, 2, 3, 5, 6, 'python', [14, 'Tuesday', 'June', 2022], 100, 100, 'Delhi', 100, 100, 'Delhi', 'Chennai', 'Hyderabad']\n"
     ]
    }
   ],
   "source": [
    "print(nums)"
   ]
  },
  {
   "cell_type": "code",
   "execution_count": 86,
   "id": "a6d0a295",
   "metadata": {
    "ExecuteTime": {
     "end_time": "2022-06-14T17:55:07.092115Z",
     "start_time": "2022-06-14T17:55:07.074160Z"
    }
   },
   "outputs": [
    {
     "data": {
      "text/plain": [
       "'ExcelR'"
      ]
     },
     "execution_count": 86,
     "metadata": {},
     "output_type": "execute_result"
    }
   ],
   "source": [
    "nums.pop(0)"
   ]
  },
  {
   "cell_type": "code",
   "execution_count": 87,
   "id": "97d928ce",
   "metadata": {
    "ExecuteTime": {
     "end_time": "2022-06-14T17:55:12.335556Z",
     "start_time": "2022-06-14T17:55:12.326583Z"
    }
   },
   "outputs": [
    {
     "name": "stdout",
     "output_type": "stream",
     "text": [
      "[1, 2, 3, 5, 6, 'python', [14, 'Tuesday', 'June', 2022], 100, 100, 'Delhi', 100, 100, 'Delhi', 'Chennai', 'Hyderabad']\n"
     ]
    }
   ],
   "source": [
    "print(nums)"
   ]
  },
  {
   "cell_type": "code",
   "execution_count": 88,
   "id": "c06c0908",
   "metadata": {
    "ExecuteTime": {
     "end_time": "2022-06-14T17:55:16.927362Z",
     "start_time": "2022-06-14T17:55:16.909410Z"
    },
    "scrolled": true
   },
   "outputs": [
    {
     "data": {
      "text/plain": [
       "'Hyderabad'"
      ]
     },
     "execution_count": 88,
     "metadata": {},
     "output_type": "execute_result"
    }
   ],
   "source": [
    "nums.pop()"
   ]
  },
  {
   "cell_type": "code",
   "execution_count": 89,
   "id": "169243cd",
   "metadata": {
    "ExecuteTime": {
     "end_time": "2022-06-14T17:55:20.879126Z",
     "start_time": "2022-06-14T17:55:20.859175Z"
    }
   },
   "outputs": [
    {
     "name": "stdout",
     "output_type": "stream",
     "text": [
      "[1, 2, 3, 5, 6, 'python', [14, 'Tuesday', 'June', 2022], 100, 100, 'Delhi', 100, 100, 'Delhi', 'Chennai']\n"
     ]
    }
   ],
   "source": [
    "print(nums)"
   ]
  },
  {
   "cell_type": "code",
   "execution_count": 90,
   "id": "53409bfd",
   "metadata": {
    "ExecuteTime": {
     "end_time": "2022-06-14T17:55:42.213514Z",
     "start_time": "2022-06-14T17:55:42.194563Z"
    }
   },
   "outputs": [
    {
     "data": {
      "text/plain": [
       "'Chennai'"
      ]
     },
     "execution_count": 90,
     "metadata": {},
     "output_type": "execute_result"
    }
   ],
   "source": [
    "nums.pop()"
   ]
  },
  {
   "cell_type": "code",
   "execution_count": 94,
   "id": "3543dc00",
   "metadata": {
    "ExecuteTime": {
     "end_time": "2022-06-14T17:57:26.621840Z",
     "start_time": "2022-06-14T17:57:26.592886Z"
    }
   },
   "outputs": [
    {
     "ename": "ValueError",
     "evalue": "list.remove(x): x not in list",
     "output_type": "error",
     "traceback": [
      "\u001b[1;31m---------------------------------------------------------------------------\u001b[0m",
      "\u001b[1;31mValueError\u001b[0m                                Traceback (most recent call last)",
      "\u001b[1;32m~\\AppData\\Local\\Temp/ipykernel_5012/3998726064.py\u001b[0m in \u001b[0;36m<module>\u001b[1;34m\u001b[0m\n\u001b[0;32m      1\u001b[0m \u001b[1;32mfor\u001b[0m \u001b[0mx\u001b[0m \u001b[1;32min\u001b[0m \u001b[1;33m[\u001b[0m\u001b[1;34m'Delhi'\u001b[0m\u001b[1;33m,\u001b[0m\u001b[1;34m'Chennai'\u001b[0m\u001b[1;33m]\u001b[0m\u001b[1;33m:\u001b[0m\u001b[1;33m\u001b[0m\u001b[1;33m\u001b[0m\u001b[0m\n\u001b[1;32m----> 2\u001b[1;33m     \u001b[0mnums\u001b[0m\u001b[1;33m.\u001b[0m\u001b[0mremove\u001b[0m\u001b[1;33m(\u001b[0m\u001b[0mx\u001b[0m\u001b[1;33m)\u001b[0m\u001b[1;33m\u001b[0m\u001b[1;33m\u001b[0m\u001b[0m\n\u001b[0m",
      "\u001b[1;31mValueError\u001b[0m: list.remove(x): x not in list"
     ]
    }
   ],
   "source": [
    "for x in ['Delhi','Chennai']:\n",
    "    nums.remove(x)"
   ]
  },
  {
   "cell_type": "code",
   "execution_count": 95,
   "id": "1016838d",
   "metadata": {
    "ExecuteTime": {
     "end_time": "2022-06-14T17:58:00.397138Z",
     "start_time": "2022-06-14T17:58:00.375192Z"
    },
    "scrolled": false
   },
   "outputs": [
    {
     "data": {
      "text/plain": [
       "[1, 2, 3, 5, 6, 'python', [14, 'Tuesday', 'June', 2022], 100, 100, 100, 100]"
      ]
     },
     "execution_count": 95,
     "metadata": {},
     "output_type": "execute_result"
    }
   ],
   "source": [
    "nums"
   ]
  },
  {
   "cell_type": "code",
   "execution_count": 96,
   "id": "29f8622f",
   "metadata": {
    "ExecuteTime": {
     "end_time": "2022-06-14T17:58:22.501533Z",
     "start_time": "2022-06-14T17:58:22.494550Z"
    }
   },
   "outputs": [],
   "source": [
    "nums.append('Cochin')"
   ]
  },
  {
   "cell_type": "code",
   "execution_count": 97,
   "id": "f749fe3a",
   "metadata": {
    "ExecuteTime": {
     "end_time": "2022-06-14T17:58:25.095027Z",
     "start_time": "2022-06-14T17:58:25.078071Z"
    }
   },
   "outputs": [
    {
     "name": "stdout",
     "output_type": "stream",
     "text": [
      "[1, 2, 3, 5, 6, 'python', [14, 'Tuesday', 'June', 2022], 100, 100, 100, 100, 'Cochin']\n"
     ]
    }
   ],
   "source": [
    "print(nums)"
   ]
  },
  {
   "cell_type": "code",
   "execution_count": 98,
   "id": "d41b6705",
   "metadata": {
    "ExecuteTime": {
     "end_time": "2022-06-14T17:58:39.355297Z",
     "start_time": "2022-06-14T17:58:39.340306Z"
    }
   },
   "outputs": [],
   "source": [
    "nums=[1,22,3,13,4,45,1236,7,7,88,8]"
   ]
  },
  {
   "cell_type": "code",
   "execution_count": 99,
   "id": "11d4b2e0",
   "metadata": {
    "ExecuteTime": {
     "end_time": "2022-06-14T17:58:43.553594Z",
     "start_time": "2022-06-14T17:58:43.538609Z"
    }
   },
   "outputs": [
    {
     "data": {
      "text/plain": [
       "[8, 88, 7, 7, 1236, 45, 4, 13, 3, 22, 1]"
      ]
     },
     "execution_count": 99,
     "metadata": {},
     "output_type": "execute_result"
    }
   ],
   "source": [
    "nums.reverse()\n",
    "nums"
   ]
  },
  {
   "cell_type": "code",
   "execution_count": 100,
   "id": "f78412d0",
   "metadata": {
    "ExecuteTime": {
     "end_time": "2022-06-14T17:58:49.993802Z",
     "start_time": "2022-06-14T17:58:49.979841Z"
    }
   },
   "outputs": [
    {
     "data": {
      "text/plain": [
       "[1, 3, 4, 7, 7, 8, 13, 22, 45, 88, 1236]"
      ]
     },
     "execution_count": 100,
     "metadata": {},
     "output_type": "execute_result"
    }
   ],
   "source": [
    "nums.sort()\n",
    "nums"
   ]
  },
  {
   "cell_type": "code",
   "execution_count": 101,
   "id": "bd32ff31",
   "metadata": {
    "ExecuteTime": {
     "end_time": "2022-06-14T17:58:52.611955Z",
     "start_time": "2022-06-14T17:58:52.591978Z"
    }
   },
   "outputs": [
    {
     "data": {
      "text/plain": [
       "[1236, 88, 45, 22, 13, 8, 7, 7, 4, 3, 1]"
      ]
     },
     "execution_count": 101,
     "metadata": {},
     "output_type": "execute_result"
    }
   ],
   "source": [
    "nums.sort(reverse=True)\n",
    "nums"
   ]
  },
  {
   "cell_type": "code",
   "execution_count": 102,
   "id": "661c7bfe",
   "metadata": {
    "ExecuteTime": {
     "end_time": "2022-06-14T17:59:26.059792Z",
     "start_time": "2022-06-14T17:59:26.053810Z"
    }
   },
   "outputs": [],
   "source": [
    "# append,extend,insert,remove,pop,reverse,pop\n",
    "# Copy,clear,count,index"
   ]
  },
  {
   "cell_type": "code",
   "execution_count": 103,
   "id": "8c75e085",
   "metadata": {
    "ExecuteTime": {
     "end_time": "2022-06-14T17:59:45.058346Z",
     "start_time": "2022-06-14T17:59:45.048373Z"
    }
   },
   "outputs": [
    {
     "data": {
      "text/plain": [
       "[1236, 88, 45, 22, 13, 8, 7, 7, 4, 3, 1]"
      ]
     },
     "execution_count": 103,
     "metadata": {},
     "output_type": "execute_result"
    }
   ],
   "source": [
    "nums"
   ]
  },
  {
   "cell_type": "code",
   "execution_count": 104,
   "id": "20f3d448",
   "metadata": {
    "ExecuteTime": {
     "end_time": "2022-06-14T18:00:36.856201Z",
     "start_time": "2022-06-14T18:00:36.834264Z"
    }
   },
   "outputs": [
    {
     "data": {
      "text/plain": [
       "3"
      ]
     },
     "execution_count": 104,
     "metadata": {},
     "output_type": "execute_result"
    }
   ],
   "source": [
    "nums.index(22)"
   ]
  },
  {
   "cell_type": "code",
   "execution_count": 105,
   "id": "db7837d6",
   "metadata": {
    "ExecuteTime": {
     "end_time": "2022-06-14T18:00:41.022898Z",
     "start_time": "2022-06-14T18:00:40.996939Z"
    }
   },
   "outputs": [
    {
     "data": {
      "text/plain": [
       "1"
      ]
     },
     "execution_count": 105,
     "metadata": {},
     "output_type": "execute_result"
    }
   ],
   "source": [
    "nums.count(8)"
   ]
  },
  {
   "cell_type": "code",
   "execution_count": 107,
   "id": "67c3b543",
   "metadata": {
    "ExecuteTime": {
     "end_time": "2022-06-14T18:06:19.064258Z",
     "start_time": "2022-06-14T18:06:19.053258Z"
    }
   },
   "outputs": [],
   "source": [
    "nums.clear()"
   ]
  },
  {
   "cell_type": "code",
   "execution_count": 108,
   "id": "1c208607",
   "metadata": {
    "ExecuteTime": {
     "end_time": "2022-06-14T18:06:21.416467Z",
     "start_time": "2022-06-14T18:06:21.407490Z"
    }
   },
   "outputs": [
    {
     "data": {
      "text/plain": [
       "[]"
      ]
     },
     "execution_count": 108,
     "metadata": {},
     "output_type": "execute_result"
    }
   ],
   "source": [
    "nums"
   ]
  },
  {
   "cell_type": "code",
   "execution_count": 109,
   "id": "e72bfef9",
   "metadata": {
    "ExecuteTime": {
     "end_time": "2022-06-14T18:06:26.657592Z",
     "start_time": "2022-06-14T18:06:26.645627Z"
    }
   },
   "outputs": [],
   "source": [
    "# what is the difference between shallow copy and deep copy\n",
    "nums=[1,2,3,4,5]"
   ]
  },
  {
   "cell_type": "code",
   "execution_count": 110,
   "id": "60019999",
   "metadata": {
    "ExecuteTime": {
     "end_time": "2022-06-14T18:06:37.979248Z",
     "start_time": "2022-06-14T18:06:37.966284Z"
    }
   },
   "outputs": [],
   "source": [
    "nums_backup=nums"
   ]
  },
  {
   "cell_type": "code",
   "execution_count": 111,
   "id": "d03e9602",
   "metadata": {
    "ExecuteTime": {
     "end_time": "2022-06-14T18:06:44.036943Z",
     "start_time": "2022-06-14T18:06:44.012008Z"
    }
   },
   "outputs": [
    {
     "data": {
      "text/plain": [
       "[1, 2, 3, 4, 5]"
      ]
     },
     "execution_count": 111,
     "metadata": {},
     "output_type": "execute_result"
    }
   ],
   "source": [
    "nums_backup"
   ]
  },
  {
   "cell_type": "code",
   "execution_count": 112,
   "id": "91a7411f",
   "metadata": {
    "ExecuteTime": {
     "end_time": "2022-06-14T18:06:49.005042Z",
     "start_time": "2022-06-14T18:06:48.995035Z"
    }
   },
   "outputs": [],
   "source": [
    "nums.extend([100,200,300])"
   ]
  },
  {
   "cell_type": "code",
   "execution_count": 113,
   "id": "5915452d",
   "metadata": {
    "ExecuteTime": {
     "end_time": "2022-06-14T18:06:58.617156Z",
     "start_time": "2022-06-14T18:06:58.608180Z"
    }
   },
   "outputs": [
    {
     "data": {
      "text/plain": [
       "[1, 2, 3, 4, 5, 100, 200, 300]"
      ]
     },
     "execution_count": 113,
     "metadata": {},
     "output_type": "execute_result"
    }
   ],
   "source": [
    "nums"
   ]
  },
  {
   "cell_type": "code",
   "execution_count": 114,
   "id": "172d0f58",
   "metadata": {
    "ExecuteTime": {
     "end_time": "2022-06-14T18:07:03.695617Z",
     "start_time": "2022-06-14T18:07:03.684643Z"
    }
   },
   "outputs": [
    {
     "data": {
      "text/plain": [
       "[1, 2, 3, 4, 5, 100, 200, 300]"
      ]
     },
     "execution_count": 114,
     "metadata": {},
     "output_type": "execute_result"
    }
   ],
   "source": [
    "nums_backup"
   ]
  },
  {
   "cell_type": "code",
   "execution_count": 115,
   "id": "815d2657",
   "metadata": {
    "ExecuteTime": {
     "end_time": "2022-06-14T18:07:11.010077Z",
     "start_time": "2022-06-14T18:07:10.994089Z"
    }
   },
   "outputs": [],
   "source": [
    "nums_backup.insert(0,'Hello')"
   ]
  },
  {
   "cell_type": "code",
   "execution_count": 116,
   "id": "3be1f3df",
   "metadata": {
    "ExecuteTime": {
     "end_time": "2022-06-14T18:07:24.198074Z",
     "start_time": "2022-06-14T18:07:24.184081Z"
    }
   },
   "outputs": [
    {
     "data": {
      "text/plain": [
       "['Hello', 1, 2, 3, 4, 5, 100, 200, 300]"
      ]
     },
     "execution_count": 116,
     "metadata": {},
     "output_type": "execute_result"
    }
   ],
   "source": [
    "nums_backup"
   ]
  },
  {
   "cell_type": "code",
   "execution_count": 117,
   "id": "97da179e",
   "metadata": {
    "ExecuteTime": {
     "end_time": "2022-06-14T18:07:47.494941Z",
     "start_time": "2022-06-14T18:07:47.475988Z"
    }
   },
   "outputs": [
    {
     "data": {
      "text/plain": [
       "['Hello', 1, 2, 3, 4, 5, 100, 200, 300]"
      ]
     },
     "execution_count": 117,
     "metadata": {},
     "output_type": "execute_result"
    }
   ],
   "source": [
    "nums"
   ]
  },
  {
   "cell_type": "code",
   "execution_count": 113,
   "id": "7918bca4",
   "metadata": {
    "ExecuteTime": {
     "end_time": "2022-06-14T03:42:07.709822Z",
     "start_time": "2022-06-14T03:42:07.696856Z"
    }
   },
   "outputs": [
    {
     "data": {
      "text/plain": [
       "2172278551232"
      ]
     },
     "execution_count": 113,
     "metadata": {},
     "output_type": "execute_result"
    }
   ],
   "source": [
    "id(nums)"
   ]
  },
  {
   "cell_type": "code",
   "execution_count": 114,
   "id": "824b7c5f",
   "metadata": {
    "ExecuteTime": {
     "end_time": "2022-06-14T03:42:19.037052Z",
     "start_time": "2022-06-14T03:42:19.015112Z"
    }
   },
   "outputs": [
    {
     "data": {
      "text/plain": [
       "2172278551232"
      ]
     },
     "execution_count": 114,
     "metadata": {},
     "output_type": "execute_result"
    }
   ],
   "source": [
    "id(nums_backup)"
   ]
  },
  {
   "cell_type": "code",
   "execution_count": 119,
   "id": "43782715",
   "metadata": {
    "ExecuteTime": {
     "end_time": "2022-06-14T18:08:37.359511Z",
     "start_time": "2022-06-14T18:08:37.349534Z"
    }
   },
   "outputs": [],
   "source": [
    "ages=[20,25,[26,27],30,35,40]"
   ]
  },
  {
   "cell_type": "code",
   "execution_count": 120,
   "id": "387cbb38",
   "metadata": {
    "ExecuteTime": {
     "end_time": "2022-06-14T18:08:50.365913Z",
     "start_time": "2022-06-14T18:08:50.359932Z"
    }
   },
   "outputs": [],
   "source": [
    "ages_backup=ages.copy()"
   ]
  },
  {
   "cell_type": "code",
   "execution_count": 121,
   "id": "7e93c6a9",
   "metadata": {
    "ExecuteTime": {
     "end_time": "2022-06-14T18:08:59.812282Z",
     "start_time": "2022-06-14T18:08:59.790340Z"
    }
   },
   "outputs": [
    {
     "data": {
      "text/plain": [
       "[20, 25, [26, 27], 30, 35, 40]"
      ]
     },
     "execution_count": 121,
     "metadata": {},
     "output_type": "execute_result"
    }
   ],
   "source": [
    "ages "
   ]
  },
  {
   "cell_type": "code",
   "execution_count": 122,
   "id": "4adbcedb",
   "metadata": {
    "ExecuteTime": {
     "end_time": "2022-06-14T18:09:11.047249Z",
     "start_time": "2022-06-14T18:09:11.031257Z"
    }
   },
   "outputs": [],
   "source": [
    "ages_bkup=ages.copy()"
   ]
  },
  {
   "cell_type": "code",
   "execution_count": 123,
   "id": "d7c82f79",
   "metadata": {
    "ExecuteTime": {
     "end_time": "2022-06-14T18:09:35.103686Z",
     "start_time": "2022-06-14T18:09:35.085736Z"
    }
   },
   "outputs": [
    {
     "data": {
      "text/plain": [
       "[20, 25, [26, 27], 30, 35, 40]"
      ]
     },
     "execution_count": 123,
     "metadata": {},
     "output_type": "execute_result"
    }
   ],
   "source": [
    "ages"
   ]
  },
  {
   "cell_type": "code",
   "execution_count": 124,
   "id": "5b53b206",
   "metadata": {
    "ExecuteTime": {
     "end_time": "2022-06-14T18:09:52.303927Z",
     "start_time": "2022-06-14T18:09:52.289963Z"
    }
   },
   "outputs": [
    {
     "data": {
      "text/plain": [
       "[20, 25, [26, 27], 30, 35, 40]"
      ]
     },
     "execution_count": 124,
     "metadata": {},
     "output_type": "execute_result"
    }
   ],
   "source": [
    "ages_bkup"
   ]
  },
  {
   "cell_type": "code",
   "execution_count": 117,
   "id": "c3b08d80",
   "metadata": {
    "ExecuteTime": {
     "end_time": "2022-06-14T03:44:52.997388Z",
     "start_time": "2022-06-14T03:44:52.982427Z"
    }
   },
   "outputs": [],
   "source": [
    "ages.append(100)"
   ]
  },
  {
   "cell_type": "code",
   "execution_count": 125,
   "id": "1ca0a0df",
   "metadata": {
    "ExecuteTime": {
     "end_time": "2022-06-14T18:10:04.224243Z",
     "start_time": "2022-06-14T18:10:04.203271Z"
    }
   },
   "outputs": [
    {
     "data": {
      "text/plain": [
       "2078551483008"
      ]
     },
     "execution_count": 125,
     "metadata": {},
     "output_type": "execute_result"
    }
   ],
   "source": [
    "id(ages)"
   ]
  },
  {
   "cell_type": "code",
   "execution_count": 126,
   "id": "677f5a15",
   "metadata": {
    "ExecuteTime": {
     "end_time": "2022-06-14T18:10:19.282658Z",
     "start_time": "2022-06-14T18:10:19.262711Z"
    }
   },
   "outputs": [
    {
     "data": {
      "text/plain": [
       "2078551400704"
      ]
     },
     "execution_count": 126,
     "metadata": {},
     "output_type": "execute_result"
    }
   ],
   "source": [
    "id(ages_bkup)"
   ]
  },
  {
   "cell_type": "code",
   "execution_count": 127,
   "id": "a075f25a",
   "metadata": {
    "ExecuteTime": {
     "end_time": "2022-06-14T18:10:32.957913Z",
     "start_time": "2022-06-14T18:10:32.940960Z"
    }
   },
   "outputs": [],
   "source": [
    "ages.append(100)"
   ]
  },
  {
   "cell_type": "code",
   "execution_count": 128,
   "id": "6f3e47f4",
   "metadata": {
    "ExecuteTime": {
     "end_time": "2022-06-14T18:10:51.170950Z",
     "start_time": "2022-06-14T18:10:51.149967Z"
    }
   },
   "outputs": [
    {
     "data": {
      "text/plain": [
       "[20, 25, [26, 27], 30, 35, 40, 100]"
      ]
     },
     "execution_count": 128,
     "metadata": {},
     "output_type": "execute_result"
    }
   ],
   "source": [
    "ages "
   ]
  },
  {
   "cell_type": "code",
   "execution_count": 129,
   "id": "88350b1c",
   "metadata": {
    "ExecuteTime": {
     "end_time": "2022-06-14T18:11:00.951029Z",
     "start_time": "2022-06-14T18:11:00.927096Z"
    }
   },
   "outputs": [
    {
     "data": {
      "text/plain": [
       "[20, 25, [26, 27], 30, 35, 40]"
      ]
     },
     "execution_count": 129,
     "metadata": {},
     "output_type": "execute_result"
    }
   ],
   "source": [
    "ages_bkup"
   ]
  },
  {
   "cell_type": "code",
   "execution_count": 130,
   "id": "a5fb2232",
   "metadata": {
    "ExecuteTime": {
     "end_time": "2022-06-14T18:11:17.980997Z",
     "start_time": "2022-06-14T18:11:17.968035Z"
    }
   },
   "outputs": [],
   "source": [
    "ages_bkup.append(99)"
   ]
  },
  {
   "cell_type": "code",
   "execution_count": 131,
   "id": "af706e41",
   "metadata": {
    "ExecuteTime": {
     "end_time": "2022-06-14T18:11:26.089132Z",
     "start_time": "2022-06-14T18:11:26.076167Z"
    }
   },
   "outputs": [
    {
     "data": {
      "text/plain": [
       "[20, 25, [26, 27], 30, 35, 40, 99]"
      ]
     },
     "execution_count": 131,
     "metadata": {},
     "output_type": "execute_result"
    }
   ],
   "source": [
    "ages_bkup"
   ]
  },
  {
   "cell_type": "code",
   "execution_count": 132,
   "id": "27fa960d",
   "metadata": {
    "ExecuteTime": {
     "end_time": "2022-06-14T18:11:35.226906Z",
     "start_time": "2022-06-14T18:11:35.202968Z"
    }
   },
   "outputs": [
    {
     "data": {
      "text/plain": [
       "[20, 25, [26, 27], 30, 35, 40, 100]"
      ]
     },
     "execution_count": 132,
     "metadata": {},
     "output_type": "execute_result"
    }
   ],
   "source": [
    "ages"
   ]
  },
  {
   "cell_type": "code",
   "execution_count": 133,
   "id": "88440a18",
   "metadata": {
    "ExecuteTime": {
     "end_time": "2022-06-14T18:11:48.976918Z",
     "start_time": "2022-06-14T18:11:48.968941Z"
    }
   },
   "outputs": [],
   "source": [
    "ages[2].append(28)"
   ]
  },
  {
   "cell_type": "code",
   "execution_count": 134,
   "id": "3f5ac97e",
   "metadata": {
    "ExecuteTime": {
     "end_time": "2022-06-14T18:11:58.205603Z",
     "start_time": "2022-06-14T18:11:58.190645Z"
    }
   },
   "outputs": [
    {
     "data": {
      "text/plain": [
       "[20, 25, [26, 27, 28], 30, 35, 40, 100]"
      ]
     },
     "execution_count": 134,
     "metadata": {},
     "output_type": "execute_result"
    }
   ],
   "source": [
    "ages"
   ]
  },
  {
   "cell_type": "code",
   "execution_count": 135,
   "id": "fd1b482c",
   "metadata": {
    "ExecuteTime": {
     "end_time": "2022-06-14T18:12:07.479592Z",
     "start_time": "2022-06-14T18:12:07.463603Z"
    }
   },
   "outputs": [
    {
     "data": {
      "text/plain": [
       "[20, 25, [26, 27, 28], 30, 35, 40, 99]"
      ]
     },
     "execution_count": 135,
     "metadata": {},
     "output_type": "execute_result"
    }
   ],
   "source": [
    "ages_bkup"
   ]
  },
  {
   "cell_type": "code",
   "execution_count": 136,
   "id": "7285559c",
   "metadata": {
    "ExecuteTime": {
     "end_time": "2022-06-14T18:12:12.637328Z",
     "start_time": "2022-06-14T18:12:12.619375Z"
    }
   },
   "outputs": [],
   "source": [
    "# Shallow vs Deep copy"
   ]
  },
  {
   "cell_type": "code",
   "execution_count": 137,
   "id": "327785ee",
   "metadata": {
    "ExecuteTime": {
     "end_time": "2022-06-14T18:12:15.682247Z",
     "start_time": "2022-06-14T18:12:15.664319Z"
    }
   },
   "outputs": [],
   "source": [
    "nums=[1,2,[3,4],5]"
   ]
  },
  {
   "cell_type": "code",
   "execution_count": 138,
   "id": "71f7d03d",
   "metadata": {
    "ExecuteTime": {
     "end_time": "2022-06-14T18:12:18.041412Z",
     "start_time": "2022-06-14T18:12:18.033431Z"
    }
   },
   "outputs": [],
   "source": [
    "import copy "
   ]
  },
  {
   "cell_type": "code",
   "execution_count": 139,
   "id": "607e4e36",
   "metadata": {
    "ExecuteTime": {
     "end_time": "2022-06-14T18:12:31.778037Z",
     "start_time": "2022-06-14T18:12:31.767036Z"
    }
   },
   "outputs": [],
   "source": [
    "nums_s=copy.copy(nums)  # Shallow copy"
   ]
  },
  {
   "cell_type": "code",
   "execution_count": 140,
   "id": "34018bdd",
   "metadata": {
    "ExecuteTime": {
     "end_time": "2022-06-14T18:12:53.051830Z",
     "start_time": "2022-06-14T18:12:53.030887Z"
    }
   },
   "outputs": [
    {
     "data": {
      "text/plain": [
       "[1, 2, [3, 4], 5]"
      ]
     },
     "execution_count": 140,
     "metadata": {},
     "output_type": "execute_result"
    }
   ],
   "source": [
    "nums"
   ]
  },
  {
   "cell_type": "code",
   "execution_count": 141,
   "id": "206070cf",
   "metadata": {
    "ExecuteTime": {
     "end_time": "2022-06-14T18:13:02.003019Z",
     "start_time": "2022-06-14T18:13:01.981075Z"
    }
   },
   "outputs": [
    {
     "data": {
      "text/plain": [
       "[1, 2, [3, 4], 5]"
      ]
     },
     "execution_count": 141,
     "metadata": {},
     "output_type": "execute_result"
    }
   ],
   "source": [
    "nums_s"
   ]
  },
  {
   "cell_type": "code",
   "execution_count": 142,
   "id": "79d9de29",
   "metadata": {
    "ExecuteTime": {
     "end_time": "2022-06-14T18:13:15.656940Z",
     "start_time": "2022-06-14T18:13:15.643972Z"
    }
   },
   "outputs": [],
   "source": [
    "nums.append(6)"
   ]
  },
  {
   "cell_type": "code",
   "execution_count": 143,
   "id": "e0096c2d",
   "metadata": {
    "ExecuteTime": {
     "end_time": "2022-06-14T18:13:27.608550Z",
     "start_time": "2022-06-14T18:13:27.585611Z"
    }
   },
   "outputs": [
    {
     "data": {
      "text/plain": [
       "[1, 2, [3, 4], 5, 6]"
      ]
     },
     "execution_count": 143,
     "metadata": {},
     "output_type": "execute_result"
    }
   ],
   "source": [
    "nums"
   ]
  },
  {
   "cell_type": "code",
   "execution_count": 144,
   "id": "aa51e22e",
   "metadata": {
    "ExecuteTime": {
     "end_time": "2022-06-14T18:13:38.110450Z",
     "start_time": "2022-06-14T18:13:38.098483Z"
    }
   },
   "outputs": [
    {
     "data": {
      "text/plain": [
       "[1, 2, [3, 4], 5]"
      ]
     },
     "execution_count": 144,
     "metadata": {},
     "output_type": "execute_result"
    }
   ],
   "source": [
    "nums_s"
   ]
  },
  {
   "cell_type": "code",
   "execution_count": 145,
   "id": "dd250c4f",
   "metadata": {
    "ExecuteTime": {
     "end_time": "2022-06-14T18:13:46.790172Z",
     "start_time": "2022-06-14T18:13:46.774186Z"
    }
   },
   "outputs": [],
   "source": [
    "nums[2].insert(1,3.4)"
   ]
  },
  {
   "cell_type": "code",
   "execution_count": 146,
   "id": "55b53493",
   "metadata": {
    "ExecuteTime": {
     "end_time": "2022-06-14T18:13:49.550183Z",
     "start_time": "2022-06-14T18:13:49.529207Z"
    }
   },
   "outputs": [
    {
     "data": {
      "text/plain": [
       "[1, 2, [3, 3.4, 4], 5, 6]"
      ]
     },
     "execution_count": 146,
     "metadata": {},
     "output_type": "execute_result"
    }
   ],
   "source": [
    "nums "
   ]
  },
  {
   "cell_type": "code",
   "execution_count": 147,
   "id": "cbd1dbef",
   "metadata": {
    "ExecuteTime": {
     "end_time": "2022-06-14T18:13:56.275420Z",
     "start_time": "2022-06-14T18:13:56.254474Z"
    }
   },
   "outputs": [
    {
     "data": {
      "text/plain": [
       "[1, 2, [3, 3.4, 4], 5]"
      ]
     },
     "execution_count": 147,
     "metadata": {},
     "output_type": "execute_result"
    }
   ],
   "source": [
    "nums_s"
   ]
  },
  {
   "cell_type": "code",
   "execution_count": 148,
   "id": "8b4333ea",
   "metadata": {
    "ExecuteTime": {
     "end_time": "2022-06-14T18:14:08.702110Z",
     "start_time": "2022-06-14T18:14:08.681137Z"
    }
   },
   "outputs": [
    {
     "data": {
      "text/plain": [
       "[1, 2, [3, 3.4, 4], 5, 6]"
      ]
     },
     "execution_count": 148,
     "metadata": {},
     "output_type": "execute_result"
    }
   ],
   "source": [
    "nums"
   ]
  },
  {
   "cell_type": "code",
   "execution_count": 149,
   "id": "516f1e5d",
   "metadata": {
    "ExecuteTime": {
     "end_time": "2022-06-14T18:14:47.040436Z",
     "start_time": "2022-06-14T18:14:47.031458Z"
    }
   },
   "outputs": [],
   "source": [
    "nums.insert(-1,8)"
   ]
  },
  {
   "cell_type": "code",
   "execution_count": 150,
   "id": "ce1640ed",
   "metadata": {
    "ExecuteTime": {
     "end_time": "2022-06-14T18:14:49.376107Z",
     "start_time": "2022-06-14T18:14:49.362143Z"
    }
   },
   "outputs": [
    {
     "data": {
      "text/plain": [
       "[1, 2, [3, 3.4, 4], 5, 8, 6]"
      ]
     },
     "execution_count": 150,
     "metadata": {},
     "output_type": "execute_result"
    }
   ],
   "source": [
    "nums"
   ]
  },
  {
   "cell_type": "code",
   "execution_count": 151,
   "id": "46c92977",
   "metadata": {
    "ExecuteTime": {
     "end_time": "2022-06-14T18:14:51.720335Z",
     "start_time": "2022-06-14T18:14:51.698394Z"
    }
   },
   "outputs": [
    {
     "data": {
      "text/plain": [
       "[1, 2, [3, 3.4, 4], 5]"
      ]
     },
     "execution_count": 151,
     "metadata": {},
     "output_type": "execute_result"
    }
   ],
   "source": [
    "nums_s"
   ]
  },
  {
   "cell_type": "code",
   "execution_count": 152,
   "id": "4b023406",
   "metadata": {
    "ExecuteTime": {
     "end_time": "2022-06-14T18:14:56.931168Z",
     "start_time": "2022-06-14T18:14:56.914212Z"
    }
   },
   "outputs": [],
   "source": [
    "#Deep copy"
   ]
  },
  {
   "cell_type": "code",
   "execution_count": 153,
   "id": "cdfd267c",
   "metadata": {
    "ExecuteTime": {
     "end_time": "2022-06-14T18:15:01.624133Z",
     "start_time": "2022-06-14T18:15:01.610169Z"
    }
   },
   "outputs": [],
   "source": [
    "nums_d=copy.deepcopy(nums)"
   ]
  },
  {
   "cell_type": "code",
   "execution_count": 156,
   "id": "b20ccbcb",
   "metadata": {
    "ExecuteTime": {
     "end_time": "2022-06-14T18:15:37.779455Z",
     "start_time": "2022-06-14T18:15:37.761502Z"
    }
   },
   "outputs": [
    {
     "data": {
      "text/plain": [
       "[1, 2, [3, 4], 5]"
      ]
     },
     "execution_count": 156,
     "metadata": {},
     "output_type": "execute_result"
    }
   ],
   "source": [
    "nums=[1, 2, [3, 4], 5]\n",
    "nums"
   ]
  },
  {
   "cell_type": "code",
   "execution_count": 158,
   "id": "8cae5560",
   "metadata": {
    "ExecuteTime": {
     "end_time": "2022-06-14T18:16:00.772430Z",
     "start_time": "2022-06-14T18:16:00.749493Z"
    }
   },
   "outputs": [
    {
     "data": {
      "text/plain": [
       "[1, 2, [3, 4], 5]"
      ]
     },
     "execution_count": 158,
     "metadata": {},
     "output_type": "execute_result"
    }
   ],
   "source": [
    "nums_d=[1, 2, [3, 4], 5]\n",
    "nums_d"
   ]
  },
  {
   "cell_type": "code",
   "execution_count": 159,
   "id": "df6deeda",
   "metadata": {
    "ExecuteTime": {
     "end_time": "2022-06-14T18:16:07.965970Z",
     "start_time": "2022-06-14T18:16:07.955996Z"
    }
   },
   "outputs": [],
   "source": [
    "nums.append(6)"
   ]
  },
  {
   "cell_type": "code",
   "execution_count": 160,
   "id": "60ac8443",
   "metadata": {
    "ExecuteTime": {
     "end_time": "2022-06-14T18:16:15.468435Z",
     "start_time": "2022-06-14T18:16:15.449488Z"
    }
   },
   "outputs": [
    {
     "data": {
      "text/plain": [
       "[1, 2, [3, 4], 5, 6]"
      ]
     },
     "execution_count": 160,
     "metadata": {},
     "output_type": "execute_result"
    }
   ],
   "source": [
    "nums"
   ]
  },
  {
   "cell_type": "code",
   "execution_count": 161,
   "id": "8d8791ba",
   "metadata": {
    "ExecuteTime": {
     "end_time": "2022-06-14T18:16:24.121254Z",
     "start_time": "2022-06-14T18:16:24.097321Z"
    }
   },
   "outputs": [
    {
     "data": {
      "text/plain": [
       "[1, 2, [3, 4], 5]"
      ]
     },
     "execution_count": 161,
     "metadata": {},
     "output_type": "execute_result"
    }
   ],
   "source": [
    "nums_d"
   ]
  },
  {
   "cell_type": "code",
   "execution_count": 162,
   "id": "0956ddd5",
   "metadata": {
    "ExecuteTime": {
     "end_time": "2022-06-14T18:16:32.095668Z",
     "start_time": "2022-06-14T18:16:32.084696Z"
    }
   },
   "outputs": [],
   "source": [
    "nums[2].insert(1,3.5)"
   ]
  },
  {
   "cell_type": "code",
   "execution_count": 163,
   "id": "0aaab518",
   "metadata": {
    "ExecuteTime": {
     "end_time": "2022-06-14T18:16:40.968444Z",
     "start_time": "2022-06-14T18:16:40.947498Z"
    }
   },
   "outputs": [
    {
     "data": {
      "text/plain": [
       "[1, 2, [3, 3.5, 4], 5, 6]"
      ]
     },
     "execution_count": 163,
     "metadata": {},
     "output_type": "execute_result"
    }
   ],
   "source": [
    "nums "
   ]
  },
  {
   "cell_type": "code",
   "execution_count": 164,
   "id": "1ec50fa2",
   "metadata": {
    "ExecuteTime": {
     "end_time": "2022-06-14T18:16:48.539021Z",
     "start_time": "2022-06-14T18:16:48.531043Z"
    }
   },
   "outputs": [
    {
     "data": {
      "text/plain": [
       "[1, 2, [3, 4], 5]"
      ]
     },
     "execution_count": 164,
     "metadata": {},
     "output_type": "execute_result"
    }
   ],
   "source": [
    "nums_d"
   ]
  },
  {
   "cell_type": "code",
   "execution_count": null,
   "id": "fd22c49e",
   "metadata": {},
   "outputs": [],
   "source": []
  }
 ],
 "metadata": {
  "kernelspec": {
   "display_name": "Python 3 (ipykernel)",
   "language": "python",
   "name": "python3"
  },
  "language_info": {
   "codemirror_mode": {
    "name": "ipython",
    "version": 3
   },
   "file_extension": ".py",
   "mimetype": "text/x-python",
   "name": "python",
   "nbconvert_exporter": "python",
   "pygments_lexer": "ipython3",
   "version": "3.9.7"
  }
 },
 "nbformat": 4,
 "nbformat_minor": 5
}
